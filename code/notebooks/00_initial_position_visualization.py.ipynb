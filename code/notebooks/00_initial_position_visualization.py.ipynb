{
 "cells": [
  {
   "cell_type": "code",
   "execution_count": 9,
   "id": "initial_id",
   "metadata": {
    "ExecuteTime": {
     "end_time": "2025-09-05T18:09:09.918156Z",
     "start_time": "2025-09-05T18:08:57.357256Z"
    },
    "collapsed": true
   },
   "outputs": [],
   "source": [
    "# %% [markdown]\n",
    "# # 🚀 烟幕干扰弹投放策略可视化（Jupyter版）\n",
    "#\n",
    "# **功能概述**：\n",
    "# - 3D交互式战场场景\n",
    "# - 导弹威胁分析仪表板\n",
    "# - 动态飞行模拟动画\n",
    "\n",
    "# %%\n",
    "import numpy as np\n",
    "import plotly.graph_objects as go\n",
    "import plotly.express as px\n",
    "from plotly.subplots import make_subplots\n",
    "import pandas as pd\n",
    "from IPython.display import display, HTML"
   ]
  },
  {
   "cell_type": "code",
   "id": "6757a18c9d9a034b",
   "metadata": {
    "ExecuteTime": {
     "end_time": "2025-09-05T18:11:41.061550Z",
     "start_time": "2025-09-05T18:11:41.031189Z"
    }
   },
   "source": [
    "class SmokeScreenVisualizer:\n",
    "    def __init__(self):\n",
    "        \"\"\"初始化可视化器\"\"\"\n",
    "        # 定义所有位置数据\n",
    "        self.missiles = {\n",
    "            'M1': np.array([20000, 0, 2000]),\n",
    "            'M2': np.array([19000, 600, 2100]),\n",
    "            'M3': np.array([18000, -600, 1900])\n",
    "        }\n",
    "\n",
    "        self.drones = {\n",
    "            'FY1': np.array([17800, 0, 1800]),\n",
    "            'FY2': np.array([12000, 1400, 1400]),\n",
    "            'FY3': np.array([6000, -3000, 700]),\n",
    "            'FY4': np.array([11000, 2000, 1800]),\n",
    "            'FY5': np.array([13000, -2000, 1300])\n",
    "        }\n",
    "\n",
    "        self.fake_target = np.array([0, 0, 0])\n",
    "        self.real_target = np.array([0, 200, 0])\n",
    "\n",
    "        # 物理参数\n",
    "        self.missile_speed = 300  # m/s\n",
    "        self.drone_speed_range = (70, 140)  # m/s\n",
    "        self.smoke_sink_speed = 3  # m/s\n",
    "        self.smoke_radius = 10  # m\n",
    "        self.smoke_duration = 20  # s\n",
    "        self.target_radius = 7  # m\n",
    "        self.target_height = 10  # m\n",
    "\n",
    "    def create_interactive_3d_scene(self):\n",
    "        \"\"\"创建交互式3D场景\"\"\"\n",
    "        fig = go.Figure()\n",
    "\n",
    "        # 添加导弹\n",
    "        for name, pos in self.missiles.items():\n",
    "            fig.add_trace(go.Scatter3d(\n",
    "                x=[pos[0]], y=[pos[1]], z=[pos[2]],\n",
    "                mode='markers+text',\n",
    "                marker=dict(size=12, color='red', symbol='diamond'),\n",
    "                text=[name],\n",
    "                textposition=\"top center\",\n",
    "                name=f'导弹 {name}',\n",
    "                hovertemplate=f'<b>{name}</b><br>坐标: ({pos[0]}, {pos[1]}, {pos[2]})<br>速度: 300 m/s<extra></extra>'\n",
    "            ))\n",
    "\n",
    "        # 添加无人机\n",
    "        drone_colors = ['blue', 'cyan', 'navy', 'lightblue', 'darkblue']\n",
    "        for i, (name, pos) in enumerate(self.drones.items()):\n",
    "            fig.add_trace(go.Scatter3d(\n",
    "                x=[pos[0]], y=[pos[1]], z=[pos[2]],\n",
    "                mode='markers+text',\n",
    "                marker=dict(size=10, color=drone_colors[i], symbol='circle'),\n",
    "                text=[name],\n",
    "                textposition=\"top center\",\n",
    "                name=f'无人机 {name}',\n",
    "                hovertemplate=f'<b>{name}</b><br>坐标: ({pos[0]}, {pos[1]}, {pos[2]})<br>速度范围: 70-140 m/s<extra></extra>'\n",
    "            ))\n",
    "\n",
    "        # 添加假目标\n",
    "        fig.add_trace(go.Scatter3d(\n",
    "            x=[self.fake_target[0]], y=[self.fake_target[1]], z=[self.fake_target[2]],\n",
    "            mode='markers+text',\n",
    "            marker=dict(size=15, color='black', symbol='x'),\n",
    "            text=['假目标'],\n",
    "            textposition=\"top center\",\n",
    "            name='假目标',\n",
    "            hovertemplate='<b>假目标</b><br>坐标: (0, 0, 0)<extra></extra>'\n",
    "        ))\n",
    "\n",
    "        # 添加真目标（圆柱体）\n",
    "        self._add_cylinder_target(fig)\n",
    "\n",
    "        # 添加导弹轨迹\n",
    "        self._add_missile_trajectories(fig)\n",
    "\n",
    "        # 设置布局\n",
    "        fig.update_layout(\n",
    "            title=dict(\n",
    "                text='🚀 烟幕干扰弹投放策略 - 交互式3D场景',\n",
    "                x=0.5,\n",
    "                font=dict(size=20, color='darkblue')\n",
    "            ),\n",
    "            scene=dict(\n",
    "                xaxis_title='X 坐标 (m)',\n",
    "                yaxis_title='Y 坐标 (m)',\n",
    "                zaxis_title='Z 坐标 (m)',\n",
    "                camera=dict(\n",
    "                    eye=dict(x=1.5, y=1.5, z=1.2)\n",
    "                ),\n",
    "                aspectmode='manual',\n",
    "                aspectratio=dict(x=2, y=1, z=0.5)\n",
    "            ),\n",
    "            width=1200,\n",
    "            height=800,\n",
    "            showlegend=True\n",
    "        )\n",
    "\n",
    "        return fig\n",
    "\n",
    "    def _add_cylinder_target(self, fig):\n",
    "        \"\"\"添加圆柱形真目标\"\"\"\n",
    "        # 创建圆柱体\n",
    "        theta = np.linspace(0, 2 * np.pi, 30)\n",
    "        z_levels = np.linspace(0, self.target_height, 10)\n",
    "\n",
    "        # 底面和顶面\n",
    "        for z in [0, self.target_height]:\n",
    "            x_circle = self.real_target[0] + self.target_radius * np.cos(theta)\n",
    "            y_circle = self.real_target[1] + self.target_radius * np.sin(theta)\n",
    "            z_circle = np.full_like(x_circle, self.real_target[2] + z)\n",
    "\n",
    "            fig.add_trace(go.Scatter3d(\n",
    "                x=x_circle, y=y_circle, z=z_circle,\n",
    "                mode='lines',\n",
    "                line=dict(color='green', width=4),\n",
    "                name='真目标轮廓' if z == 0 else '',\n",
    "                showlegend=z == 0,\n",
    "                hovertemplate='<b>真目标</b><br>半径: 7m<br>高度: 10m<extra></extra>'\n",
    "            ))\n",
    "\n",
    "        # 侧面线条\n",
    "        for i in range(0, len(theta), 6):\n",
    "            x_line = [self.real_target[0] + self.target_radius * np.cos(theta[i])] * 2\n",
    "            y_line = [self.real_target[1] + self.target_radius * np.sin(theta[i])] * 2\n",
    "            z_line = [self.real_target[2], self.real_target[2] + self.target_height]\n",
    "\n",
    "            fig.add_trace(go.Scatter3d(\n",
    "                x=x_line, y=y_line, z=z_line,\n",
    "                mode='lines',\n",
    "                line=dict(color='green', width=2),\n",
    "                showlegend=False,\n",
    "                hoverinfo='skip'\n",
    "            ))\n",
    "\n",
    "    def _add_missile_trajectories(self, fig):\n",
    "        \"\"\"添加导弹轨迹\"\"\"\n",
    "        for name, pos in self.missiles.items():\n",
    "            direction = self.fake_target - pos\n",
    "            direction_unit = direction / np.linalg.norm(direction)\n",
    "\n",
    "            # 计算轨迹点\n",
    "            distances = np.linspace(0, np.linalg.norm(direction) * 0.8, 50)\n",
    "            trajectory_points = pos[:, np.newaxis] + direction_unit[:, np.newaxis] * distances\n",
    "\n",
    "            fig.add_trace(go.Scatter3d(\n",
    "                x=trajectory_points[0],\n",
    "                y=trajectory_points[1],\n",
    "                z=trajectory_points[2],\n",
    "                mode='lines',\n",
    "                line=dict(color='red', width=3, dash='dash'),\n",
    "                name=f'{name}轨迹' if name == 'M1' else '',\n",
    "                showlegend=name == 'M1',\n",
    "                opacity=0.7,\n",
    "                hovertemplate=f'<b>{name}飞行轨迹</b><br>目标: 假目标<extra></extra>'\n",
    "            ))\n",
    "\n",
    "    def create_threat_analysis_dashboard(self):\n",
    "        \"\"\"创建威胁分析仪表板\"\"\"\n",
    "        # 计算威胁数据\n",
    "        threat_data = []\n",
    "        for name, pos in self.missiles.items():\n",
    "            # 计算到假目标距离和时间\n",
    "            dist_to_fake = np.linalg.norm(pos - self.fake_target)\n",
    "            time_to_fake = dist_to_fake / self.missile_speed\n",
    "\n",
    "            # 计算轨迹与真目标最近距离\n",
    "            direction = self.fake_target - pos\n",
    "            direction_unit = direction / np.linalg.norm(direction)\n",
    "            to_real_target = self.real_target - pos\n",
    "            t = np.dot(to_real_target, direction_unit)\n",
    "            closest_point = pos + t * direction_unit\n",
    "            min_distance = np.linalg.norm(self.real_target - closest_point)\n",
    "\n",
    "            threat_level = \"高\" if min_distance <= 50 else \"中\" if min_distance <= 200 else \"低\"\n",
    "\n",
    "            threat_data.append({\n",
    "                '导弹': name,\n",
    "                '到假目标距离(m)': f\"{dist_to_fake:.0f}\",\n",
    "                '飞行时间(s)': f\"{time_to_fake:.2f}\",\n",
    "                '最近距离(m)': f\"{min_distance:.1f}\",\n",
    "                '威胁等级': threat_level\n",
    "            })\n",
    "\n",
    "        # 创建子图\n",
    "        fig = make_subplots(\n",
    "            rows=2, cols=2,\n",
    "            subplot_titles=('导弹威胁等级', '飞行时间对比', '距离分析', '拦截窗口'),\n",
    "            specs=[[{\"type\": \"bar\"}, {\"type\": \"scatter\"}],\n",
    "                   [{\"type\": \"bar\"}, {\"type\": \"scatter\"}]]\n",
    "        )\n",
    "\n",
    "        df = pd.DataFrame(threat_data)\n",
    "\n",
    "        # 威胁等级柱状图\n",
    "        threat_colors = {'高': 'red', '中': 'orange', '低': 'green'}\n",
    "        fig.add_trace(\n",
    "            go.Bar(\n",
    "                x=df['导弹'],\n",
    "                y=[3 if x == '高' else 2 if x == '中' else 1 for x in df['威胁等级']],\n",
    "                marker_color=[threat_colors[x] for x in df['威胁等级']],\n",
    "                name='威胁等级'\n",
    "            ),\n",
    "            row=1, col=1\n",
    "        )\n",
    "\n",
    "        # 飞行时间散点图\n",
    "        fig.add_trace(\n",
    "            go.Scatter(\n",
    "                x=df['导弹'],\n",
    "                y=df['飞行时间(s)'].astype(float),\n",
    "                mode='markers+lines',\n",
    "                marker=dict(size=12, color='blue'),\n",
    "                name='飞行时间'\n",
    "            ),\n",
    "            row=1, col=2\n",
    "        )\n",
    "\n",
    "        # 距离分析\n",
    "        fig.add_trace(\n",
    "            go.Bar(\n",
    "                x=df['导弹'],\n",
    "                y=df['最近距离(m)'].astype(float),\n",
    "                marker_color='purple',\n",
    "                name='最近距离'\n",
    "            ),\n",
    "            row=2, col=1\n",
    "        )\n",
    "\n",
    "        # 拦截窗口时间线\n",
    "        intercept_times = np.array([float(x) for x in df['飞行时间(s)']])\n",
    "        fig.add_trace(\n",
    "            go.Scatter(\n",
    "                x=intercept_times,\n",
    "                y=df['导弹'],\n",
    "                mode='markers+text',\n",
    "                marker=dict(size=15, color='red'),\n",
    "                text=[f\"{t:.1f}s\" for t in intercept_times],\n",
    "                textposition=\"middle right\",\n",
    "                name='拦截时机'\n",
    "            ),\n",
    "            row=2, col=2\n",
    "        )\n",
    "\n",
    "        fig.update_layout(\n",
    "            title_text=\"🎯 导弹威胁分析仪表板\",\n",
    "            showlegend=False,\n",
    "            height=800\n",
    "        )\n",
    "\n",
    "        return fig, df\n",
    "\n",
    "    def create_animation_simulation(self, duration=70):\n",
    "        \"\"\"创建动画模拟\"\"\"\n",
    "        frames = []\n",
    "        time_steps = np.linspace(0, duration, 100)\n",
    "\n",
    "        for t in time_steps:\n",
    "            frame_data = []\n",
    "\n",
    "            # 导弹位置\n",
    "            for name, pos in self.missiles.items():\n",
    "                direction = self.fake_target - pos\n",
    "                direction_unit = direction / np.linalg.norm(direction)\n",
    "                current_pos = pos + direction_unit * self.missile_speed * t\n",
    "\n",
    "                # 检查是否到达目标\n",
    "                if np.linalg.norm(current_pos - self.fake_target) > np.linalg.norm(pos - self.fake_target):\n",
    "                    current_pos = pos\n",
    "\n",
    "                frame_data.append(go.Scatter3d(\n",
    "                    x=[current_pos[0]], y=[current_pos[1]], z=[current_pos[2]],\n",
    "                    mode='markers',\n",
    "                    marker=dict(size=8, color='red'),\n",
    "                    name=name\n",
    "                ))\n",
    "\n",
    "            frames.append(go.Frame(data=frame_data, name=f\"t={t:.1f}s\"))\n",
    "\n",
    "        # 创建初始图形\n",
    "        fig = self.create_interactive_3d_scene()\n",
    "        fig.frames = frames\n",
    "\n",
    "        # 添加播放控件\n",
    "        fig.update_layout(\n",
    "            updatemenus=[{\n",
    "                \"buttons\": [\n",
    "                    {\n",
    "                        \"args\": [None, {\"frame\": {\"duration\": 100, \"redraw\": True},\n",
    "                                        \"fromcurrent\": True}],\n",
    "                        \"label\": \"▶️ 播放\",\n",
    "                        \"method\": \"animate\"\n",
    "                    },\n",
    "                    {\n",
    "                        \"args\": [[None], {\"frame\": {\"duration\": 0, \"redraw\": True},\n",
    "                                          \"mode\": \"immediate\", \"transition\": {\"duration\": 0}}],\n",
    "                        \"label\": \"⏸️ 暂停\",\n",
    "                        \"method\": \"animate\"\n",
    "                    }\n",
    "                ],\n",
    "                \"direction\": \"left\",\n",
    "                \"pad\": {\"r\": 10, \"t\": 87},\n",
    "                \"showactive\": False,\n",
    "                \"type\": \"buttons\",\n",
    "                \"x\": 0.1,\n",
    "                \"xanchor\": \"right\",\n",
    "                \"y\": 0,\n",
    "                \"yanchor\": \"top\"\n",
    "            }]\n",
    "        )\n",
    "\n",
    "        return fig"
   ],
   "outputs": [],
   "execution_count": 10
  },
  {
   "cell_type": "code",
   "id": "1df50d6b40613126",
   "metadata": {
    "ExecuteTime": {
     "end_time": "2025-09-05T18:12:06.601031Z",
     "start_time": "2025-09-05T18:12:06.595034Z"
    }
   },
   "source": "print(\"🚀 启动交互式烟幕干扰弹可视化系统...\")",
   "outputs": [
    {
     "name": "stdout",
     "output_type": "stream",
     "text": [
      "🚀 启动交互式烟幕干扰弹可视化系统...\n"
     ]
    }
   ],
   "execution_count": 11
  },
  {
   "metadata": {
    "ExecuteTime": {
     "end_time": "2025-09-05T18:12:14.149970Z",
     "start_time": "2025-09-05T18:12:14.145883Z"
    }
   },
   "cell_type": "code",
   "source": "visualizer = SmokeScreenVisualizer()",
   "id": "83f5929836261db6",
   "outputs": [],
   "execution_count": 12
  },
  {
   "metadata": {
    "ExecuteTime": {
     "end_time": "2025-09-05T18:12:33.559388Z",
     "start_time": "2025-09-05T18:12:33.463488Z"
    }
   },
   "cell_type": "code",
   "source": [
    "# 创建3D场景\n",
    "print(\"📊 生成3D交互场景...\")\n",
    "scene_fig = visualizer.create_interactive_3d_scene()"
   ],
   "id": "37bcc22f5bcf3a9c",
   "outputs": [
    {
     "name": "stdout",
     "output_type": "stream",
     "text": [
      "📊 生成3D交互场景...\n"
     ]
    }
   ],
   "execution_count": 14
  },
  {
   "metadata": {
    "ExecuteTime": {
     "end_time": "2025-09-05T18:12:55.823091Z",
     "start_time": "2025-09-05T18:12:55.748876Z"
    }
   },
   "cell_type": "code",
   "source": [
    "# 创建威胁分析\n",
    "print(\"🎯 分析导弹威胁...\")\n",
    "dashboard_fig, threat_df = visualizer.create_threat_analysis_dashboard()"
   ],
   "id": "2664260ab1088cf2",
   "outputs": [
    {
     "name": "stdout",
     "output_type": "stream",
     "text": [
      "🎯 分析导弹威胁...\n"
     ]
    }
   ],
   "execution_count": 15
  },
  {
   "metadata": {
    "ExecuteTime": {
     "end_time": "2025-09-05T18:33:13.394589Z",
     "start_time": "2025-09-05T18:33:13.204666Z"
    }
   },
   "cell_type": "code",
   "source": [
    "# 创建动画\n",
    "print(\"🎬 准备动画模拟...\")\n",
    "animation_fig = visualizer.create_animation_simulation()"
   ],
   "id": "c5b3934eed4d2652",
   "outputs": [
    {
     "name": "stdout",
     "output_type": "stream",
     "text": [
      "🎬 准备动画模拟...\n"
     ]
    }
   ],
   "execution_count": 36
  },
  {
   "metadata": {
    "ExecuteTime": {
     "end_time": "2025-09-05T18:33:10.898144Z",
     "start_time": "2025-09-05T18:33:10.890073Z"
    }
   },
   "cell_type": "code",
   "source": [
    "# 显示结果\n",
    "print(\"\\n\" + \"=\" * 50)\n",
    "print(\"📋 威胁分析报告:\")\n",
    "print(threat_df.to_string(index=False))\n",
    "print(\"=\" * 50)"
   ],
   "id": "4a51181486952be0",
   "outputs": [
    {
     "name": "stdout",
     "output_type": "stream",
     "text": [
      "\n",
      "==================================================\n",
      "📋 威胁分析报告:\n",
      "导弹 到假目标距离(m) 飞行时间(s) 最近距离(m) 威胁等级\n",
      "M1     20100   67.00   200.0    中\n",
      "M2     19125   63.75   199.9    中\n",
      "M3     18110   60.37   199.9    中\n",
      "==================================================\n"
     ]
    }
   ],
   "execution_count": 35
  },
  {
   "metadata": {
    "ExecuteTime": {
     "end_time": "2025-09-05T18:16:59.530288Z",
     "start_time": "2025-09-05T18:16:59.508418Z"
    }
   },
   "cell_type": "code",
   "source": [
    "\n",
    "scene_fig.show()\n"
   ],
   "id": "482bf75715cbb796",
   "outputs": [
    {
     "data": {
      "application/vnd.plotly.v1+json": {
       "data": [
        {
         "hovertemplate": "<b>M1</b><br>坐标: (20000, 0, 2000)<br>速度: 300 m/s<extra></extra>",
         "marker": {
          "color": "red",
          "size": 12,
          "symbol": "diamond"
         },
         "mode": "markers+text",
         "name": "导弹 M1",
         "text": [
          "M1"
         ],
         "textposition": "top center",
         "x": [
          20000
         ],
         "y": [
          0
         ],
         "z": [
          2000
         ],
         "type": "scatter3d"
        },
        {
         "hovertemplate": "<b>M2</b><br>坐标: (19000, 600, 2100)<br>速度: 300 m/s<extra></extra>",
         "marker": {
          "color": "red",
          "size": 12,
          "symbol": "diamond"
         },
         "mode": "markers+text",
         "name": "导弹 M2",
         "text": [
          "M2"
         ],
         "textposition": "top center",
         "x": [
          19000
         ],
         "y": [
          600
         ],
         "z": [
          2100
         ],
         "type": "scatter3d"
        },
        {
         "hovertemplate": "<b>M3</b><br>坐标: (18000, -600, 1900)<br>速度: 300 m/s<extra></extra>",
         "marker": {
          "color": "red",
          "size": 12,
          "symbol": "diamond"
         },
         "mode": "markers+text",
         "name": "导弹 M3",
         "text": [
          "M3"
         ],
         "textposition": "top center",
         "x": [
          18000
         ],
         "y": [
          -600
         ],
         "z": [
          1900
         ],
         "type": "scatter3d"
        },
        {
         "hovertemplate": "<b>FY1</b><br>坐标: (17800, 0, 1800)<br>速度范围: 70-140 m/s<extra></extra>",
         "marker": {
          "color": "blue",
          "size": 10,
          "symbol": "circle"
         },
         "mode": "markers+text",
         "name": "无人机 FY1",
         "text": [
          "FY1"
         ],
         "textposition": "top center",
         "x": [
          17800
         ],
         "y": [
          0
         ],
         "z": [
          1800
         ],
         "type": "scatter3d"
        },
        {
         "hovertemplate": "<b>FY2</b><br>坐标: (12000, 1400, 1400)<br>速度范围: 70-140 m/s<extra></extra>",
         "marker": {
          "color": "cyan",
          "size": 10,
          "symbol": "circle"
         },
         "mode": "markers+text",
         "name": "无人机 FY2",
         "text": [
          "FY2"
         ],
         "textposition": "top center",
         "x": [
          12000
         ],
         "y": [
          1400
         ],
         "z": [
          1400
         ],
         "type": "scatter3d"
        },
        {
         "hovertemplate": "<b>FY3</b><br>坐标: (6000, -3000, 700)<br>速度范围: 70-140 m/s<extra></extra>",
         "marker": {
          "color": "navy",
          "size": 10,
          "symbol": "circle"
         },
         "mode": "markers+text",
         "name": "无人机 FY3",
         "text": [
          "FY3"
         ],
         "textposition": "top center",
         "x": [
          6000
         ],
         "y": [
          -3000
         ],
         "z": [
          700
         ],
         "type": "scatter3d"
        },
        {
         "hovertemplate": "<b>FY4</b><br>坐标: (11000, 2000, 1800)<br>速度范围: 70-140 m/s<extra></extra>",
         "marker": {
          "color": "lightblue",
          "size": 10,
          "symbol": "circle"
         },
         "mode": "markers+text",
         "name": "无人机 FY4",
         "text": [
          "FY4"
         ],
         "textposition": "top center",
         "x": [
          11000
         ],
         "y": [
          2000
         ],
         "z": [
          1800
         ],
         "type": "scatter3d"
        },
        {
         "hovertemplate": "<b>FY5</b><br>坐标: (13000, -2000, 1300)<br>速度范围: 70-140 m/s<extra></extra>",
         "marker": {
          "color": "darkblue",
          "size": 10,
          "symbol": "circle"
         },
         "mode": "markers+text",
         "name": "无人机 FY5",
         "text": [
          "FY5"
         ],
         "textposition": "top center",
         "x": [
          13000
         ],
         "y": [
          -2000
         ],
         "z": [
          1300
         ],
         "type": "scatter3d"
        },
        {
         "hovertemplate": "<b>假目标</b><br>坐标: (0, 0, 0)<extra></extra>",
         "marker": {
          "color": "black",
          "size": 15,
          "symbol": "x"
         },
         "mode": "markers+text",
         "name": "假目标",
         "text": [
          "假目标"
         ],
         "textposition": "top center",
         "x": [
          0
         ],
         "y": [
          0
         ],
         "z": [
          0
         ],
         "type": "scatter3d"
        },
        {
         "hovertemplate": "<b>真目标</b><br>半径: 7m<br>高度: 10m<extra></extra>",
         "line": {
          "color": "green",
          "width": 4
         },
         "mode": "lines",
         "name": "真目标轮廓",
         "showlegend": true,
         "x": {
          "dtype": "f8",
          "bdata": "AAAAAAAAHEBgiF6IalgbQDXt2yeAaRlAj8nxJGVKFkAWefwCdyASQEenzngaOwpA5nTSkJL2/T9TWC1JFUHYPyPhHgidHvK/iXTK80y6BMAMgEWCLW0PwE7kH4nvUxTACoTrxfP9F8AqEH0mx4gawIZTvxr71RvAhlO/GvvVG8AqEH0mx4gawAqE68Xz/RfATeQfie9TFMAQgEWCLW0PwIl0yvNMugTAJOEeCJ0e8r9PWC1JFUHYP+x00pCS9v0/SqfOeBo7CkAYefwCdyASQJDJ8SRlShZANO3bJ4BpGUBgiF6IalgbQAAAAAAAABxA"
         },
         "y": {
          "dtype": "f8",
          "bdata": "AAAAAAAAaUAhBtJDJzBpQDBB4h4OXmlASs81HI+HaUCuZb9ruappQPtzWx3oxWlAkbCOz9XXaUCn5Wvmq99pQKT/gZQM3WlATJCzPRfQaUDMDHf/ZrlpQIeYEXALmmlACmqe63tzaUBIz+UGhkdpQD8uHPo3GGlAwdHjBcjnaEC4MBr5ebhoQPaVYRSEjGhAeWfuj/RlaEA084gAmUZoQLRvTMLoL2hAXAB+a/MiaEBZGpQZVCBoQG9PcTAqKGhABYyk4hc6aEBSmkCURlVoQLYwyuNweGhA0L4d4fGhaEDf+S282M9oQAAAAAAAAGlA"
         },
         "z": {
          "dtype": "f8",
          "bdata": "AAAAAAAAAAAAAAAAAAAAAAAAAAAAAAAAAAAAAAAAAAAAAAAAAAAAAAAAAAAAAAAAAAAAAAAAAAAAAAAAAAAAAAAAAAAAAAAAAAAAAAAAAAAAAAAAAAAAAAAAAAAAAAAAAAAAAAAAAAAAAAAAAAAAAAAAAAAAAAAAAAAAAAAAAAAAAAAAAAAAAAAAAAAAAAAAAAAAAAAAAAAAAAAAAAAAAAAAAAAAAAAAAAAAAAAAAAAAAAAAAAAAAAAAAAAAAAAAAAAAAAAAAAAAAAAAAAAAAAAAAAAAAAAAAAAAAAAAAAAAAAAAAAAAAAAAAAAAAAAA"
         },
         "type": "scatter3d"
        },
        {
         "hovertemplate": "<b>真目标</b><br>半径: 7m<br>高度: 10m<extra></extra>",
         "line": {
          "color": "green",
          "width": 4
         },
         "mode": "lines",
         "name": "",
         "showlegend": false,
         "x": {
          "dtype": "f8",
          "bdata": "AAAAAAAAHEBgiF6IalgbQDXt2yeAaRlAj8nxJGVKFkAWefwCdyASQEenzngaOwpA5nTSkJL2/T9TWC1JFUHYPyPhHgidHvK/iXTK80y6BMAMgEWCLW0PwE7kH4nvUxTACoTrxfP9F8AqEH0mx4gawIZTvxr71RvAhlO/GvvVG8AqEH0mx4gawAqE68Xz/RfATeQfie9TFMAQgEWCLW0PwIl0yvNMugTAJOEeCJ0e8r9PWC1JFUHYP+x00pCS9v0/SqfOeBo7CkAYefwCdyASQJDJ8SRlShZANO3bJ4BpGUBgiF6IalgbQAAAAAAAABxA"
         },
         "y": {
          "dtype": "f8",
          "bdata": "AAAAAAAAaUAhBtJDJzBpQDBB4h4OXmlASs81HI+HaUCuZb9ruappQPtzWx3oxWlAkbCOz9XXaUCn5Wvmq99pQKT/gZQM3WlATJCzPRfQaUDMDHf/ZrlpQIeYEXALmmlACmqe63tzaUBIz+UGhkdpQD8uHPo3GGlAwdHjBcjnaEC4MBr5ebhoQPaVYRSEjGhAeWfuj/RlaEA084gAmUZoQLRvTMLoL2hAXAB+a/MiaEBZGpQZVCBoQG9PcTAqKGhABYyk4hc6aEBSmkCURlVoQLYwyuNweGhA0L4d4fGhaEDf+S282M9oQAAAAAAAAGlA"
         },
         "z": {
          "dtype": "f8",
          "bdata": "AAAAAAAAJEAAAAAAAAAkQAAAAAAAACRAAAAAAAAAJEAAAAAAAAAkQAAAAAAAACRAAAAAAAAAJEAAAAAAAAAkQAAAAAAAACRAAAAAAAAAJEAAAAAAAAAkQAAAAAAAACRAAAAAAAAAJEAAAAAAAAAkQAAAAAAAACRAAAAAAAAAJEAAAAAAAAAkQAAAAAAAACRAAAAAAAAAJEAAAAAAAAAkQAAAAAAAACRAAAAAAAAAJEAAAAAAAAAkQAAAAAAAACRAAAAAAAAAJEAAAAAAAAAkQAAAAAAAACRAAAAAAAAAJEAAAAAAAAAkQAAAAAAAACRA"
         },
         "type": "scatter3d"
        },
        {
         "hoverinfo": "skip",
         "line": {
          "color": "green",
          "width": 2
         },
         "mode": "lines",
         "showlegend": false,
         "x": [
          7.0,
          7.0
         ],
         "y": [
          200.0,
          200.0
         ],
         "z": [
          0,
          10
         ],
         "type": "scatter3d"
        },
        {
         "hoverinfo": "skip",
         "line": {
          "color": "green",
          "width": 2
         },
         "mode": "lines",
         "showlegend": false,
         "x": [
          1.8726983697045454,
          1.8726983697045454
         ],
         "y": [
          206.74484994763455,
          206.74484994763455
         ],
         "z": [
          0,
          10
         ],
         "type": "scatter3d"
        },
        {
         "hoverinfo": "skip",
         "line": {
          "color": "green",
          "width": 2
         },
         "mode": "lines",
         "showlegend": false,
         "x": [
          -5.998000233173125,
          -5.998000233173125
         ],
         "y": [
          203.60887700023915,
          203.60887700023915
         ],
         "z": [
          0,
          10
         ],
         "type": "scatter3d"
        },
        {
         "hoverinfo": "skip",
         "line": {
          "color": "green",
          "width": 2
         },
         "mode": "lines",
         "showlegend": false,
         "x": [
          -5.081968443461915,
          -5.081968443461915
         ],
         "y": [
          195.18610378802603,
          195.18610378802603
         ],
         "z": [
          0,
          10
         ],
         "type": "scatter3d"
        },
        {
         "hoverinfo": "skip",
         "line": {
          "color": "green",
          "width": 2
         },
         "mode": "lines",
         "showlegend": false,
         "x": [
          3.2788590848985324,
          3.2788590848985324
         ],
         "y": [
          193.81541568887783,
          193.81541568887783
         ],
         "z": [
          0,
          10
         ],
         "type": "scatter3d"
        },
        {
         "hovertemplate": "<b>M1飞行轨迹</b><br>目标: 假目标<extra></extra>",
         "line": {
          "color": "red",
          "dash": "dash",
          "width": 3
         },
         "mode": "lines",
         "name": "M1轨迹",
         "opacity": 0.7,
         "showlegend": true,
         "x": {
          "dtype": "f8",
          "bdata": "AAAAAACI00BU8HIKXjbTQKfg5RS85NJA+9BYHxqT0kBOwcspeEHSQKKxPjTW79FA9qGxPjSe0UBJkiRJkkzRQJ2Cl1Pw+tBA8HIKXk6p0EBEY31orFfQQJdT8HIKBtBA1ofG+tBoz0B9aKwPjcXOQCRJkiRJIs5AzCl4OQV/zUBzCl5OwdvMQBrrQ2N9OMxAwsspeDmVy0BorA+N9fHKQBCN9aGxTspAtm3btm2ryUBeTsHLKQjJQAUvp+DlZMhArA+N9aHBx0BU8HIKXh7HQPrQWB8ae8ZAorE+NNbXxUBJkiRJkjTFQPByCl5OkcRAl1Pwcgruw0A/NNaHxkrDQOYUvJyCp8JAjPWhsT4EwkA01ofG+mDBQNu2bdu2vcBAg5dT8HIawEBS8HIKXu6+QKKxPjTWp71A8HIKXk5hvEA+NNaHxhq7QIz1obE+1LlA2rZt27aNuEAqeDkFL0e3QHY5BS+nALZAxvrQWB+6tEAUvJyCl3OzQGR9aKwPLbJAsD401ofmsEAAAAAAAECvQA=="
         },
         "y": {
          "dtype": "f8",
          "bdata": "AAAAAAAAAAAAAAAAAAAAAAAAAAAAAAAAAAAAAAAAAAAAAAAAAAAAAAAAAAAAAAAAAAAAAAAAAAAAAAAAAAAAAAAAAAAAAAAAAAAAAAAAAAAAAAAAAAAAAAAAAAAAAAAAAAAAAAAAAAAAAAAAAAAAAAAAAAAAAAAAAAAAAAAAAAAAAAAAAAAAAAAAAAAAAAAAAAAAAAAAAAAAAAAAAAAAAAAAAAAAAAAAAAAAAAAAAAAAAAAAAAAAAAAAAAAAAAAAAAAAAAAAAAAAAAAAAAAAAAAAAAAAAAAAAAAAAAAAAAAAAAAAAAAAAAAAAAAAAAAAAAAAAAAAAAAAAAAAAAAAAAAAAAAAAAAAAAAAAAAAAAAAAAAAAAAAAAAAAAAAAAAAAAAAAAAAAAAAAAAAAAAAAAAAAAAAAAAAAAAAAAAAAAAAAAAAAAAAAAAAAAAAAAAAAAAAAAAAAAAAAAAAAAAAAAAAAAAAAAAAAAAAAAAAAAAAAAAAAAAAAAAAAAAAAAAAAAAAAAAAAAAAAAAAAAAAAA=="
         },
         "z": {
          "dtype": "f8",
          "bdata": "AAAAAABAn0AfGutDY72eQD801ofGOp5AXk7Byym4nUB9aKwPjTWdQJ2Cl1PwspxAvJyCl1MwnEDbtm3btq2bQPvQWB8aK5tAGutDY32omkA6BS+n4CWaQFkfGutDo5lAeDkFL6cgmUCXU/ByCp6YQLdt27ZtG5hA1ofG+tCYl0D2obE+NBaXQBW8nIKXk5ZANNaHxvoQlkBU8HIKXo6VQHMKXk7BC5VAkiRJkiSJlECyPjTWhwaUQNFYHxrrg5NA8HIKXk4Bk0AQjfWhsX6SQC6n4OUU/JFATsHLKXh5kUBu27Zt2/aQQI31obE+dJBAWB8a60Pjj0CYU/ByCt6OQNaHxvrQ2I1AFLycgpfTjEBU8HIKXs6LQJIkSZIkyYpA0lgfGuvDiUAQjfWhsb6IQE7Byyl4uYdAjPWhsT60hkDMKXg5Ba+FQApeTsHLqYRASJIkSZKkg0CIxvrQWJ+CQMb60FgfmoFABi+n4OWUgECIxvrQWB9/QAgvp+DlFH1AgJdT8HIKe0AAAAAAAAB5QA=="
         },
         "type": "scatter3d"
        },
        {
         "hovertemplate": "<b>M2飞行轨迹</b><br>目标: 假目标<extra></extra>",
         "line": {
          "color": "red",
          "dash": "dash",
          "width": 3
         },
         "mode": "lines",
         "name": "",
         "opacity": 0.7,
         "showlegend": false,
         "x": {
          "dtype": "f8",
          "bdata": "AAAAAACO0kCDl1PwckDSQAUvp+Dl8tFAiMb60Fil0UAKXk7By1fRQI31obE+CtFAEI31obG80ECSJEmSJG/QQBW8nIKXIdBAL6fg5RSoz0A01ofG+gzPQDoFL6fgcc5APzTWh8bWzUBEY31orDvNQEmSJEmSoMxATsHLKXgFzEBU8HIKXmrLQFgfGutDz8pAXk7Byyk0ykBkfWisD5nJQGisD431/chAbtu2bdtiyEBzCl5OwcfHQHg5BS+nLMdAfmisD42RxkCCl1PwcvbFQIjG+tBYW8VAjfWhsT7AxECSJEmSJCXEQJhT8HIKisNAnYKXU/DuwkCisT401lPCQKfg5RS8uMFArA+N9aEdwUCxPjTWh4LAQGzbtm3bzr9AeDkFL6eYvkCEl1PwcmK9QI71obE+LLxAmFPwcgr2ukCisT401r+5QKwPjfWhibhAuG3btm1Tt0DCyyl4OR22QMwpeDkF57RA1ofG+tCws0Dg5RS8nHqyQOpDY31oRLFA9qGxPjQOsED8/////6+tQA=="
         },
         "y": {
          "dtype": "f8",
          "bdata": "AAAAAADAgkCsD431oXGCQFkfGutDI4JABS+n4OXUgUCyPjTWh4aBQF5OwcspOIFACl5OwcvpgEC3bdu2bZuAQGN9aKwPTYBAIBrrQ2P9f0B4OQUvp2B/QNFYHxrrw35AKng5BS8nfkCCl1Pwcop9QNu2bdu27XxANNaHxvpQfECN9aGxPrR7QOYUvJyCF3tAPzTWh8Z6ekCYU/ByCt55QPByCl5OQXlASpIkSZKkeECisT401gd4QPrQWB8aa3dAVPByCl7OdkCsD431oTF2QAUvp+DllHVAXk7Byyn4dEC2bdu2bVt0QBCN9aGxvnNAaawPjfUhc0DByyl4OYVyQBrrQ2N96HFAcwpeTsFLcUDLKXg5Ba9wQCRJkiRJEnBA/NBYHxrrbkCsD431obFtQF5OwcspeGxAEI31obE+a0DAyyl4OQVqQHIKXk7By2hAJkmSJEmSZ0DWh8b60FhmQIjG+tBYH2VAOgUvp+DlY0DqQ2N9aKxiQJyCl1PwcmFAUMHLKXg5YED8//////9dQA=="
         },
         "z": {
          "dtype": "f8",
          "bdata": "AAAAAABooEC3bdu2bSOgQNu2bdu2vZ9ASZIkSZI0n0C3bdu2baueQCVJkiRJIp5AkiRJkiSZnUAAAAAAABCdQG7btm3bhpxA3LZt27b9m0BJkiRJknSbQLdt27Zt65pAJUmSJElimkCSJEmSJNmZQAAAAAAAUJlAbtu2bdvGmEDctm3btj2YQEmSJEmStJdAt23btm0rl0AlSZIkSaKWQJIkSZIkGZZAAAAAAACQlUBu27Zt2waVQNy2bdu2fZRASpIkSZL0k0C3bdu2bWuTQCRJkiRJ4pJAkiRJkiRZkkAAAAAAANCRQG7btm3bRpFA3LZt27a9kEBKkiRJkjSQQG7btm3bVo9ASpIkSZJEjkAkSZIkSTKNQAAAAAAAIIxA3LZt27YNi0C4bdu2bfuJQJQkSZIk6YhAbtu2bdvWh0BKkiRJksSGQCRJkiRJsoVAAgAAAACghEDctm3bto2DQLht27Zte4JAkiRJkiRpgUBu27Zt21aAQJQkSZIkiX5ATJIkSZJkfEAAAAAAAEB6QA=="
         },
         "type": "scatter3d"
        },
        {
         "hovertemplate": "<b>M3飞行轨迹</b><br>目标: 假目标<extra></extra>",
         "line": {
          "color": "red",
          "dash": "dash",
          "width": 3
         },
         "mode": "lines",
         "name": "",
         "opacity": 0.7,
         "showlegend": false,
         "x": {
          "dtype": "f8",
          "bdata": "AAAAAACU0UCyPjTWh0rRQGN9aKwPAdFAFbycgpe30EDH+tBYH27QQHg5BS+nJNBAVPByCl62z0C3bdu2bSPPQBrrQ2N9kM5AfmisD439zUDh5RS8nGrNQERjfWis18xAp+DlFLxEzEAKXk7By7HLQG7btm3bHstA0VgfGuuLykA01ofG+vjJQJhT8HIKZslA+9BYHxrTyEBeTsHLKUDIQMLLKXg5rcdAJEmSJEkax0CIxvrQWIfGQOtDY31o9MVATsHLKXhhxUCyPjTWh87EQBW8nIKXO8RAeDkFL6eow0Dbtm3bthXDQD401ofGgsJAorE+NNbvwUAGL6fg5VzBQGmsD431ycBAzCl4OQU3wEBeTsHLKUi/QCZJkiRJIr5A7ENjfWj8vECyPjTWh9a7QHg5BS+nsLpAQDTWh8aKuUAGL6fg5WS4QMwpeDkFP7dAkiRJkiQZtkBYHxrrQ/O0QCAa60NjzbNA5hS8nIKnskCsD431oYGxQHIKXk7BW7BAcApeTsFrrkD8/////x+sQA=="
         },
         "y": {
          "dtype": "f8",
          "bdata": "AAAAAADAgsCsD431oXGCwFkfGutDI4LABS+n4OXUgcCyPjTWh4aBwF5OwcspOIHACl5OwcvpgMC3bdu2bZuAwGN9aKwPTYDAIBrrQ2P9f8B4OQUvp2B/wNFYHxrrw37AKng5BS8nfsCDl1Pwcop9wNy2bdu27XzANNaHxvpQfMCN9aGxPrR7wOYUvJyCF3vAPzTWh8Z6esCYU/ByCt55wPByCl5OQXnASZIkSZKkeMCisT401gd4wPvQWB8aa3fAVPByCl7OdsCsD431oTF2wAYvp+DllHXAXk7Byyn4dMC3bdu2bVt0wBCN9aGxvnPAaawPjfUhc8DCyyl4OYVywBrrQ2N96HHAcwpeTsFLccDMKXg5Ba9wwCVJkiRJEnDA/NBYHxrrbsCsD431obFtwF5OwcspeGzAEo31obE+a8DCyyl4OQVqwHQKXk7By2jAJEmSJEmSZ8DWh8b60FhmwIrG+tBYH2XAOgUvp+DlY8DsQ2N9aKxiwJ6Cl1PwcmHATsHLKXg5YMAAAAAAAABewA=="
         },
         "z": {
          "dtype": "f8",
          "bdata": "AAAAAACwnUDRWB8a6zOdQKKxPjTWt5xAcwpeTsE7nEBEY31orL+bQBW8nIKXQ5tA5hS8nILHmkC3bdu2bUuaQIjG+tBYz5lAWR8a60NTmUAqeDkFL9eYQPvQWB8aW5hAzCl4OQXfl0CcgpdT8GKXQG7btm3b5pZAPzTWh8ZqlkAQjfWhse6VQODlFLyccpVAsj401of2lECCl1PwcnqUQFTwcgpe/pNAJEmSJEmCk0D2obE+NAaTQMb60FgfipJAl1PwcgoOkkBorA+N9ZGRQDkFL6fgFZFACl5OwcuZkEDbtm3bth2QQFgfGutDQ49A+9BYHxpLjkCdgpdT8FKNQD401ofGWoxA4OUUvJxii0CCl1PwcmqKQCRJkiRJcolAxvrQWB96iEBorA+N9YGHQApeTsHLiYZArA+N9aGRhUBOwcspeJmEQPByCl5OoYNAkiRJkiSpgkAy1ofG+rCBQNaHxvrQuIBA8HIKXk6Bf0A01ofG+pB9QHQ5BS+noHtAuJyCl1OweUD8/////793QA=="
         },
         "type": "scatter3d"
        }
       ],
       "layout": {
        "template": {
         "data": {
          "histogram2dcontour": [
           {
            "type": "histogram2dcontour",
            "colorbar": {
             "outlinewidth": 0,
             "ticks": ""
            },
            "colorscale": [
             [
              0.0,
              "#0d0887"
             ],
             [
              0.1111111111111111,
              "#46039f"
             ],
             [
              0.2222222222222222,
              "#7201a8"
             ],
             [
              0.3333333333333333,
              "#9c179e"
             ],
             [
              0.4444444444444444,
              "#bd3786"
             ],
             [
              0.5555555555555556,
              "#d8576b"
             ],
             [
              0.6666666666666666,
              "#ed7953"
             ],
             [
              0.7777777777777778,
              "#fb9f3a"
             ],
             [
              0.8888888888888888,
              "#fdca26"
             ],
             [
              1.0,
              "#f0f921"
             ]
            ]
           }
          ],
          "choropleth": [
           {
            "type": "choropleth",
            "colorbar": {
             "outlinewidth": 0,
             "ticks": ""
            }
           }
          ],
          "histogram2d": [
           {
            "type": "histogram2d",
            "colorbar": {
             "outlinewidth": 0,
             "ticks": ""
            },
            "colorscale": [
             [
              0.0,
              "#0d0887"
             ],
             [
              0.1111111111111111,
              "#46039f"
             ],
             [
              0.2222222222222222,
              "#7201a8"
             ],
             [
              0.3333333333333333,
              "#9c179e"
             ],
             [
              0.4444444444444444,
              "#bd3786"
             ],
             [
              0.5555555555555556,
              "#d8576b"
             ],
             [
              0.6666666666666666,
              "#ed7953"
             ],
             [
              0.7777777777777778,
              "#fb9f3a"
             ],
             [
              0.8888888888888888,
              "#fdca26"
             ],
             [
              1.0,
              "#f0f921"
             ]
            ]
           }
          ],
          "heatmap": [
           {
            "type": "heatmap",
            "colorbar": {
             "outlinewidth": 0,
             "ticks": ""
            },
            "colorscale": [
             [
              0.0,
              "#0d0887"
             ],
             [
              0.1111111111111111,
              "#46039f"
             ],
             [
              0.2222222222222222,
              "#7201a8"
             ],
             [
              0.3333333333333333,
              "#9c179e"
             ],
             [
              0.4444444444444444,
              "#bd3786"
             ],
             [
              0.5555555555555556,
              "#d8576b"
             ],
             [
              0.6666666666666666,
              "#ed7953"
             ],
             [
              0.7777777777777778,
              "#fb9f3a"
             ],
             [
              0.8888888888888888,
              "#fdca26"
             ],
             [
              1.0,
              "#f0f921"
             ]
            ]
           }
          ],
          "contourcarpet": [
           {
            "type": "contourcarpet",
            "colorbar": {
             "outlinewidth": 0,
             "ticks": ""
            }
           }
          ],
          "contour": [
           {
            "type": "contour",
            "colorbar": {
             "outlinewidth": 0,
             "ticks": ""
            },
            "colorscale": [
             [
              0.0,
              "#0d0887"
             ],
             [
              0.1111111111111111,
              "#46039f"
             ],
             [
              0.2222222222222222,
              "#7201a8"
             ],
             [
              0.3333333333333333,
              "#9c179e"
             ],
             [
              0.4444444444444444,
              "#bd3786"
             ],
             [
              0.5555555555555556,
              "#d8576b"
             ],
             [
              0.6666666666666666,
              "#ed7953"
             ],
             [
              0.7777777777777778,
              "#fb9f3a"
             ],
             [
              0.8888888888888888,
              "#fdca26"
             ],
             [
              1.0,
              "#f0f921"
             ]
            ]
           }
          ],
          "surface": [
           {
            "type": "surface",
            "colorbar": {
             "outlinewidth": 0,
             "ticks": ""
            },
            "colorscale": [
             [
              0.0,
              "#0d0887"
             ],
             [
              0.1111111111111111,
              "#46039f"
             ],
             [
              0.2222222222222222,
              "#7201a8"
             ],
             [
              0.3333333333333333,
              "#9c179e"
             ],
             [
              0.4444444444444444,
              "#bd3786"
             ],
             [
              0.5555555555555556,
              "#d8576b"
             ],
             [
              0.6666666666666666,
              "#ed7953"
             ],
             [
              0.7777777777777778,
              "#fb9f3a"
             ],
             [
              0.8888888888888888,
              "#fdca26"
             ],
             [
              1.0,
              "#f0f921"
             ]
            ]
           }
          ],
          "mesh3d": [
           {
            "type": "mesh3d",
            "colorbar": {
             "outlinewidth": 0,
             "ticks": ""
            }
           }
          ],
          "scatter": [
           {
            "fillpattern": {
             "fillmode": "overlay",
             "size": 10,
             "solidity": 0.2
            },
            "type": "scatter"
           }
          ],
          "parcoords": [
           {
            "type": "parcoords",
            "line": {
             "colorbar": {
              "outlinewidth": 0,
              "ticks": ""
             }
            }
           }
          ],
          "scatterpolargl": [
           {
            "type": "scatterpolargl",
            "marker": {
             "colorbar": {
              "outlinewidth": 0,
              "ticks": ""
             }
            }
           }
          ],
          "bar": [
           {
            "error_x": {
             "color": "#2a3f5f"
            },
            "error_y": {
             "color": "#2a3f5f"
            },
            "marker": {
             "line": {
              "color": "#E5ECF6",
              "width": 0.5
             },
             "pattern": {
              "fillmode": "overlay",
              "size": 10,
              "solidity": 0.2
             }
            },
            "type": "bar"
           }
          ],
          "scattergeo": [
           {
            "type": "scattergeo",
            "marker": {
             "colorbar": {
              "outlinewidth": 0,
              "ticks": ""
             }
            }
           }
          ],
          "scatterpolar": [
           {
            "type": "scatterpolar",
            "marker": {
             "colorbar": {
              "outlinewidth": 0,
              "ticks": ""
             }
            }
           }
          ],
          "histogram": [
           {
            "marker": {
             "pattern": {
              "fillmode": "overlay",
              "size": 10,
              "solidity": 0.2
             }
            },
            "type": "histogram"
           }
          ],
          "scattergl": [
           {
            "type": "scattergl",
            "marker": {
             "colorbar": {
              "outlinewidth": 0,
              "ticks": ""
             }
            }
           }
          ],
          "scatter3d": [
           {
            "type": "scatter3d",
            "line": {
             "colorbar": {
              "outlinewidth": 0,
              "ticks": ""
             }
            },
            "marker": {
             "colorbar": {
              "outlinewidth": 0,
              "ticks": ""
             }
            }
           }
          ],
          "scattermap": [
           {
            "type": "scattermap",
            "marker": {
             "colorbar": {
              "outlinewidth": 0,
              "ticks": ""
             }
            }
           }
          ],
          "scattermapbox": [
           {
            "type": "scattermapbox",
            "marker": {
             "colorbar": {
              "outlinewidth": 0,
              "ticks": ""
             }
            }
           }
          ],
          "scatterternary": [
           {
            "type": "scatterternary",
            "marker": {
             "colorbar": {
              "outlinewidth": 0,
              "ticks": ""
             }
            }
           }
          ],
          "scattercarpet": [
           {
            "type": "scattercarpet",
            "marker": {
             "colorbar": {
              "outlinewidth": 0,
              "ticks": ""
             }
            }
           }
          ],
          "carpet": [
           {
            "aaxis": {
             "endlinecolor": "#2a3f5f",
             "gridcolor": "white",
             "linecolor": "white",
             "minorgridcolor": "white",
             "startlinecolor": "#2a3f5f"
            },
            "baxis": {
             "endlinecolor": "#2a3f5f",
             "gridcolor": "white",
             "linecolor": "white",
             "minorgridcolor": "white",
             "startlinecolor": "#2a3f5f"
            },
            "type": "carpet"
           }
          ],
          "table": [
           {
            "cells": {
             "fill": {
              "color": "#EBF0F8"
             },
             "line": {
              "color": "white"
             }
            },
            "header": {
             "fill": {
              "color": "#C8D4E3"
             },
             "line": {
              "color": "white"
             }
            },
            "type": "table"
           }
          ],
          "barpolar": [
           {
            "marker": {
             "line": {
              "color": "#E5ECF6",
              "width": 0.5
             },
             "pattern": {
              "fillmode": "overlay",
              "size": 10,
              "solidity": 0.2
             }
            },
            "type": "barpolar"
           }
          ],
          "pie": [
           {
            "automargin": true,
            "type": "pie"
           }
          ]
         },
         "layout": {
          "autotypenumbers": "strict",
          "colorway": [
           "#636efa",
           "#EF553B",
           "#00cc96",
           "#ab63fa",
           "#FFA15A",
           "#19d3f3",
           "#FF6692",
           "#B6E880",
           "#FF97FF",
           "#FECB52"
          ],
          "font": {
           "color": "#2a3f5f"
          },
          "hovermode": "closest",
          "hoverlabel": {
           "align": "left"
          },
          "paper_bgcolor": "white",
          "plot_bgcolor": "#E5ECF6",
          "polar": {
           "bgcolor": "#E5ECF6",
           "angularaxis": {
            "gridcolor": "white",
            "linecolor": "white",
            "ticks": ""
           },
           "radialaxis": {
            "gridcolor": "white",
            "linecolor": "white",
            "ticks": ""
           }
          },
          "ternary": {
           "bgcolor": "#E5ECF6",
           "aaxis": {
            "gridcolor": "white",
            "linecolor": "white",
            "ticks": ""
           },
           "baxis": {
            "gridcolor": "white",
            "linecolor": "white",
            "ticks": ""
           },
           "caxis": {
            "gridcolor": "white",
            "linecolor": "white",
            "ticks": ""
           }
          },
          "coloraxis": {
           "colorbar": {
            "outlinewidth": 0,
            "ticks": ""
           }
          },
          "colorscale": {
           "sequential": [
            [
             0.0,
             "#0d0887"
            ],
            [
             0.1111111111111111,
             "#46039f"
            ],
            [
             0.2222222222222222,
             "#7201a8"
            ],
            [
             0.3333333333333333,
             "#9c179e"
            ],
            [
             0.4444444444444444,
             "#bd3786"
            ],
            [
             0.5555555555555556,
             "#d8576b"
            ],
            [
             0.6666666666666666,
             "#ed7953"
            ],
            [
             0.7777777777777778,
             "#fb9f3a"
            ],
            [
             0.8888888888888888,
             "#fdca26"
            ],
            [
             1.0,
             "#f0f921"
            ]
           ],
           "sequentialminus": [
            [
             0.0,
             "#0d0887"
            ],
            [
             0.1111111111111111,
             "#46039f"
            ],
            [
             0.2222222222222222,
             "#7201a8"
            ],
            [
             0.3333333333333333,
             "#9c179e"
            ],
            [
             0.4444444444444444,
             "#bd3786"
            ],
            [
             0.5555555555555556,
             "#d8576b"
            ],
            [
             0.6666666666666666,
             "#ed7953"
            ],
            [
             0.7777777777777778,
             "#fb9f3a"
            ],
            [
             0.8888888888888888,
             "#fdca26"
            ],
            [
             1.0,
             "#f0f921"
            ]
           ],
           "diverging": [
            [
             0,
             "#8e0152"
            ],
            [
             0.1,
             "#c51b7d"
            ],
            [
             0.2,
             "#de77ae"
            ],
            [
             0.3,
             "#f1b6da"
            ],
            [
             0.4,
             "#fde0ef"
            ],
            [
             0.5,
             "#f7f7f7"
            ],
            [
             0.6,
             "#e6f5d0"
            ],
            [
             0.7,
             "#b8e186"
            ],
            [
             0.8,
             "#7fbc41"
            ],
            [
             0.9,
             "#4d9221"
            ],
            [
             1,
             "#276419"
            ]
           ]
          },
          "xaxis": {
           "gridcolor": "white",
           "linecolor": "white",
           "ticks": "",
           "title": {
            "standoff": 15
           },
           "zerolinecolor": "white",
           "automargin": true,
           "zerolinewidth": 2
          },
          "yaxis": {
           "gridcolor": "white",
           "linecolor": "white",
           "ticks": "",
           "title": {
            "standoff": 15
           },
           "zerolinecolor": "white",
           "automargin": true,
           "zerolinewidth": 2
          },
          "scene": {
           "xaxis": {
            "backgroundcolor": "#E5ECF6",
            "gridcolor": "white",
            "linecolor": "white",
            "showbackground": true,
            "ticks": "",
            "zerolinecolor": "white",
            "gridwidth": 2
           },
           "yaxis": {
            "backgroundcolor": "#E5ECF6",
            "gridcolor": "white",
            "linecolor": "white",
            "showbackground": true,
            "ticks": "",
            "zerolinecolor": "white",
            "gridwidth": 2
           },
           "zaxis": {
            "backgroundcolor": "#E5ECF6",
            "gridcolor": "white",
            "linecolor": "white",
            "showbackground": true,
            "ticks": "",
            "zerolinecolor": "white",
            "gridwidth": 2
           }
          },
          "shapedefaults": {
           "line": {
            "color": "#2a3f5f"
           }
          },
          "annotationdefaults": {
           "arrowcolor": "#2a3f5f",
           "arrowhead": 0,
           "arrowwidth": 1
          },
          "geo": {
           "bgcolor": "white",
           "landcolor": "#E5ECF6",
           "subunitcolor": "white",
           "showland": true,
           "showlakes": true,
           "lakecolor": "white"
          },
          "title": {
           "x": 0.05
          },
          "mapbox": {
           "style": "light"
          }
         }
        },
        "title": {
         "font": {
          "size": 20,
          "color": "darkblue"
         },
         "text": "🚀 烟幕干扰弹投放策略 - 交互式3D场景",
         "x": 0.5
        },
        "scene": {
         "camera": {
          "eye": {
           "x": 1.5,
           "y": 1.5,
           "z": 1.2
          }
         },
         "aspectratio": {
          "x": 2,
          "y": 1,
          "z": 0.5
         },
         "xaxis": {
          "title": {
           "text": "X 坐标 (m)"
          }
         },
         "yaxis": {
          "title": {
           "text": "Y 坐标 (m)"
          }
         },
         "zaxis": {
          "title": {
           "text": "Z 坐标 (m)"
          }
         },
         "aspectmode": "manual"
        },
        "width": 1200,
        "height": 800,
        "showlegend": true
       },
       "config": {
        "plotlyServerURL": "https://plot.ly"
       }
      }
     },
     "metadata": {},
     "output_type": "display_data"
    }
   ],
   "execution_count": 19
  },
  {
   "metadata": {
    "ExecuteTime": {
     "end_time": "2025-09-05T18:17:09.345122Z",
     "start_time": "2025-09-05T18:17:09.327270Z"
    }
   },
   "cell_type": "code",
   "source": "dashboard_fig.show()",
   "id": "83ee7012d283a855",
   "outputs": [
    {
     "data": {
      "application/vnd.plotly.v1+json": {
       "data": [
        {
         "marker": {
          "color": [
           "orange",
           "orange",
           "orange"
          ]
         },
         "name": "威胁等级",
         "x": [
          "M1",
          "M2",
          "M3"
         ],
         "y": [
          2,
          2,
          2
         ],
         "type": "bar",
         "xaxis": "x",
         "yaxis": "y"
        },
        {
         "marker": {
          "color": "blue",
          "size": 12
         },
         "mode": "markers+lines",
         "name": "飞行时间",
         "x": [
          "M1",
          "M2",
          "M3"
         ],
         "y": {
          "dtype": "f8",
          "bdata": "AAAAAADAUEAAAAAAAOBPQI/C9ShcL05A"
         },
         "type": "scatter",
         "xaxis": "x2",
         "yaxis": "y2"
        },
        {
         "marker": {
          "color": "purple"
         },
         "name": "最近距离",
         "x": [
          "M1",
          "M2",
          "M3"
         ],
         "y": {
          "dtype": "f8",
          "bdata": "AAAAAAAAaUDNzMzMzPxoQM3MzMzM/GhA"
         },
         "type": "bar",
         "xaxis": "x3",
         "yaxis": "y3"
        },
        {
         "marker": {
          "color": "red",
          "size": 15
         },
         "mode": "markers+text",
         "name": "拦截时机",
         "text": [
          "67.0s",
          "63.8s",
          "60.4s"
         ],
         "textposition": "middle right",
         "x": {
          "dtype": "f8",
          "bdata": "AAAAAADAUEAAAAAAAOBPQI/C9ShcL05A"
         },
         "y": [
          "M1",
          "M2",
          "M3"
         ],
         "type": "scatter",
         "xaxis": "x4",
         "yaxis": "y4"
        }
       ],
       "layout": {
        "template": {
         "data": {
          "histogram2dcontour": [
           {
            "type": "histogram2dcontour",
            "colorbar": {
             "outlinewidth": 0,
             "ticks": ""
            },
            "colorscale": [
             [
              0.0,
              "#0d0887"
             ],
             [
              0.1111111111111111,
              "#46039f"
             ],
             [
              0.2222222222222222,
              "#7201a8"
             ],
             [
              0.3333333333333333,
              "#9c179e"
             ],
             [
              0.4444444444444444,
              "#bd3786"
             ],
             [
              0.5555555555555556,
              "#d8576b"
             ],
             [
              0.6666666666666666,
              "#ed7953"
             ],
             [
              0.7777777777777778,
              "#fb9f3a"
             ],
             [
              0.8888888888888888,
              "#fdca26"
             ],
             [
              1.0,
              "#f0f921"
             ]
            ]
           }
          ],
          "choropleth": [
           {
            "type": "choropleth",
            "colorbar": {
             "outlinewidth": 0,
             "ticks": ""
            }
           }
          ],
          "histogram2d": [
           {
            "type": "histogram2d",
            "colorbar": {
             "outlinewidth": 0,
             "ticks": ""
            },
            "colorscale": [
             [
              0.0,
              "#0d0887"
             ],
             [
              0.1111111111111111,
              "#46039f"
             ],
             [
              0.2222222222222222,
              "#7201a8"
             ],
             [
              0.3333333333333333,
              "#9c179e"
             ],
             [
              0.4444444444444444,
              "#bd3786"
             ],
             [
              0.5555555555555556,
              "#d8576b"
             ],
             [
              0.6666666666666666,
              "#ed7953"
             ],
             [
              0.7777777777777778,
              "#fb9f3a"
             ],
             [
              0.8888888888888888,
              "#fdca26"
             ],
             [
              1.0,
              "#f0f921"
             ]
            ]
           }
          ],
          "heatmap": [
           {
            "type": "heatmap",
            "colorbar": {
             "outlinewidth": 0,
             "ticks": ""
            },
            "colorscale": [
             [
              0.0,
              "#0d0887"
             ],
             [
              0.1111111111111111,
              "#46039f"
             ],
             [
              0.2222222222222222,
              "#7201a8"
             ],
             [
              0.3333333333333333,
              "#9c179e"
             ],
             [
              0.4444444444444444,
              "#bd3786"
             ],
             [
              0.5555555555555556,
              "#d8576b"
             ],
             [
              0.6666666666666666,
              "#ed7953"
             ],
             [
              0.7777777777777778,
              "#fb9f3a"
             ],
             [
              0.8888888888888888,
              "#fdca26"
             ],
             [
              1.0,
              "#f0f921"
             ]
            ]
           }
          ],
          "contourcarpet": [
           {
            "type": "contourcarpet",
            "colorbar": {
             "outlinewidth": 0,
             "ticks": ""
            }
           }
          ],
          "contour": [
           {
            "type": "contour",
            "colorbar": {
             "outlinewidth": 0,
             "ticks": ""
            },
            "colorscale": [
             [
              0.0,
              "#0d0887"
             ],
             [
              0.1111111111111111,
              "#46039f"
             ],
             [
              0.2222222222222222,
              "#7201a8"
             ],
             [
              0.3333333333333333,
              "#9c179e"
             ],
             [
              0.4444444444444444,
              "#bd3786"
             ],
             [
              0.5555555555555556,
              "#d8576b"
             ],
             [
              0.6666666666666666,
              "#ed7953"
             ],
             [
              0.7777777777777778,
              "#fb9f3a"
             ],
             [
              0.8888888888888888,
              "#fdca26"
             ],
             [
              1.0,
              "#f0f921"
             ]
            ]
           }
          ],
          "surface": [
           {
            "type": "surface",
            "colorbar": {
             "outlinewidth": 0,
             "ticks": ""
            },
            "colorscale": [
             [
              0.0,
              "#0d0887"
             ],
             [
              0.1111111111111111,
              "#46039f"
             ],
             [
              0.2222222222222222,
              "#7201a8"
             ],
             [
              0.3333333333333333,
              "#9c179e"
             ],
             [
              0.4444444444444444,
              "#bd3786"
             ],
             [
              0.5555555555555556,
              "#d8576b"
             ],
             [
              0.6666666666666666,
              "#ed7953"
             ],
             [
              0.7777777777777778,
              "#fb9f3a"
             ],
             [
              0.8888888888888888,
              "#fdca26"
             ],
             [
              1.0,
              "#f0f921"
             ]
            ]
           }
          ],
          "mesh3d": [
           {
            "type": "mesh3d",
            "colorbar": {
             "outlinewidth": 0,
             "ticks": ""
            }
           }
          ],
          "scatter": [
           {
            "fillpattern": {
             "fillmode": "overlay",
             "size": 10,
             "solidity": 0.2
            },
            "type": "scatter"
           }
          ],
          "parcoords": [
           {
            "type": "parcoords",
            "line": {
             "colorbar": {
              "outlinewidth": 0,
              "ticks": ""
             }
            }
           }
          ],
          "scatterpolargl": [
           {
            "type": "scatterpolargl",
            "marker": {
             "colorbar": {
              "outlinewidth": 0,
              "ticks": ""
             }
            }
           }
          ],
          "bar": [
           {
            "error_x": {
             "color": "#2a3f5f"
            },
            "error_y": {
             "color": "#2a3f5f"
            },
            "marker": {
             "line": {
              "color": "#E5ECF6",
              "width": 0.5
             },
             "pattern": {
              "fillmode": "overlay",
              "size": 10,
              "solidity": 0.2
             }
            },
            "type": "bar"
           }
          ],
          "scattergeo": [
           {
            "type": "scattergeo",
            "marker": {
             "colorbar": {
              "outlinewidth": 0,
              "ticks": ""
             }
            }
           }
          ],
          "scatterpolar": [
           {
            "type": "scatterpolar",
            "marker": {
             "colorbar": {
              "outlinewidth": 0,
              "ticks": ""
             }
            }
           }
          ],
          "histogram": [
           {
            "marker": {
             "pattern": {
              "fillmode": "overlay",
              "size": 10,
              "solidity": 0.2
             }
            },
            "type": "histogram"
           }
          ],
          "scattergl": [
           {
            "type": "scattergl",
            "marker": {
             "colorbar": {
              "outlinewidth": 0,
              "ticks": ""
             }
            }
           }
          ],
          "scatter3d": [
           {
            "type": "scatter3d",
            "line": {
             "colorbar": {
              "outlinewidth": 0,
              "ticks": ""
             }
            },
            "marker": {
             "colorbar": {
              "outlinewidth": 0,
              "ticks": ""
             }
            }
           }
          ],
          "scattermap": [
           {
            "type": "scattermap",
            "marker": {
             "colorbar": {
              "outlinewidth": 0,
              "ticks": ""
             }
            }
           }
          ],
          "scattermapbox": [
           {
            "type": "scattermapbox",
            "marker": {
             "colorbar": {
              "outlinewidth": 0,
              "ticks": ""
             }
            }
           }
          ],
          "scatterternary": [
           {
            "type": "scatterternary",
            "marker": {
             "colorbar": {
              "outlinewidth": 0,
              "ticks": ""
             }
            }
           }
          ],
          "scattercarpet": [
           {
            "type": "scattercarpet",
            "marker": {
             "colorbar": {
              "outlinewidth": 0,
              "ticks": ""
             }
            }
           }
          ],
          "carpet": [
           {
            "aaxis": {
             "endlinecolor": "#2a3f5f",
             "gridcolor": "white",
             "linecolor": "white",
             "minorgridcolor": "white",
             "startlinecolor": "#2a3f5f"
            },
            "baxis": {
             "endlinecolor": "#2a3f5f",
             "gridcolor": "white",
             "linecolor": "white",
             "minorgridcolor": "white",
             "startlinecolor": "#2a3f5f"
            },
            "type": "carpet"
           }
          ],
          "table": [
           {
            "cells": {
             "fill": {
              "color": "#EBF0F8"
             },
             "line": {
              "color": "white"
             }
            },
            "header": {
             "fill": {
              "color": "#C8D4E3"
             },
             "line": {
              "color": "white"
             }
            },
            "type": "table"
           }
          ],
          "barpolar": [
           {
            "marker": {
             "line": {
              "color": "#E5ECF6",
              "width": 0.5
             },
             "pattern": {
              "fillmode": "overlay",
              "size": 10,
              "solidity": 0.2
             }
            },
            "type": "barpolar"
           }
          ],
          "pie": [
           {
            "automargin": true,
            "type": "pie"
           }
          ]
         },
         "layout": {
          "autotypenumbers": "strict",
          "colorway": [
           "#636efa",
           "#EF553B",
           "#00cc96",
           "#ab63fa",
           "#FFA15A",
           "#19d3f3",
           "#FF6692",
           "#B6E880",
           "#FF97FF",
           "#FECB52"
          ],
          "font": {
           "color": "#2a3f5f"
          },
          "hovermode": "closest",
          "hoverlabel": {
           "align": "left"
          },
          "paper_bgcolor": "white",
          "plot_bgcolor": "#E5ECF6",
          "polar": {
           "bgcolor": "#E5ECF6",
           "angularaxis": {
            "gridcolor": "white",
            "linecolor": "white",
            "ticks": ""
           },
           "radialaxis": {
            "gridcolor": "white",
            "linecolor": "white",
            "ticks": ""
           }
          },
          "ternary": {
           "bgcolor": "#E5ECF6",
           "aaxis": {
            "gridcolor": "white",
            "linecolor": "white",
            "ticks": ""
           },
           "baxis": {
            "gridcolor": "white",
            "linecolor": "white",
            "ticks": ""
           },
           "caxis": {
            "gridcolor": "white",
            "linecolor": "white",
            "ticks": ""
           }
          },
          "coloraxis": {
           "colorbar": {
            "outlinewidth": 0,
            "ticks": ""
           }
          },
          "colorscale": {
           "sequential": [
            [
             0.0,
             "#0d0887"
            ],
            [
             0.1111111111111111,
             "#46039f"
            ],
            [
             0.2222222222222222,
             "#7201a8"
            ],
            [
             0.3333333333333333,
             "#9c179e"
            ],
            [
             0.4444444444444444,
             "#bd3786"
            ],
            [
             0.5555555555555556,
             "#d8576b"
            ],
            [
             0.6666666666666666,
             "#ed7953"
            ],
            [
             0.7777777777777778,
             "#fb9f3a"
            ],
            [
             0.8888888888888888,
             "#fdca26"
            ],
            [
             1.0,
             "#f0f921"
            ]
           ],
           "sequentialminus": [
            [
             0.0,
             "#0d0887"
            ],
            [
             0.1111111111111111,
             "#46039f"
            ],
            [
             0.2222222222222222,
             "#7201a8"
            ],
            [
             0.3333333333333333,
             "#9c179e"
            ],
            [
             0.4444444444444444,
             "#bd3786"
            ],
            [
             0.5555555555555556,
             "#d8576b"
            ],
            [
             0.6666666666666666,
             "#ed7953"
            ],
            [
             0.7777777777777778,
             "#fb9f3a"
            ],
            [
             0.8888888888888888,
             "#fdca26"
            ],
            [
             1.0,
             "#f0f921"
            ]
           ],
           "diverging": [
            [
             0,
             "#8e0152"
            ],
            [
             0.1,
             "#c51b7d"
            ],
            [
             0.2,
             "#de77ae"
            ],
            [
             0.3,
             "#f1b6da"
            ],
            [
             0.4,
             "#fde0ef"
            ],
            [
             0.5,
             "#f7f7f7"
            ],
            [
             0.6,
             "#e6f5d0"
            ],
            [
             0.7,
             "#b8e186"
            ],
            [
             0.8,
             "#7fbc41"
            ],
            [
             0.9,
             "#4d9221"
            ],
            [
             1,
             "#276419"
            ]
           ]
          },
          "xaxis": {
           "gridcolor": "white",
           "linecolor": "white",
           "ticks": "",
           "title": {
            "standoff": 15
           },
           "zerolinecolor": "white",
           "automargin": true,
           "zerolinewidth": 2
          },
          "yaxis": {
           "gridcolor": "white",
           "linecolor": "white",
           "ticks": "",
           "title": {
            "standoff": 15
           },
           "zerolinecolor": "white",
           "automargin": true,
           "zerolinewidth": 2
          },
          "scene": {
           "xaxis": {
            "backgroundcolor": "#E5ECF6",
            "gridcolor": "white",
            "linecolor": "white",
            "showbackground": true,
            "ticks": "",
            "zerolinecolor": "white",
            "gridwidth": 2
           },
           "yaxis": {
            "backgroundcolor": "#E5ECF6",
            "gridcolor": "white",
            "linecolor": "white",
            "showbackground": true,
            "ticks": "",
            "zerolinecolor": "white",
            "gridwidth": 2
           },
           "zaxis": {
            "backgroundcolor": "#E5ECF6",
            "gridcolor": "white",
            "linecolor": "white",
            "showbackground": true,
            "ticks": "",
            "zerolinecolor": "white",
            "gridwidth": 2
           }
          },
          "shapedefaults": {
           "line": {
            "color": "#2a3f5f"
           }
          },
          "annotationdefaults": {
           "arrowcolor": "#2a3f5f",
           "arrowhead": 0,
           "arrowwidth": 1
          },
          "geo": {
           "bgcolor": "white",
           "landcolor": "#E5ECF6",
           "subunitcolor": "white",
           "showland": true,
           "showlakes": true,
           "lakecolor": "white"
          },
          "title": {
           "x": 0.05
          },
          "mapbox": {
           "style": "light"
          }
         }
        },
        "xaxis": {
         "anchor": "y",
         "domain": [
          0.0,
          0.45
         ]
        },
        "yaxis": {
         "anchor": "x",
         "domain": [
          0.625,
          1.0
         ]
        },
        "xaxis2": {
         "anchor": "y2",
         "domain": [
          0.55,
          1.0
         ]
        },
        "yaxis2": {
         "anchor": "x2",
         "domain": [
          0.625,
          1.0
         ]
        },
        "xaxis3": {
         "anchor": "y3",
         "domain": [
          0.0,
          0.45
         ]
        },
        "yaxis3": {
         "anchor": "x3",
         "domain": [
          0.0,
          0.375
         ]
        },
        "xaxis4": {
         "anchor": "y4",
         "domain": [
          0.55,
          1.0
         ]
        },
        "yaxis4": {
         "anchor": "x4",
         "domain": [
          0.0,
          0.375
         ]
        },
        "annotations": [
         {
          "font": {
           "size": 16
          },
          "showarrow": false,
          "text": "导弹威胁等级",
          "x": 0.225,
          "xanchor": "center",
          "xref": "paper",
          "y": 1.0,
          "yanchor": "bottom",
          "yref": "paper"
         },
         {
          "font": {
           "size": 16
          },
          "showarrow": false,
          "text": "飞行时间对比",
          "x": 0.775,
          "xanchor": "center",
          "xref": "paper",
          "y": 1.0,
          "yanchor": "bottom",
          "yref": "paper"
         },
         {
          "font": {
           "size": 16
          },
          "showarrow": false,
          "text": "距离分析",
          "x": 0.225,
          "xanchor": "center",
          "xref": "paper",
          "y": 0.375,
          "yanchor": "bottom",
          "yref": "paper"
         },
         {
          "font": {
           "size": 16
          },
          "showarrow": false,
          "text": "拦截窗口",
          "x": 0.775,
          "xanchor": "center",
          "xref": "paper",
          "y": 0.375,
          "yanchor": "bottom",
          "yref": "paper"
         }
        ],
        "title": {
         "text": "🎯 导弹威胁分析仪表板"
        },
        "showlegend": false,
        "height": 800
       },
       "config": {
        "plotlyServerURL": "https://plot.ly"
       }
      }
     },
     "metadata": {},
     "output_type": "display_data"
    }
   ],
   "execution_count": 20
  },
  {
   "metadata": {
    "ExecuteTime": {
     "end_time": "2025-09-05T18:17:12.964488Z",
     "start_time": "2025-09-05T18:17:12.935001Z"
    }
   },
   "cell_type": "code",
   "source": "animation_fig.show()",
   "id": "5e2ab99aed37339a",
   "outputs": [
    {
     "data": {
      "application/vnd.plotly.v1+json": {
       "data": [
        {
         "hovertemplate": "<b>M1</b><br>坐标: (20000, 0, 2000)<br>速度: 300 m/s<extra></extra>",
         "marker": {
          "color": "red",
          "size": 12,
          "symbol": "diamond"
         },
         "mode": "markers+text",
         "name": "导弹 M1",
         "text": [
          "M1"
         ],
         "textposition": "top center",
         "x": [
          20000
         ],
         "y": [
          0
         ],
         "z": [
          2000
         ],
         "type": "scatter3d"
        },
        {
         "hovertemplate": "<b>M2</b><br>坐标: (19000, 600, 2100)<br>速度: 300 m/s<extra></extra>",
         "marker": {
          "color": "red",
          "size": 12,
          "symbol": "diamond"
         },
         "mode": "markers+text",
         "name": "导弹 M2",
         "text": [
          "M2"
         ],
         "textposition": "top center",
         "x": [
          19000
         ],
         "y": [
          600
         ],
         "z": [
          2100
         ],
         "type": "scatter3d"
        },
        {
         "hovertemplate": "<b>M3</b><br>坐标: (18000, -600, 1900)<br>速度: 300 m/s<extra></extra>",
         "marker": {
          "color": "red",
          "size": 12,
          "symbol": "diamond"
         },
         "mode": "markers+text",
         "name": "导弹 M3",
         "text": [
          "M3"
         ],
         "textposition": "top center",
         "x": [
          18000
         ],
         "y": [
          -600
         ],
         "z": [
          1900
         ],
         "type": "scatter3d"
        },
        {
         "hovertemplate": "<b>FY1</b><br>坐标: (17800, 0, 1800)<br>速度范围: 70-140 m/s<extra></extra>",
         "marker": {
          "color": "blue",
          "size": 10,
          "symbol": "circle"
         },
         "mode": "markers+text",
         "name": "无人机 FY1",
         "text": [
          "FY1"
         ],
         "textposition": "top center",
         "x": [
          17800
         ],
         "y": [
          0
         ],
         "z": [
          1800
         ],
         "type": "scatter3d"
        },
        {
         "hovertemplate": "<b>FY2</b><br>坐标: (12000, 1400, 1400)<br>速度范围: 70-140 m/s<extra></extra>",
         "marker": {
          "color": "cyan",
          "size": 10,
          "symbol": "circle"
         },
         "mode": "markers+text",
         "name": "无人机 FY2",
         "text": [
          "FY2"
         ],
         "textposition": "top center",
         "x": [
          12000
         ],
         "y": [
          1400
         ],
         "z": [
          1400
         ],
         "type": "scatter3d"
        },
        {
         "hovertemplate": "<b>FY3</b><br>坐标: (6000, -3000, 700)<br>速度范围: 70-140 m/s<extra></extra>",
         "marker": {
          "color": "navy",
          "size": 10,
          "symbol": "circle"
         },
         "mode": "markers+text",
         "name": "无人机 FY3",
         "text": [
          "FY3"
         ],
         "textposition": "top center",
         "x": [
          6000
         ],
         "y": [
          -3000
         ],
         "z": [
          700
         ],
         "type": "scatter3d"
        },
        {
         "hovertemplate": "<b>FY4</b><br>坐标: (11000, 2000, 1800)<br>速度范围: 70-140 m/s<extra></extra>",
         "marker": {
          "color": "lightblue",
          "size": 10,
          "symbol": "circle"
         },
         "mode": "markers+text",
         "name": "无人机 FY4",
         "text": [
          "FY4"
         ],
         "textposition": "top center",
         "x": [
          11000
         ],
         "y": [
          2000
         ],
         "z": [
          1800
         ],
         "type": "scatter3d"
        },
        {
         "hovertemplate": "<b>FY5</b><br>坐标: (13000, -2000, 1300)<br>速度范围: 70-140 m/s<extra></extra>",
         "marker": {
          "color": "darkblue",
          "size": 10,
          "symbol": "circle"
         },
         "mode": "markers+text",
         "name": "无人机 FY5",
         "text": [
          "FY5"
         ],
         "textposition": "top center",
         "x": [
          13000
         ],
         "y": [
          -2000
         ],
         "z": [
          1300
         ],
         "type": "scatter3d"
        },
        {
         "hovertemplate": "<b>假目标</b><br>坐标: (0, 0, 0)<extra></extra>",
         "marker": {
          "color": "black",
          "size": 15,
          "symbol": "x"
         },
         "mode": "markers+text",
         "name": "假目标",
         "text": [
          "假目标"
         ],
         "textposition": "top center",
         "x": [
          0
         ],
         "y": [
          0
         ],
         "z": [
          0
         ],
         "type": "scatter3d"
        },
        {
         "hovertemplate": "<b>真目标</b><br>半径: 7m<br>高度: 10m<extra></extra>",
         "line": {
          "color": "green",
          "width": 4
         },
         "mode": "lines",
         "name": "真目标轮廓",
         "showlegend": true,
         "x": {
          "dtype": "f8",
          "bdata": "AAAAAAAAHEBgiF6IalgbQDXt2yeAaRlAj8nxJGVKFkAWefwCdyASQEenzngaOwpA5nTSkJL2/T9TWC1JFUHYPyPhHgidHvK/iXTK80y6BMAMgEWCLW0PwE7kH4nvUxTACoTrxfP9F8AqEH0mx4gawIZTvxr71RvAhlO/GvvVG8AqEH0mx4gawAqE68Xz/RfATeQfie9TFMAQgEWCLW0PwIl0yvNMugTAJOEeCJ0e8r9PWC1JFUHYP+x00pCS9v0/SqfOeBo7CkAYefwCdyASQJDJ8SRlShZANO3bJ4BpGUBgiF6IalgbQAAAAAAAABxA"
         },
         "y": {
          "dtype": "f8",
          "bdata": "AAAAAAAAaUAhBtJDJzBpQDBB4h4OXmlASs81HI+HaUCuZb9ruappQPtzWx3oxWlAkbCOz9XXaUCn5Wvmq99pQKT/gZQM3WlATJCzPRfQaUDMDHf/ZrlpQIeYEXALmmlACmqe63tzaUBIz+UGhkdpQD8uHPo3GGlAwdHjBcjnaEC4MBr5ebhoQPaVYRSEjGhAeWfuj/RlaEA084gAmUZoQLRvTMLoL2hAXAB+a/MiaEBZGpQZVCBoQG9PcTAqKGhABYyk4hc6aEBSmkCURlVoQLYwyuNweGhA0L4d4fGhaEDf+S282M9oQAAAAAAAAGlA"
         },
         "z": {
          "dtype": "f8",
          "bdata": "AAAAAAAAAAAAAAAAAAAAAAAAAAAAAAAAAAAAAAAAAAAAAAAAAAAAAAAAAAAAAAAAAAAAAAAAAAAAAAAAAAAAAAAAAAAAAAAAAAAAAAAAAAAAAAAAAAAAAAAAAAAAAAAAAAAAAAAAAAAAAAAAAAAAAAAAAAAAAAAAAAAAAAAAAAAAAAAAAAAAAAAAAAAAAAAAAAAAAAAAAAAAAAAAAAAAAAAAAAAAAAAAAAAAAAAAAAAAAAAAAAAAAAAAAAAAAAAAAAAAAAAAAAAAAAAAAAAAAAAAAAAAAAAAAAAAAAAAAAAAAAAAAAAAAAAAAAAAAAAA"
         },
         "type": "scatter3d"
        },
        {
         "hovertemplate": "<b>真目标</b><br>半径: 7m<br>高度: 10m<extra></extra>",
         "line": {
          "color": "green",
          "width": 4
         },
         "mode": "lines",
         "name": "",
         "showlegend": false,
         "x": {
          "dtype": "f8",
          "bdata": "AAAAAAAAHEBgiF6IalgbQDXt2yeAaRlAj8nxJGVKFkAWefwCdyASQEenzngaOwpA5nTSkJL2/T9TWC1JFUHYPyPhHgidHvK/iXTK80y6BMAMgEWCLW0PwE7kH4nvUxTACoTrxfP9F8AqEH0mx4gawIZTvxr71RvAhlO/GvvVG8AqEH0mx4gawAqE68Xz/RfATeQfie9TFMAQgEWCLW0PwIl0yvNMugTAJOEeCJ0e8r9PWC1JFUHYP+x00pCS9v0/SqfOeBo7CkAYefwCdyASQJDJ8SRlShZANO3bJ4BpGUBgiF6IalgbQAAAAAAAABxA"
         },
         "y": {
          "dtype": "f8",
          "bdata": "AAAAAAAAaUAhBtJDJzBpQDBB4h4OXmlASs81HI+HaUCuZb9ruappQPtzWx3oxWlAkbCOz9XXaUCn5Wvmq99pQKT/gZQM3WlATJCzPRfQaUDMDHf/ZrlpQIeYEXALmmlACmqe63tzaUBIz+UGhkdpQD8uHPo3GGlAwdHjBcjnaEC4MBr5ebhoQPaVYRSEjGhAeWfuj/RlaEA084gAmUZoQLRvTMLoL2hAXAB+a/MiaEBZGpQZVCBoQG9PcTAqKGhABYyk4hc6aEBSmkCURlVoQLYwyuNweGhA0L4d4fGhaEDf+S282M9oQAAAAAAAAGlA"
         },
         "z": {
          "dtype": "f8",
          "bdata": "AAAAAAAAJEAAAAAAAAAkQAAAAAAAACRAAAAAAAAAJEAAAAAAAAAkQAAAAAAAACRAAAAAAAAAJEAAAAAAAAAkQAAAAAAAACRAAAAAAAAAJEAAAAAAAAAkQAAAAAAAACRAAAAAAAAAJEAAAAAAAAAkQAAAAAAAACRAAAAAAAAAJEAAAAAAAAAkQAAAAAAAACRAAAAAAAAAJEAAAAAAAAAkQAAAAAAAACRAAAAAAAAAJEAAAAAAAAAkQAAAAAAAACRAAAAAAAAAJEAAAAAAAAAkQAAAAAAAACRAAAAAAAAAJEAAAAAAAAAkQAAAAAAAACRA"
         },
         "type": "scatter3d"
        },
        {
         "hoverinfo": "skip",
         "line": {
          "color": "green",
          "width": 2
         },
         "mode": "lines",
         "showlegend": false,
         "x": [
          7.0,
          7.0
         ],
         "y": [
          200.0,
          200.0
         ],
         "z": [
          0,
          10
         ],
         "type": "scatter3d"
        },
        {
         "hoverinfo": "skip",
         "line": {
          "color": "green",
          "width": 2
         },
         "mode": "lines",
         "showlegend": false,
         "x": [
          1.8726983697045454,
          1.8726983697045454
         ],
         "y": [
          206.74484994763455,
          206.74484994763455
         ],
         "z": [
          0,
          10
         ],
         "type": "scatter3d"
        },
        {
         "hoverinfo": "skip",
         "line": {
          "color": "green",
          "width": 2
         },
         "mode": "lines",
         "showlegend": false,
         "x": [
          -5.998000233173125,
          -5.998000233173125
         ],
         "y": [
          203.60887700023915,
          203.60887700023915
         ],
         "z": [
          0,
          10
         ],
         "type": "scatter3d"
        },
        {
         "hoverinfo": "skip",
         "line": {
          "color": "green",
          "width": 2
         },
         "mode": "lines",
         "showlegend": false,
         "x": [
          -5.081968443461915,
          -5.081968443461915
         ],
         "y": [
          195.18610378802603,
          195.18610378802603
         ],
         "z": [
          0,
          10
         ],
         "type": "scatter3d"
        },
        {
         "hoverinfo": "skip",
         "line": {
          "color": "green",
          "width": 2
         },
         "mode": "lines",
         "showlegend": false,
         "x": [
          3.2788590848985324,
          3.2788590848985324
         ],
         "y": [
          193.81541568887783,
          193.81541568887783
         ],
         "z": [
          0,
          10
         ],
         "type": "scatter3d"
        },
        {
         "hovertemplate": "<b>M1飞行轨迹</b><br>目标: 假目标<extra></extra>",
         "line": {
          "color": "red",
          "dash": "dash",
          "width": 3
         },
         "mode": "lines",
         "name": "M1轨迹",
         "opacity": 0.7,
         "showlegend": true,
         "x": {
          "dtype": "f8",
          "bdata": "AAAAAACI00BU8HIKXjbTQKfg5RS85NJA+9BYHxqT0kBOwcspeEHSQKKxPjTW79FA9qGxPjSe0UBJkiRJkkzRQJ2Cl1Pw+tBA8HIKXk6p0EBEY31orFfQQJdT8HIKBtBA1ofG+tBoz0B9aKwPjcXOQCRJkiRJIs5AzCl4OQV/zUBzCl5OwdvMQBrrQ2N9OMxAwsspeDmVy0BorA+N9fHKQBCN9aGxTspAtm3btm2ryUBeTsHLKQjJQAUvp+DlZMhArA+N9aHBx0BU8HIKXh7HQPrQWB8ae8ZAorE+NNbXxUBJkiRJkjTFQPByCl5OkcRAl1Pwcgruw0A/NNaHxkrDQOYUvJyCp8JAjPWhsT4EwkA01ofG+mDBQNu2bdu2vcBAg5dT8HIawEBS8HIKXu6+QKKxPjTWp71A8HIKXk5hvEA+NNaHxhq7QIz1obE+1LlA2rZt27aNuEAqeDkFL0e3QHY5BS+nALZAxvrQWB+6tEAUvJyCl3OzQGR9aKwPLbJAsD401ofmsEAAAAAAAECvQA=="
         },
         "y": {
          "dtype": "f8",
          "bdata": "AAAAAAAAAAAAAAAAAAAAAAAAAAAAAAAAAAAAAAAAAAAAAAAAAAAAAAAAAAAAAAAAAAAAAAAAAAAAAAAAAAAAAAAAAAAAAAAAAAAAAAAAAAAAAAAAAAAAAAAAAAAAAAAAAAAAAAAAAAAAAAAAAAAAAAAAAAAAAAAAAAAAAAAAAAAAAAAAAAAAAAAAAAAAAAAAAAAAAAAAAAAAAAAAAAAAAAAAAAAAAAAAAAAAAAAAAAAAAAAAAAAAAAAAAAAAAAAAAAAAAAAAAAAAAAAAAAAAAAAAAAAAAAAAAAAAAAAAAAAAAAAAAAAAAAAAAAAAAAAAAAAAAAAAAAAAAAAAAAAAAAAAAAAAAAAAAAAAAAAAAAAAAAAAAAAAAAAAAAAAAAAAAAAAAAAAAAAAAAAAAAAAAAAAAAAAAAAAAAAAAAAAAAAAAAAAAAAAAAAAAAAAAAAAAAAAAAAAAAAAAAAAAAAAAAAAAAAAAAAAAAAAAAAAAAAAAAAAAAAAAAAAAAAAAAAAAAAAAAAAAAAAAAAAAAAAAA=="
         },
         "z": {
          "dtype": "f8",
          "bdata": "AAAAAABAn0AfGutDY72eQD801ofGOp5AXk7Byym4nUB9aKwPjTWdQJ2Cl1PwspxAvJyCl1MwnEDbtm3btq2bQPvQWB8aK5tAGutDY32omkA6BS+n4CWaQFkfGutDo5lAeDkFL6cgmUCXU/ByCp6YQLdt27ZtG5hA1ofG+tCYl0D2obE+NBaXQBW8nIKXk5ZANNaHxvoQlkBU8HIKXo6VQHMKXk7BC5VAkiRJkiSJlECyPjTWhwaUQNFYHxrrg5NA8HIKXk4Bk0AQjfWhsX6SQC6n4OUU/JFATsHLKXh5kUBu27Zt2/aQQI31obE+dJBAWB8a60Pjj0CYU/ByCt6OQNaHxvrQ2I1AFLycgpfTjEBU8HIKXs6LQJIkSZIkyYpA0lgfGuvDiUAQjfWhsb6IQE7Byyl4uYdAjPWhsT60hkDMKXg5Ba+FQApeTsHLqYRASJIkSZKkg0CIxvrQWJ+CQMb60FgfmoFABi+n4OWUgECIxvrQWB9/QAgvp+DlFH1AgJdT8HIKe0AAAAAAAAB5QA=="
         },
         "type": "scatter3d"
        },
        {
         "hovertemplate": "<b>M2飞行轨迹</b><br>目标: 假目标<extra></extra>",
         "line": {
          "color": "red",
          "dash": "dash",
          "width": 3
         },
         "mode": "lines",
         "name": "",
         "opacity": 0.7,
         "showlegend": false,
         "x": {
          "dtype": "f8",
          "bdata": "AAAAAACO0kCDl1PwckDSQAUvp+Dl8tFAiMb60Fil0UAKXk7By1fRQI31obE+CtFAEI31obG80ECSJEmSJG/QQBW8nIKXIdBAL6fg5RSoz0A01ofG+gzPQDoFL6fgcc5APzTWh8bWzUBEY31orDvNQEmSJEmSoMxATsHLKXgFzEBU8HIKXmrLQFgfGutDz8pAXk7Byyk0ykBkfWisD5nJQGisD431/chAbtu2bdtiyEBzCl5OwcfHQHg5BS+nLMdAfmisD42RxkCCl1PwcvbFQIjG+tBYW8VAjfWhsT7AxECSJEmSJCXEQJhT8HIKisNAnYKXU/DuwkCisT401lPCQKfg5RS8uMFArA+N9aEdwUCxPjTWh4LAQGzbtm3bzr9AeDkFL6eYvkCEl1PwcmK9QI71obE+LLxAmFPwcgr2ukCisT401r+5QKwPjfWhibhAuG3btm1Tt0DCyyl4OR22QMwpeDkF57RA1ofG+tCws0Dg5RS8nHqyQOpDY31oRLFA9qGxPjQOsED8/////6+tQA=="
         },
         "y": {
          "dtype": "f8",
          "bdata": "AAAAAADAgkCsD431oXGCQFkfGutDI4JABS+n4OXUgUCyPjTWh4aBQF5OwcspOIFACl5OwcvpgEC3bdu2bZuAQGN9aKwPTYBAIBrrQ2P9f0B4OQUvp2B/QNFYHxrrw35AKng5BS8nfkCCl1Pwcop9QNu2bdu27XxANNaHxvpQfECN9aGxPrR7QOYUvJyCF3tAPzTWh8Z6ekCYU/ByCt55QPByCl5OQXlASpIkSZKkeECisT401gd4QPrQWB8aa3dAVPByCl7OdkCsD431oTF2QAUvp+DllHVAXk7Byyn4dEC2bdu2bVt0QBCN9aGxvnNAaawPjfUhc0DByyl4OYVyQBrrQ2N96HFAcwpeTsFLcUDLKXg5Ba9wQCRJkiRJEnBA/NBYHxrrbkCsD431obFtQF5OwcspeGxAEI31obE+a0DAyyl4OQVqQHIKXk7By2hAJkmSJEmSZ0DWh8b60FhmQIjG+tBYH2VAOgUvp+DlY0DqQ2N9aKxiQJyCl1PwcmFAUMHLKXg5YED8//////9dQA=="
         },
         "z": {
          "dtype": "f8",
          "bdata": "AAAAAABooEC3bdu2bSOgQNu2bdu2vZ9ASZIkSZI0n0C3bdu2baueQCVJkiRJIp5AkiRJkiSZnUAAAAAAABCdQG7btm3bhpxA3LZt27b9m0BJkiRJknSbQLdt27Zt65pAJUmSJElimkCSJEmSJNmZQAAAAAAAUJlAbtu2bdvGmEDctm3btj2YQEmSJEmStJdAt23btm0rl0AlSZIkSaKWQJIkSZIkGZZAAAAAAACQlUBu27Zt2waVQNy2bdu2fZRASpIkSZL0k0C3bdu2bWuTQCRJkiRJ4pJAkiRJkiRZkkAAAAAAANCRQG7btm3bRpFA3LZt27a9kEBKkiRJkjSQQG7btm3bVo9ASpIkSZJEjkAkSZIkSTKNQAAAAAAAIIxA3LZt27YNi0C4bdu2bfuJQJQkSZIk6YhAbtu2bdvWh0BKkiRJksSGQCRJkiRJsoVAAgAAAACghEDctm3bto2DQLht27Zte4JAkiRJkiRpgUBu27Zt21aAQJQkSZIkiX5ATJIkSZJkfEAAAAAAAEB6QA=="
         },
         "type": "scatter3d"
        },
        {
         "hovertemplate": "<b>M3飞行轨迹</b><br>目标: 假目标<extra></extra>",
         "line": {
          "color": "red",
          "dash": "dash",
          "width": 3
         },
         "mode": "lines",
         "name": "",
         "opacity": 0.7,
         "showlegend": false,
         "x": {
          "dtype": "f8",
          "bdata": "AAAAAACU0UCyPjTWh0rRQGN9aKwPAdFAFbycgpe30EDH+tBYH27QQHg5BS+nJNBAVPByCl62z0C3bdu2bSPPQBrrQ2N9kM5AfmisD439zUDh5RS8nGrNQERjfWis18xAp+DlFLxEzEAKXk7By7HLQG7btm3bHstA0VgfGuuLykA01ofG+vjJQJhT8HIKZslA+9BYHxrTyEBeTsHLKUDIQMLLKXg5rcdAJEmSJEkax0CIxvrQWIfGQOtDY31o9MVATsHLKXhhxUCyPjTWh87EQBW8nIKXO8RAeDkFL6eow0Dbtm3bthXDQD401ofGgsJAorE+NNbvwUAGL6fg5VzBQGmsD431ycBAzCl4OQU3wEBeTsHLKUi/QCZJkiRJIr5A7ENjfWj8vECyPjTWh9a7QHg5BS+nsLpAQDTWh8aKuUAGL6fg5WS4QMwpeDkFP7dAkiRJkiQZtkBYHxrrQ/O0QCAa60NjzbNA5hS8nIKnskCsD431oYGxQHIKXk7BW7BAcApeTsFrrkD8/////x+sQA=="
         },
         "y": {
          "dtype": "f8",
          "bdata": "AAAAAADAgsCsD431oXGCwFkfGutDI4LABS+n4OXUgcCyPjTWh4aBwF5OwcspOIHACl5OwcvpgMC3bdu2bZuAwGN9aKwPTYDAIBrrQ2P9f8B4OQUvp2B/wNFYHxrrw37AKng5BS8nfsCDl1Pwcop9wNy2bdu27XzANNaHxvpQfMCN9aGxPrR7wOYUvJyCF3vAPzTWh8Z6esCYU/ByCt55wPByCl5OQXnASZIkSZKkeMCisT401gd4wPvQWB8aa3fAVPByCl7OdsCsD431oTF2wAYvp+DllHXAXk7Byyn4dMC3bdu2bVt0wBCN9aGxvnPAaawPjfUhc8DCyyl4OYVywBrrQ2N96HHAcwpeTsFLccDMKXg5Ba9wwCVJkiRJEnDA/NBYHxrrbsCsD431obFtwF5OwcspeGzAEo31obE+a8DCyyl4OQVqwHQKXk7By2jAJEmSJEmSZ8DWh8b60FhmwIrG+tBYH2XAOgUvp+DlY8DsQ2N9aKxiwJ6Cl1PwcmHATsHLKXg5YMAAAAAAAABewA=="
         },
         "z": {
          "dtype": "f8",
          "bdata": "AAAAAACwnUDRWB8a6zOdQKKxPjTWt5xAcwpeTsE7nEBEY31orL+bQBW8nIKXQ5tA5hS8nILHmkC3bdu2bUuaQIjG+tBYz5lAWR8a60NTmUAqeDkFL9eYQPvQWB8aW5hAzCl4OQXfl0CcgpdT8GKXQG7btm3b5pZAPzTWh8ZqlkAQjfWhse6VQODlFLyccpVAsj401of2lECCl1PwcnqUQFTwcgpe/pNAJEmSJEmCk0D2obE+NAaTQMb60FgfipJAl1PwcgoOkkBorA+N9ZGRQDkFL6fgFZFACl5OwcuZkEDbtm3bth2QQFgfGutDQ49A+9BYHxpLjkCdgpdT8FKNQD401ofGWoxA4OUUvJxii0CCl1PwcmqKQCRJkiRJcolAxvrQWB96iEBorA+N9YGHQApeTsHLiYZArA+N9aGRhUBOwcspeJmEQPByCl5OoYNAkiRJkiSpgkAy1ofG+rCBQNaHxvrQuIBA8HIKXk6Bf0A01ofG+pB9QHQ5BS+noHtAuJyCl1OweUD8/////793QA=="
         },
         "type": "scatter3d"
        }
       ],
       "layout": {
        "template": {
         "data": {
          "histogram2dcontour": [
           {
            "type": "histogram2dcontour",
            "colorbar": {
             "outlinewidth": 0,
             "ticks": ""
            },
            "colorscale": [
             [
              0.0,
              "#0d0887"
             ],
             [
              0.1111111111111111,
              "#46039f"
             ],
             [
              0.2222222222222222,
              "#7201a8"
             ],
             [
              0.3333333333333333,
              "#9c179e"
             ],
             [
              0.4444444444444444,
              "#bd3786"
             ],
             [
              0.5555555555555556,
              "#d8576b"
             ],
             [
              0.6666666666666666,
              "#ed7953"
             ],
             [
              0.7777777777777778,
              "#fb9f3a"
             ],
             [
              0.8888888888888888,
              "#fdca26"
             ],
             [
              1.0,
              "#f0f921"
             ]
            ]
           }
          ],
          "choropleth": [
           {
            "type": "choropleth",
            "colorbar": {
             "outlinewidth": 0,
             "ticks": ""
            }
           }
          ],
          "histogram2d": [
           {
            "type": "histogram2d",
            "colorbar": {
             "outlinewidth": 0,
             "ticks": ""
            },
            "colorscale": [
             [
              0.0,
              "#0d0887"
             ],
             [
              0.1111111111111111,
              "#46039f"
             ],
             [
              0.2222222222222222,
              "#7201a8"
             ],
             [
              0.3333333333333333,
              "#9c179e"
             ],
             [
              0.4444444444444444,
              "#bd3786"
             ],
             [
              0.5555555555555556,
              "#d8576b"
             ],
             [
              0.6666666666666666,
              "#ed7953"
             ],
             [
              0.7777777777777778,
              "#fb9f3a"
             ],
             [
              0.8888888888888888,
              "#fdca26"
             ],
             [
              1.0,
              "#f0f921"
             ]
            ]
           }
          ],
          "heatmap": [
           {
            "type": "heatmap",
            "colorbar": {
             "outlinewidth": 0,
             "ticks": ""
            },
            "colorscale": [
             [
              0.0,
              "#0d0887"
             ],
             [
              0.1111111111111111,
              "#46039f"
             ],
             [
              0.2222222222222222,
              "#7201a8"
             ],
             [
              0.3333333333333333,
              "#9c179e"
             ],
             [
              0.4444444444444444,
              "#bd3786"
             ],
             [
              0.5555555555555556,
              "#d8576b"
             ],
             [
              0.6666666666666666,
              "#ed7953"
             ],
             [
              0.7777777777777778,
              "#fb9f3a"
             ],
             [
              0.8888888888888888,
              "#fdca26"
             ],
             [
              1.0,
              "#f0f921"
             ]
            ]
           }
          ],
          "contourcarpet": [
           {
            "type": "contourcarpet",
            "colorbar": {
             "outlinewidth": 0,
             "ticks": ""
            }
           }
          ],
          "contour": [
           {
            "type": "contour",
            "colorbar": {
             "outlinewidth": 0,
             "ticks": ""
            },
            "colorscale": [
             [
              0.0,
              "#0d0887"
             ],
             [
              0.1111111111111111,
              "#46039f"
             ],
             [
              0.2222222222222222,
              "#7201a8"
             ],
             [
              0.3333333333333333,
              "#9c179e"
             ],
             [
              0.4444444444444444,
              "#bd3786"
             ],
             [
              0.5555555555555556,
              "#d8576b"
             ],
             [
              0.6666666666666666,
              "#ed7953"
             ],
             [
              0.7777777777777778,
              "#fb9f3a"
             ],
             [
              0.8888888888888888,
              "#fdca26"
             ],
             [
              1.0,
              "#f0f921"
             ]
            ]
           }
          ],
          "surface": [
           {
            "type": "surface",
            "colorbar": {
             "outlinewidth": 0,
             "ticks": ""
            },
            "colorscale": [
             [
              0.0,
              "#0d0887"
             ],
             [
              0.1111111111111111,
              "#46039f"
             ],
             [
              0.2222222222222222,
              "#7201a8"
             ],
             [
              0.3333333333333333,
              "#9c179e"
             ],
             [
              0.4444444444444444,
              "#bd3786"
             ],
             [
              0.5555555555555556,
              "#d8576b"
             ],
             [
              0.6666666666666666,
              "#ed7953"
             ],
             [
              0.7777777777777778,
              "#fb9f3a"
             ],
             [
              0.8888888888888888,
              "#fdca26"
             ],
             [
              1.0,
              "#f0f921"
             ]
            ]
           }
          ],
          "mesh3d": [
           {
            "type": "mesh3d",
            "colorbar": {
             "outlinewidth": 0,
             "ticks": ""
            }
           }
          ],
          "scatter": [
           {
            "fillpattern": {
             "fillmode": "overlay",
             "size": 10,
             "solidity": 0.2
            },
            "type": "scatter"
           }
          ],
          "parcoords": [
           {
            "type": "parcoords",
            "line": {
             "colorbar": {
              "outlinewidth": 0,
              "ticks": ""
             }
            }
           }
          ],
          "scatterpolargl": [
           {
            "type": "scatterpolargl",
            "marker": {
             "colorbar": {
              "outlinewidth": 0,
              "ticks": ""
             }
            }
           }
          ],
          "bar": [
           {
            "error_x": {
             "color": "#2a3f5f"
            },
            "error_y": {
             "color": "#2a3f5f"
            },
            "marker": {
             "line": {
              "color": "#E5ECF6",
              "width": 0.5
             },
             "pattern": {
              "fillmode": "overlay",
              "size": 10,
              "solidity": 0.2
             }
            },
            "type": "bar"
           }
          ],
          "scattergeo": [
           {
            "type": "scattergeo",
            "marker": {
             "colorbar": {
              "outlinewidth": 0,
              "ticks": ""
             }
            }
           }
          ],
          "scatterpolar": [
           {
            "type": "scatterpolar",
            "marker": {
             "colorbar": {
              "outlinewidth": 0,
              "ticks": ""
             }
            }
           }
          ],
          "histogram": [
           {
            "marker": {
             "pattern": {
              "fillmode": "overlay",
              "size": 10,
              "solidity": 0.2
             }
            },
            "type": "histogram"
           }
          ],
          "scattergl": [
           {
            "type": "scattergl",
            "marker": {
             "colorbar": {
              "outlinewidth": 0,
              "ticks": ""
             }
            }
           }
          ],
          "scatter3d": [
           {
            "type": "scatter3d",
            "line": {
             "colorbar": {
              "outlinewidth": 0,
              "ticks": ""
             }
            },
            "marker": {
             "colorbar": {
              "outlinewidth": 0,
              "ticks": ""
             }
            }
           }
          ],
          "scattermap": [
           {
            "type": "scattermap",
            "marker": {
             "colorbar": {
              "outlinewidth": 0,
              "ticks": ""
             }
            }
           }
          ],
          "scattermapbox": [
           {
            "type": "scattermapbox",
            "marker": {
             "colorbar": {
              "outlinewidth": 0,
              "ticks": ""
             }
            }
           }
          ],
          "scatterternary": [
           {
            "type": "scatterternary",
            "marker": {
             "colorbar": {
              "outlinewidth": 0,
              "ticks": ""
             }
            }
           }
          ],
          "scattercarpet": [
           {
            "type": "scattercarpet",
            "marker": {
             "colorbar": {
              "outlinewidth": 0,
              "ticks": ""
             }
            }
           }
          ],
          "carpet": [
           {
            "aaxis": {
             "endlinecolor": "#2a3f5f",
             "gridcolor": "white",
             "linecolor": "white",
             "minorgridcolor": "white",
             "startlinecolor": "#2a3f5f"
            },
            "baxis": {
             "endlinecolor": "#2a3f5f",
             "gridcolor": "white",
             "linecolor": "white",
             "minorgridcolor": "white",
             "startlinecolor": "#2a3f5f"
            },
            "type": "carpet"
           }
          ],
          "table": [
           {
            "cells": {
             "fill": {
              "color": "#EBF0F8"
             },
             "line": {
              "color": "white"
             }
            },
            "header": {
             "fill": {
              "color": "#C8D4E3"
             },
             "line": {
              "color": "white"
             }
            },
            "type": "table"
           }
          ],
          "barpolar": [
           {
            "marker": {
             "line": {
              "color": "#E5ECF6",
              "width": 0.5
             },
             "pattern": {
              "fillmode": "overlay",
              "size": 10,
              "solidity": 0.2
             }
            },
            "type": "barpolar"
           }
          ],
          "pie": [
           {
            "automargin": true,
            "type": "pie"
           }
          ]
         },
         "layout": {
          "autotypenumbers": "strict",
          "colorway": [
           "#636efa",
           "#EF553B",
           "#00cc96",
           "#ab63fa",
           "#FFA15A",
           "#19d3f3",
           "#FF6692",
           "#B6E880",
           "#FF97FF",
           "#FECB52"
          ],
          "font": {
           "color": "#2a3f5f"
          },
          "hovermode": "closest",
          "hoverlabel": {
           "align": "left"
          },
          "paper_bgcolor": "white",
          "plot_bgcolor": "#E5ECF6",
          "polar": {
           "bgcolor": "#E5ECF6",
           "angularaxis": {
            "gridcolor": "white",
            "linecolor": "white",
            "ticks": ""
           },
           "radialaxis": {
            "gridcolor": "white",
            "linecolor": "white",
            "ticks": ""
           }
          },
          "ternary": {
           "bgcolor": "#E5ECF6",
           "aaxis": {
            "gridcolor": "white",
            "linecolor": "white",
            "ticks": ""
           },
           "baxis": {
            "gridcolor": "white",
            "linecolor": "white",
            "ticks": ""
           },
           "caxis": {
            "gridcolor": "white",
            "linecolor": "white",
            "ticks": ""
           }
          },
          "coloraxis": {
           "colorbar": {
            "outlinewidth": 0,
            "ticks": ""
           }
          },
          "colorscale": {
           "sequential": [
            [
             0.0,
             "#0d0887"
            ],
            [
             0.1111111111111111,
             "#46039f"
            ],
            [
             0.2222222222222222,
             "#7201a8"
            ],
            [
             0.3333333333333333,
             "#9c179e"
            ],
            [
             0.4444444444444444,
             "#bd3786"
            ],
            [
             0.5555555555555556,
             "#d8576b"
            ],
            [
             0.6666666666666666,
             "#ed7953"
            ],
            [
             0.7777777777777778,
             "#fb9f3a"
            ],
            [
             0.8888888888888888,
             "#fdca26"
            ],
            [
             1.0,
             "#f0f921"
            ]
           ],
           "sequentialminus": [
            [
             0.0,
             "#0d0887"
            ],
            [
             0.1111111111111111,
             "#46039f"
            ],
            [
             0.2222222222222222,
             "#7201a8"
            ],
            [
             0.3333333333333333,
             "#9c179e"
            ],
            [
             0.4444444444444444,
             "#bd3786"
            ],
            [
             0.5555555555555556,
             "#d8576b"
            ],
            [
             0.6666666666666666,
             "#ed7953"
            ],
            [
             0.7777777777777778,
             "#fb9f3a"
            ],
            [
             0.8888888888888888,
             "#fdca26"
            ],
            [
             1.0,
             "#f0f921"
            ]
           ],
           "diverging": [
            [
             0,
             "#8e0152"
            ],
            [
             0.1,
             "#c51b7d"
            ],
            [
             0.2,
             "#de77ae"
            ],
            [
             0.3,
             "#f1b6da"
            ],
            [
             0.4,
             "#fde0ef"
            ],
            [
             0.5,
             "#f7f7f7"
            ],
            [
             0.6,
             "#e6f5d0"
            ],
            [
             0.7,
             "#b8e186"
            ],
            [
             0.8,
             "#7fbc41"
            ],
            [
             0.9,
             "#4d9221"
            ],
            [
             1,
             "#276419"
            ]
           ]
          },
          "xaxis": {
           "gridcolor": "white",
           "linecolor": "white",
           "ticks": "",
           "title": {
            "standoff": 15
           },
           "zerolinecolor": "white",
           "automargin": true,
           "zerolinewidth": 2
          },
          "yaxis": {
           "gridcolor": "white",
           "linecolor": "white",
           "ticks": "",
           "title": {
            "standoff": 15
           },
           "zerolinecolor": "white",
           "automargin": true,
           "zerolinewidth": 2
          },
          "scene": {
           "xaxis": {
            "backgroundcolor": "#E5ECF6",
            "gridcolor": "white",
            "linecolor": "white",
            "showbackground": true,
            "ticks": "",
            "zerolinecolor": "white",
            "gridwidth": 2
           },
           "yaxis": {
            "backgroundcolor": "#E5ECF6",
            "gridcolor": "white",
            "linecolor": "white",
            "showbackground": true,
            "ticks": "",
            "zerolinecolor": "white",
            "gridwidth": 2
           },
           "zaxis": {
            "backgroundcolor": "#E5ECF6",
            "gridcolor": "white",
            "linecolor": "white",
            "showbackground": true,
            "ticks": "",
            "zerolinecolor": "white",
            "gridwidth": 2
           }
          },
          "shapedefaults": {
           "line": {
            "color": "#2a3f5f"
           }
          },
          "annotationdefaults": {
           "arrowcolor": "#2a3f5f",
           "arrowhead": 0,
           "arrowwidth": 1
          },
          "geo": {
           "bgcolor": "white",
           "landcolor": "#E5ECF6",
           "subunitcolor": "white",
           "showland": true,
           "showlakes": true,
           "lakecolor": "white"
          },
          "title": {
           "x": 0.05
          },
          "mapbox": {
           "style": "light"
          }
         }
        },
        "title": {
         "font": {
          "size": 20,
          "color": "darkblue"
         },
         "text": "🚀 烟幕干扰弹投放策略 - 交互式3D场景",
         "x": 0.5
        },
        "scene": {
         "camera": {
          "eye": {
           "x": 1.5,
           "y": 1.5,
           "z": 1.2
          }
         },
         "aspectratio": {
          "x": 2,
          "y": 1,
          "z": 0.5
         },
         "xaxis": {
          "title": {
           "text": "X 坐标 (m)"
          }
         },
         "yaxis": {
          "title": {
           "text": "Y 坐标 (m)"
          }
         },
         "zaxis": {
          "title": {
           "text": "Z 坐标 (m)"
          }
         },
         "aspectmode": "manual"
        },
        "width": 1200,
        "height": 800,
        "showlegend": true,
        "updatemenus": [
         {
          "buttons": [
           {
            "args": [
             null,
             {
              "frame": {
               "duration": 100,
               "redraw": true
              },
              "fromcurrent": true
             }
            ],
            "label": "▶️ 播放",
            "method": "animate"
           },
           {
            "args": [
             [
              null
             ],
             {
              "frame": {
               "duration": 0,
               "redraw": true
              },
              "mode": "immediate",
              "transition": {
               "duration": 0
              }
             }
            ],
            "label": "⏸️ 暂停",
            "method": "animate"
           }
          ],
          "direction": "left",
          "pad": {
           "r": 10,
           "t": 87
          },
          "showactive": false,
          "type": "buttons",
          "x": 0.1,
          "xanchor": "right",
          "y": 0,
          "yanchor": "top"
         }
        ]
       },
       "frames": [
        {
         "data": [
          {
           "marker": {
            "color": "red",
            "size": 8
           },
           "mode": "markers",
           "name": "M1",
           "x": [
            20000.0
           ],
           "y": [
            0.0
           ],
           "z": [
            2000.0
           ],
           "type": "scatter3d"
          },
          {
           "marker": {
            "color": "red",
            "size": 8
           },
           "mode": "markers",
           "name": "M2",
           "x": [
            19000.0
           ],
           "y": [
            600.0
           ],
           "z": [
            2100.0
           ],
           "type": "scatter3d"
          },
          {
           "marker": {
            "color": "red",
            "size": 8
           },
           "mode": "markers",
           "name": "M3",
           "x": [
            18000.0
           ],
           "y": [
            -600.0
           ],
           "z": [
            1900.0
           ],
           "type": "scatter3d"
          }
         ],
         "name": "t=0.0s"
        },
        {
         "data": [
          {
           "marker": {
            "color": "red",
            "size": 8
           },
           "mode": "markers",
           "name": "M1",
           "x": [
            19788.93150510697
           ],
           "y": [
            0.0
           ],
           "z": [
            1978.8931505106973
           ],
           "type": "scatter3d"
          },
          {
           "marker": {
            "color": "red",
            "size": 8
           },
           "mode": "markers",
           "name": "M2",
           "x": [
            18789.26646134035
           ],
           "y": [
            593.3452566739059
           ],
           "z": [
            2076.7083983586704
           ],
           "type": "scatter3d"
          },
          {
           "marker": {
            "color": "red",
            "size": 8
           },
           "mode": "markers",
           "name": "M3",
           "x": [
            17789.166535498705
           ],
           "y": [
            -592.9722178499569
           ],
           "z": [
            1877.7453565248634
           ],
           "type": "scatter3d"
          }
         ],
         "name": "t=0.7s"
        },
        {
         "data": [
          {
           "marker": {
            "color": "red",
            "size": 8
           },
           "mode": "markers",
           "name": "M1",
           "x": [
            19577.863010213943
           ],
           "y": [
            0.0
           ],
           "z": [
            1957.7863010213944
           ],
           "type": "scatter3d"
          },
          {
           "marker": {
            "color": "red",
            "size": 8
           },
           "mode": "markers",
           "name": "M2",
           "x": [
            18578.5329226807
           ],
           "y": [
            586.6905133478117
           ],
           "z": [
            2053.4167967173407
           ],
           "type": "scatter3d"
          },
          {
           "marker": {
            "color": "red",
            "size": 8
           },
           "mode": "markers",
           "name": "M3",
           "x": [
            17578.33307099741
           ],
           "y": [
            -585.9444356999137
           ],
           "z": [
            1855.4907130497268
           ],
           "type": "scatter3d"
          }
         ],
         "name": "t=1.4s"
        },
        {
         "data": [
          {
           "marker": {
            "color": "red",
            "size": 8
           },
           "mode": "markers",
           "name": "M1",
           "x": [
            19366.794515320915
           ],
           "y": [
            0.0
           ],
           "z": [
            1936.6794515320917
           ],
           "type": "scatter3d"
          },
          {
           "marker": {
            "color": "red",
            "size": 8
           },
           "mode": "markers",
           "name": "M2",
           "x": [
            18367.799384021055
           ],
           "y": [
            580.0357700217174
           ],
           "z": [
            2030.125195076011
           ],
           "type": "scatter3d"
          },
          {
           "marker": {
            "color": "red",
            "size": 8
           },
           "mode": "markers",
           "name": "M3",
           "x": [
            17367.49960649612
           ],
           "y": [
            -578.9166535498706
           ],
           "z": [
            1833.2360695745901
           ],
           "type": "scatter3d"
          }
         ],
         "name": "t=2.1s"
        },
        {
         "data": [
          {
           "marker": {
            "color": "red",
            "size": 8
           },
           "mode": "markers",
           "name": "M1",
           "x": [
            19155.726020427886
           ],
           "y": [
            0.0
           ],
           "z": [
            1915.5726020427887
           ],
           "type": "scatter3d"
          },
          {
           "marker": {
            "color": "red",
            "size": 8
           },
           "mode": "markers",
           "name": "M2",
           "x": [
            18157.065845361405
           ],
           "y": [
            573.3810266956233
           ],
           "z": [
            2006.8335934346817
           ],
           "type": "scatter3d"
          },
          {
           "marker": {
            "color": "red",
            "size": 8
           },
           "mode": "markers",
           "name": "M3",
           "x": [
            17156.666141994825
           ],
           "y": [
            -571.8888713998275
           ],
           "z": [
            1810.9814260994538
           ],
           "type": "scatter3d"
          }
         ],
         "name": "t=2.8s"
        },
        {
         "data": [
          {
           "marker": {
            "color": "red",
            "size": 8
           },
           "mode": "markers",
           "name": "M1",
           "x": [
            18944.65752553486
           ],
           "y": [
            0.0
           ],
           "z": [
            1894.465752553486
           ],
           "type": "scatter3d"
          },
          {
           "marker": {
            "color": "red",
            "size": 8
           },
           "mode": "markers",
           "name": "M2",
           "x": [
            17946.332306701755
           ],
           "y": [
            566.7262833695291
           ],
           "z": [
            1983.541991793352
           ],
           "type": "scatter3d"
          },
          {
           "marker": {
            "color": "red",
            "size": 8
           },
           "mode": "markers",
           "name": "M3",
           "x": [
            16945.83267749353
           ],
           "y": [
            -564.8610892497843
           ],
           "z": [
            1788.7267826243171
           ],
           "type": "scatter3d"
          }
         ],
         "name": "t=3.5s"
        },
        {
         "data": [
          {
           "marker": {
            "color": "red",
            "size": 8
           },
           "mode": "markers",
           "name": "M1",
           "x": [
            18733.589030641833
           ],
           "y": [
            0.0
           ],
           "z": [
            1873.3589030641833
           ],
           "type": "scatter3d"
          },
          {
           "marker": {
            "color": "red",
            "size": 8
           },
           "mode": "markers",
           "name": "M2",
           "x": [
            17735.59876804211
           ],
           "y": [
            560.071540043435
           ],
           "z": [
            1960.2503901520224
           ],
           "type": "scatter3d"
          },
          {
           "marker": {
            "color": "red",
            "size": 8
           },
           "mode": "markers",
           "name": "M3",
           "x": [
            16734.999212992236
           ],
           "y": [
            -557.8333070997412
           ],
           "z": [
            1766.4721391491805
           ],
           "type": "scatter3d"
          }
         ],
         "name": "t=4.2s"
        },
        {
         "data": [
          {
           "marker": {
            "color": "red",
            "size": 8
           },
           "mode": "markers",
           "name": "M1",
           "x": [
            18522.520535748805
           ],
           "y": [
            0.0
           ],
           "z": [
            1852.2520535748804
           ],
           "type": "scatter3d"
          },
          {
           "marker": {
            "color": "red",
            "size": 8
           },
           "mode": "markers",
           "name": "M2",
           "x": [
            17524.86522938246
           ],
           "y": [
            553.4167967173408
           ],
           "z": [
            1936.9587885106928
           ],
           "type": "scatter3d"
          },
          {
           "marker": {
            "color": "red",
            "size": 8
           },
           "mode": "markers",
           "name": "M3",
           "x": [
            16524.16574849094
           ],
           "y": [
            -550.8055249496981
           ],
           "z": [
            1744.217495674044
           ],
           "type": "scatter3d"
          }
         ],
         "name": "t=4.9s"
        },
        {
         "data": [
          {
           "marker": {
            "color": "red",
            "size": 8
           },
           "mode": "markers",
           "name": "M1",
           "x": [
            18311.452040855776
           ],
           "y": [
            0.0
           ],
           "z": [
            1831.1452040855777
           ],
           "type": "scatter3d"
          },
          {
           "marker": {
            "color": "red",
            "size": 8
           },
           "mode": "markers",
           "name": "M2",
           "x": [
            17314.13169072281
           ],
           "y": [
            546.7620533912466
           ],
           "z": [
            1913.6671868693631
           ],
           "type": "scatter3d"
          },
          {
           "marker": {
            "color": "red",
            "size": 8
           },
           "mode": "markers",
           "name": "M3",
           "x": [
            16313.332283989648
           ],
           "y": [
            -543.777742799655
           ],
           "z": [
            1721.9628521989073
           ],
           "type": "scatter3d"
          }
         ],
         "name": "t=5.7s"
        },
        {
         "data": [
          {
           "marker": {
            "color": "red",
            "size": 8
           },
           "mode": "markers",
           "name": "M1",
           "x": [
            18100.383545962748
           ],
           "y": [
            0.0
           ],
           "z": [
            1810.0383545962748
           ],
           "type": "scatter3d"
          },
          {
           "marker": {
            "color": "red",
            "size": 8
           },
           "mode": "markers",
           "name": "M2",
           "x": [
            17103.39815206316
           ],
           "y": [
            540.1073100651524
           ],
           "z": [
            1890.3755852280337
           ],
           "type": "scatter3d"
          },
          {
           "marker": {
            "color": "red",
            "size": 8
           },
           "mode": "markers",
           "name": "M3",
           "x": [
            16102.498819488355
           ],
           "y": [
            -536.7499606496118
           ],
           "z": [
            1699.708208723771
           ],
           "type": "scatter3d"
          }
         ],
         "name": "t=6.4s"
        },
        {
         "data": [
          {
           "marker": {
            "color": "red",
            "size": 8
           },
           "mode": "markers",
           "name": "M1",
           "x": [
            17889.31505106972
           ],
           "y": [
            0.0
           ],
           "z": [
            1788.931505106972
           ],
           "type": "scatter3d"
          },
          {
           "marker": {
            "color": "red",
            "size": 8
           },
           "mode": "markers",
           "name": "M2",
           "x": [
            16892.66461340351
           ],
           "y": [
            533.4525667390583
           ],
           "z": [
            1867.083983586704
           ],
           "type": "scatter3d"
          },
          {
           "marker": {
            "color": "red",
            "size": 8
           },
           "mode": "markers",
           "name": "M3",
           "x": [
            15891.66535498706
           ],
           "y": [
            -529.7221784995687
           ],
           "z": [
            1677.4535652486343
           ],
           "type": "scatter3d"
          }
         ],
         "name": "t=7.1s"
        },
        {
         "data": [
          {
           "marker": {
            "color": "red",
            "size": 8
           },
           "mode": "markers",
           "name": "M1",
           "x": [
            17678.24655617669
           ],
           "y": [
            0.0
           ],
           "z": [
            1767.8246556176691
           ],
           "type": "scatter3d"
          },
          {
           "marker": {
            "color": "red",
            "size": 8
           },
           "mode": "markers",
           "name": "M2",
           "x": [
            16681.931074743865
           ],
           "y": [
            526.7978234129641
           ],
           "z": [
            1843.7923819453745
           ],
           "type": "scatter3d"
          },
          {
           "marker": {
            "color": "red",
            "size": 8
           },
           "mode": "markers",
           "name": "M3",
           "x": [
            15680.831890485768
           ],
           "y": [
            -522.6943963495256
           ],
           "z": [
            1655.1989217734977
           ],
           "type": "scatter3d"
          }
         ],
         "name": "t=7.8s"
        },
        {
         "data": [
          {
           "marker": {
            "color": "red",
            "size": 8
           },
           "mode": "markers",
           "name": "M1",
           "x": [
            17467.178061283666
           ],
           "y": [
            0.0
           ],
           "z": [
            1746.7178061283664
           ],
           "type": "scatter3d"
          },
          {
           "marker": {
            "color": "red",
            "size": 8
           },
           "mode": "markers",
           "name": "M2",
           "x": [
            16471.197536084215
           ],
           "y": [
            520.14308008687
           ],
           "z": [
            1820.5007803040448
           ],
           "type": "scatter3d"
          },
          {
           "marker": {
            "color": "red",
            "size": 8
           },
           "mode": "markers",
           "name": "M3",
           "x": [
            15469.998425984473
           ],
           "y": [
            -515.6666141994824
           ],
           "z": [
            1632.944278298361
           ],
           "type": "scatter3d"
          }
         ],
         "name": "t=8.5s"
        },
        {
         "data": [
          {
           "marker": {
            "color": "red",
            "size": 8
           },
           "mode": "markers",
           "name": "M1",
           "x": [
            17256.109566390638
           ],
           "y": [
            0.0
           ],
           "z": [
            1725.6109566390637
           ],
           "type": "scatter3d"
          },
          {
           "marker": {
            "color": "red",
            "size": 8
           },
           "mode": "markers",
           "name": "M2",
           "x": [
            16260.463997424566
           ],
           "y": [
            513.4883367607757
           ],
           "z": [
            1797.2091786627152
           ],
           "type": "scatter3d"
          },
          {
           "marker": {
            "color": "red",
            "size": 8
           },
           "mode": "markers",
           "name": "M3",
           "x": [
            15259.16496148318
           ],
           "y": [
            -508.6388320494393
           ],
           "z": [
            1610.6896348232244
           ],
           "type": "scatter3d"
          }
         ],
         "name": "t=9.2s"
        },
        {
         "data": [
          {
           "marker": {
            "color": "red",
            "size": 8
           },
           "mode": "markers",
           "name": "M1",
           "x": [
            17045.04107149761
           ],
           "y": [
            0.0
           ],
           "z": [
            1704.5041071497608
           ],
           "type": "scatter3d"
          },
          {
           "marker": {
            "color": "red",
            "size": 8
           },
           "mode": "markers",
           "name": "M2",
           "x": [
            16049.730458764918
           ],
           "y": [
            506.8335934346816
           ],
           "z": [
            1773.9175770213856
           ],
           "type": "scatter3d"
          },
          {
           "marker": {
            "color": "red",
            "size": 8
           },
           "mode": "markers",
           "name": "M3",
           "x": [
            15048.331496981886
           ],
           "y": [
            -501.61104989939616
           ],
           "z": [
            1588.4349913480878
           ],
           "type": "scatter3d"
          }
         ],
         "name": "t=9.9s"
        },
        {
         "data": [
          {
           "marker": {
            "color": "red",
            "size": 8
           },
           "mode": "markers",
           "name": "M1",
           "x": [
            16833.97257660458
           ],
           "y": [
            0.0
           ],
           "z": [
            1683.397257660458
           ],
           "type": "scatter3d"
          },
          {
           "marker": {
            "color": "red",
            "size": 8
           },
           "mode": "markers",
           "name": "M2",
           "x": [
            15838.99692010527
           ],
           "y": [
            500.1788501085874
           ],
           "z": [
            1750.625975380056
           ],
           "type": "scatter3d"
          },
          {
           "marker": {
            "color": "red",
            "size": 8
           },
           "mode": "markers",
           "name": "M3",
           "x": [
            14837.498032480591
           ],
           "y": [
            -494.58326774935307
           ],
           "z": [
            1566.1803478729512
           ],
           "type": "scatter3d"
          }
         ],
         "name": "t=10.6s"
        },
        {
         "data": [
          {
           "marker": {
            "color": "red",
            "size": 8
           },
           "mode": "markers",
           "name": "M1",
           "x": [
            16622.904081711553
           ],
           "y": [
            0.0
           ],
           "z": [
            1662.2904081711554
           ],
           "type": "scatter3d"
          },
          {
           "marker": {
            "color": "red",
            "size": 8
           },
           "mode": "markers",
           "name": "M2",
           "x": [
            15628.26338144562
           ],
           "y": [
            493.5241067824933
           ],
           "z": [
            1727.3343737387263
           ],
           "type": "scatter3d"
          },
          {
           "marker": {
            "color": "red",
            "size": 8
           },
           "mode": "markers",
           "name": "M3",
           "x": [
            14626.664567979298
           ],
           "y": [
            -487.5554855993099
           ],
           "z": [
            1543.9257043978148
           ],
           "type": "scatter3d"
          }
         ],
         "name": "t=11.3s"
        },
        {
         "data": [
          {
           "marker": {
            "color": "red",
            "size": 8
           },
           "mode": "markers",
           "name": "M1",
           "x": [
            16411.835586818524
           ],
           "y": [
            0.0
           ],
           "z": [
            1641.1835586818524
           ],
           "type": "scatter3d"
          },
          {
           "marker": {
            "color": "red",
            "size": 8
           },
           "mode": "markers",
           "name": "M2",
           "x": [
            15417.52984278597
           ],
           "y": [
            486.86936345639907
           ],
           "z": [
            1704.0427720973967
           ],
           "type": "scatter3d"
          },
          {
           "marker": {
            "color": "red",
            "size": 8
           },
           "mode": "markers",
           "name": "M3",
           "x": [
            14415.831103478004
           ],
           "y": [
            -480.5277034492668
           ],
           "z": [
            1521.6710609226782
           ],
           "type": "scatter3d"
          }
         ],
         "name": "t=12.0s"
        },
        {
         "data": [
          {
           "marker": {
            "color": "red",
            "size": 8
           },
           "mode": "markers",
           "name": "M1",
           "x": [
            16200.767091925496
           ],
           "y": [
            0.0
           ],
           "z": [
            1620.0767091925497
           ],
           "type": "scatter3d"
          },
          {
           "marker": {
            "color": "red",
            "size": 8
           },
           "mode": "markers",
           "name": "M2",
           "x": [
            15206.796304126323
           ],
           "y": [
            480.2146201303049
           ],
           "z": [
            1680.7511704560673
           ],
           "type": "scatter3d"
          },
          {
           "marker": {
            "color": "red",
            "size": 8
           },
           "mode": "markers",
           "name": "M3",
           "x": [
            14204.99763897671
           ],
           "y": [
            -473.4999212992237
           ],
           "z": [
            1499.4164174475416
           ],
           "type": "scatter3d"
          }
         ],
         "name": "t=12.7s"
        },
        {
         "data": [
          {
           "marker": {
            "color": "red",
            "size": 8
           },
           "mode": "markers",
           "name": "M1",
           "x": [
            15989.698597032468
           ],
           "y": [
            0.0
           ],
           "z": [
            1598.9698597032468
           ],
           "type": "scatter3d"
          },
          {
           "marker": {
            "color": "red",
            "size": 8
           },
           "mode": "markers",
           "name": "M2",
           "x": [
            14996.062765466675
           ],
           "y": [
            473.5598768042107
           ],
           "z": [
            1657.4595688147376
           ],
           "type": "scatter3d"
          },
          {
           "marker": {
            "color": "red",
            "size": 8
           },
           "mode": "markers",
           "name": "M3",
           "x": [
            13994.164174475416
           ],
           "y": [
            -466.4721391491805
           ],
           "z": [
            1477.161773972405
           ],
           "type": "scatter3d"
          }
         ],
         "name": "t=13.4s"
        },
        {
         "data": [
          {
           "marker": {
            "color": "red",
            "size": 8
           },
           "mode": "markers",
           "name": "M1",
           "x": [
            15778.630102139441
           ],
           "y": [
            0.0
           ],
           "z": [
            1577.863010213944
           ],
           "type": "scatter3d"
          },
          {
           "marker": {
            "color": "red",
            "size": 8
           },
           "mode": "markers",
           "name": "M2",
           "x": [
            14785.329226807025
           ],
           "y": [
            466.90513347811657
           ],
           "z": [
            1634.167967173408
           ],
           "type": "scatter3d"
          },
          {
           "marker": {
            "color": "red",
            "size": 8
           },
           "mode": "markers",
           "name": "M3",
           "x": [
            13783.330709974121
           ],
           "y": [
            -459.4443569991374
           ],
           "z": [
            1454.9071304972683
           ],
           "type": "scatter3d"
          }
         ],
         "name": "t=14.1s"
        },
        {
         "data": [
          {
           "marker": {
            "color": "red",
            "size": 8
           },
           "mode": "markers",
           "name": "M1",
           "x": [
            15567.561607246413
           ],
           "y": [
            0.0
           ],
           "z": [
            1556.7561607246412
           ],
           "type": "scatter3d"
          },
          {
           "marker": {
            "color": "red",
            "size": 8
           },
           "mode": "markers",
           "name": "M2",
           "x": [
            14574.595688147376
           ],
           "y": [
            460.2503901520224
           ],
           "z": [
            1610.8763655320784
           ],
           "type": "scatter3d"
          },
          {
           "marker": {
            "color": "red",
            "size": 8
           },
           "mode": "markers",
           "name": "M3",
           "x": [
            13572.497245472829
           ],
           "y": [
            -452.4165748490943
           ],
           "z": [
            1432.652487022132
           ],
           "type": "scatter3d"
          }
         ],
         "name": "t=14.8s"
        },
        {
         "data": [
          {
           "marker": {
            "color": "red",
            "size": 8
           },
           "mode": "markers",
           "name": "M1",
           "x": [
            15356.493112353386
           ],
           "y": [
            0.0
           ],
           "z": [
            1535.6493112353385
           ],
           "type": "scatter3d"
          },
          {
           "marker": {
            "color": "red",
            "size": 8
           },
           "mode": "markers",
           "name": "M2",
           "x": [
            14363.862149487728
           ],
           "y": [
            453.5956468259282
           ],
           "z": [
            1587.584763890749
           ],
           "type": "scatter3d"
          },
          {
           "marker": {
            "color": "red",
            "size": 8
           },
           "mode": "markers",
           "name": "M3",
           "x": [
            13361.663780971536
           ],
           "y": [
            -445.3887926990511
           ],
           "z": [
            1410.3978435469953
           ],
           "type": "scatter3d"
          }
         ],
         "name": "t=15.6s"
        },
        {
         "data": [
          {
           "marker": {
            "color": "red",
            "size": 8
           },
           "mode": "markers",
           "name": "M1",
           "x": [
            15145.424617460358
           ],
           "y": [
            0.0
           ],
           "z": [
            1514.5424617460358
           ],
           "type": "scatter3d"
          },
          {
           "marker": {
            "color": "red",
            "size": 8
           },
           "mode": "markers",
           "name": "M2",
           "x": [
            14153.12861082808
           ],
           "y": [
            446.940903499834
           ],
           "z": [
            1564.2931622494193
           ],
           "type": "scatter3d"
          },
          {
           "marker": {
            "color": "red",
            "size": 8
           },
           "mode": "markers",
           "name": "M3",
           "x": [
            13150.830316470241
           ],
           "y": [
            -438.36101054900803
           ],
           "z": [
            1388.1432000718587
           ],
           "type": "scatter3d"
          }
         ],
         "name": "t=16.3s"
        },
        {
         "data": [
          {
           "marker": {
            "color": "red",
            "size": 8
           },
           "mode": "markers",
           "name": "M1",
           "x": [
            14934.35612256733
           ],
           "y": [
            0.0
           ],
           "z": [
            1493.4356122567328
           ],
           "type": "scatter3d"
          },
          {
           "marker": {
            "color": "red",
            "size": 8
           },
           "mode": "markers",
           "name": "M2",
           "x": [
            13942.39507216843
           ],
           "y": [
            440.28616017373986
           ],
           "z": [
            1541.0015606080897
           ],
           "type": "scatter3d"
          },
          {
           "marker": {
            "color": "red",
            "size": 8
           },
           "mode": "markers",
           "name": "M3",
           "x": [
            12939.996851968946
           ],
           "y": [
            -431.33322839896493
           ],
           "z": [
            1365.888556596722
           ],
           "type": "scatter3d"
          }
         ],
         "name": "t=17.0s"
        },
        {
         "data": [
          {
           "marker": {
            "color": "red",
            "size": 8
           },
           "mode": "markers",
           "name": "M1",
           "x": [
            14723.2876276743
           ],
           "y": [
            0.0
           ],
           "z": [
            1472.32876276743
           ],
           "type": "scatter3d"
          },
          {
           "marker": {
            "color": "red",
            "size": 8
           },
           "mode": "markers",
           "name": "M2",
           "x": [
            13731.66153350878
           ],
           "y": [
            433.6314168476457
           ],
           "z": [
            1517.70995896676
           ],
           "type": "scatter3d"
          },
          {
           "marker": {
            "color": "red",
            "size": 8
           },
           "mode": "markers",
           "name": "M3",
           "x": [
            12729.163387467652
           ],
           "y": [
            -424.3054462489217
           ],
           "z": [
            1343.6339131215855
           ],
           "type": "scatter3d"
          }
         ],
         "name": "t=17.7s"
        },
        {
         "data": [
          {
           "marker": {
            "color": "red",
            "size": 8
           },
           "mode": "markers",
           "name": "M1",
           "x": [
            14512.219132781272
           ],
           "y": [
            0.0
           ],
           "z": [
            1451.2219132781274
           ],
           "type": "scatter3d"
          },
          {
           "marker": {
            "color": "red",
            "size": 8
           },
           "mode": "markers",
           "name": "M2",
           "x": [
            13520.927994849133
           ],
           "y": [
            426.97667352155156
           ],
           "z": [
            1494.4183573254304
           ],
           "type": "scatter3d"
          },
          {
           "marker": {
            "color": "red",
            "size": 8
           },
           "mode": "markers",
           "name": "M3",
           "x": [
            12518.329922966359
           ],
           "y": [
            -417.27766409887863
           ],
           "z": [
            1321.3792696464488
           ],
           "type": "scatter3d"
          }
         ],
         "name": "t=18.4s"
        },
        {
         "data": [
          {
           "marker": {
            "color": "red",
            "size": 8
           },
           "mode": "markers",
           "name": "M1",
           "x": [
            14301.150637888244
           ],
           "y": [
            0.0
           ],
           "z": [
            1430.1150637888245
           ],
           "type": "scatter3d"
          },
          {
           "marker": {
            "color": "red",
            "size": 8
           },
           "mode": "markers",
           "name": "M2",
           "x": [
            13310.194456189485
           ],
           "y": [
            420.3219301954574
           ],
           "z": [
            1471.1267556841008
           ],
           "type": "scatter3d"
          },
          {
           "marker": {
            "color": "red",
            "size": 8
           },
           "mode": "markers",
           "name": "M3",
           "x": [
            12307.496458465066
           ],
           "y": [
            -410.24988194883554
           ],
           "z": [
            1299.1246261713122
           ],
           "type": "scatter3d"
          }
         ],
         "name": "t=19.1s"
        },
        {
         "data": [
          {
           "marker": {
            "color": "red",
            "size": 8
           },
           "mode": "markers",
           "name": "M1",
           "x": [
            14090.082142995216
           ],
           "y": [
            0.0
           ],
           "z": [
            1409.0082142995216
           ],
           "type": "scatter3d"
          },
          {
           "marker": {
            "color": "red",
            "size": 8
           },
           "mode": "markers",
           "name": "M2",
           "x": [
            13099.460917529836
           ],
           "y": [
            413.66718686936315
           ],
           "z": [
            1447.8351540427711
           ],
           "type": "scatter3d"
          },
          {
           "marker": {
            "color": "red",
            "size": 8
           },
           "mode": "markers",
           "name": "M3",
           "x": [
            12096.662993963771
           ],
           "y": [
            -403.2220997987923
           ],
           "z": [
            1276.8699826961756
           ],
           "type": "scatter3d"
          }
         ],
         "name": "t=19.8s"
        },
        {
         "data": [
          {
           "marker": {
            "color": "red",
            "size": 8
           },
           "mode": "markers",
           "name": "M1",
           "x": [
            13879.01364810219
           ],
           "y": [
            0.0
           ],
           "z": [
            1387.9013648102189
           ],
           "type": "scatter3d"
          },
          {
           "marker": {
            "color": "red",
            "size": 8
           },
           "mode": "markers",
           "name": "M2",
           "x": [
            12888.727378870186
           ],
           "y": [
            407.012443543269
           ],
           "z": [
            1424.5435524014415
           ],
           "type": "scatter3d"
          },
          {
           "marker": {
            "color": "red",
            "size": 8
           },
           "mode": "markers",
           "name": "M3",
           "x": [
            11885.829529462477
           ],
           "y": [
            -396.19431764874923
           ],
           "z": [
            1254.6153392210392
           ],
           "type": "scatter3d"
          }
         ],
         "name": "t=20.5s"
        },
        {
         "data": [
          {
           "marker": {
            "color": "red",
            "size": 8
           },
           "mode": "markers",
           "name": "M1",
           "x": [
            13667.945153209163
           ],
           "y": [
            0.0
           ],
           "z": [
            1366.7945153209162
           ],
           "type": "scatter3d"
          },
          {
           "marker": {
            "color": "red",
            "size": 8
           },
           "mode": "markers",
           "name": "M2",
           "x": [
            12677.993840210538
           ],
           "y": [
            400.35770021717485
           ],
           "z": [
            1401.251950760112
           ],
           "type": "scatter3d"
          },
          {
           "marker": {
            "color": "red",
            "size": 8
           },
           "mode": "markers",
           "name": "M3",
           "x": [
            11674.996064961184
           ],
           "y": [
            -389.16653549870614
           ],
           "z": [
            1232.3606957459026
           ],
           "type": "scatter3d"
          }
         ],
         "name": "t=21.2s"
        },
        {
         "data": [
          {
           "marker": {
            "color": "red",
            "size": 8
           },
           "mode": "markers",
           "name": "M1",
           "x": [
            13456.876658316134
           ],
           "y": [
            0.0
           ],
           "z": [
            1345.6876658316132
           ],
           "type": "scatter3d"
          },
          {
           "marker": {
            "color": "red",
            "size": 8
           },
           "mode": "markers",
           "name": "M2",
           "x": [
            12467.260301550888
           ],
           "y": [
            393.7029568910807
           ],
           "z": [
            1377.9603491187822
           ],
           "type": "scatter3d"
          },
          {
           "marker": {
            "color": "red",
            "size": 8
           },
           "mode": "markers",
           "name": "M3",
           "x": [
            11464.16260045989
           ],
           "y": [
            -382.13875334866293
           ],
           "z": [
            1210.106052270766
           ],
           "type": "scatter3d"
          }
         ],
         "name": "t=21.9s"
        },
        {
         "data": [
          {
           "marker": {
            "color": "red",
            "size": 8
           },
           "mode": "markers",
           "name": "M1",
           "x": [
            13245.808163423106
           ],
           "y": [
            0.0
           ],
           "z": [
            1324.5808163423105
           ],
           "type": "scatter3d"
          },
          {
           "marker": {
            "color": "red",
            "size": 8
           },
           "mode": "markers",
           "name": "M2",
           "x": [
            12256.52676289124
           ],
           "y": [
            387.0482135649865
           ],
           "z": [
            1354.6687474774528
           ],
           "type": "scatter3d"
          },
          {
           "marker": {
            "color": "red",
            "size": 8
           },
           "mode": "markers",
           "name": "M3",
           "x": [
            11253.329135958596
           ],
           "y": [
            -375.11097119861984
           ],
           "z": [
            1187.8514087956296
           ],
           "type": "scatter3d"
          }
         ],
         "name": "t=22.6s"
        },
        {
         "data": [
          {
           "marker": {
            "color": "red",
            "size": 8
           },
           "mode": "markers",
           "name": "M1",
           "x": [
            13034.739668530077
           ],
           "y": [
            0.0
           ],
           "z": [
            1303.4739668530078
           ],
           "type": "scatter3d"
          },
          {
           "marker": {
            "color": "red",
            "size": 8
           },
           "mode": "markers",
           "name": "M2",
           "x": [
            12045.793224231591
           ],
           "y": [
            380.39347023889235
           ],
           "z": [
            1331.3771458361234
           ],
           "type": "scatter3d"
          },
          {
           "marker": {
            "color": "red",
            "size": 8
           },
           "mode": "markers",
           "name": "M3",
           "x": [
            11042.495671457302
           ],
           "y": [
            -368.08318904857674
           ],
           "z": [
            1165.596765320493
           ],
           "type": "scatter3d"
          }
         ],
         "name": "t=23.3s"
        },
        {
         "data": [
          {
           "marker": {
            "color": "red",
            "size": 8
           },
           "mode": "markers",
           "name": "M1",
           "x": [
            12823.671173637049
           ],
           "y": [
            0.0
           ],
           "z": [
            1282.367117363705
           ],
           "type": "scatter3d"
          },
          {
           "marker": {
            "color": "red",
            "size": 8
           },
           "mode": "markers",
           "name": "M2",
           "x": [
            11835.059685571941
           ],
           "y": [
            373.73872691279814
           ],
           "z": [
            1308.0855441947936
           ],
           "type": "scatter3d"
          },
          {
           "marker": {
            "color": "red",
            "size": 8
           },
           "mode": "markers",
           "name": "M3",
           "x": [
            10831.662206956007
           ],
           "y": [
            -361.0554068985336
           ],
           "z": [
            1143.3421218453564
           ],
           "type": "scatter3d"
          }
         ],
         "name": "t=24.0s"
        },
        {
         "data": [
          {
           "marker": {
            "color": "red",
            "size": 8
           },
           "mode": "markers",
           "name": "M1",
           "x": [
            12612.60267874402
           ],
           "y": [
            0.0
           ],
           "z": [
            1261.260267874402
           ],
           "type": "scatter3d"
          },
          {
           "marker": {
            "color": "red",
            "size": 8
           },
           "mode": "markers",
           "name": "M2",
           "x": [
            11624.326146912295
           ],
           "y": [
            367.083983586704
           ],
           "z": [
            1284.7939425534641
           ],
           "type": "scatter3d"
          },
          {
           "marker": {
            "color": "red",
            "size": 8
           },
           "mode": "markers",
           "name": "M3",
           "x": [
            10620.828742454712
           ],
           "y": [
            -354.02762474849044
           ],
           "z": [
            1121.0874783702197
           ],
           "type": "scatter3d"
          }
         ],
         "name": "t=24.7s"
        },
        {
         "data": [
          {
           "marker": {
            "color": "red",
            "size": 8
           },
           "mode": "markers",
           "name": "M1",
           "x": [
            12401.534183850994
           ],
           "y": [
            0.0
           ],
           "z": [
            1240.1534183850995
           ],
           "type": "scatter3d"
          },
          {
           "marker": {
            "color": "red",
            "size": 8
           },
           "mode": "markers",
           "name": "M2",
           "x": [
            11413.592608252646
           ],
           "y": [
            360.42924026060984
           ],
           "z": [
            1261.5023409121345
           ],
           "type": "scatter3d"
          },
          {
           "marker": {
            "color": "red",
            "size": 8
           },
           "mode": "markers",
           "name": "M3",
           "x": [
            10409.995277953421
           ],
           "y": [
            -346.99984259844734
           ],
           "z": [
            1098.8328348950831
           ],
           "type": "scatter3d"
          }
         ],
         "name": "t=25.5s"
        },
        {
         "data": [
          {
           "marker": {
            "color": "red",
            "size": 8
           },
           "mode": "markers",
           "name": "M1",
           "x": [
            12190.465688957966
           ],
           "y": [
            0.0
           ],
           "z": [
            1219.0465688957966
           ],
           "type": "scatter3d"
          },
          {
           "marker": {
            "color": "red",
            "size": 8
           },
           "mode": "markers",
           "name": "M2",
           "x": [
            11202.859069592996
           ],
           "y": [
            353.77449693451564
           ],
           "z": [
            1238.2107392708049
           ],
           "type": "scatter3d"
          },
          {
           "marker": {
            "color": "red",
            "size": 8
           },
           "mode": "markers",
           "name": "M3",
           "x": [
            10199.161813452127
           ],
           "y": [
            -339.9720604484042
           ],
           "z": [
            1076.5781914199465
           ],
           "type": "scatter3d"
          }
         ],
         "name": "t=26.2s"
        },
        {
         "data": [
          {
           "marker": {
            "color": "red",
            "size": 8
           },
           "mode": "markers",
           "name": "M1",
           "x": [
            11979.397194064937
           ],
           "y": [
            0.0
           ],
           "z": [
            1197.9397194064936
           ],
           "type": "scatter3d"
          },
          {
           "marker": {
            "color": "red",
            "size": 8
           },
           "mode": "markers",
           "name": "M2",
           "x": [
            10992.125530933348
           ],
           "y": [
            347.11975360842143
           ],
           "z": [
            1214.9191376294752
           ],
           "type": "scatter3d"
          },
          {
           "marker": {
            "color": "red",
            "size": 8
           },
           "mode": "markers",
           "name": "M3",
           "x": [
            9988.328348950832
           ],
           "y": [
            -332.9442782983611
           ],
           "z": [
            1054.32354794481
           ],
           "type": "scatter3d"
          }
         ],
         "name": "t=26.9s"
        },
        {
         "data": [
          {
           "marker": {
            "color": "red",
            "size": 8
           },
           "mode": "markers",
           "name": "M1",
           "x": [
            11768.32869917191
           ],
           "y": [
            0.0
           ],
           "z": [
            1176.832869917191
           ],
           "type": "scatter3d"
          },
          {
           "marker": {
            "color": "red",
            "size": 8
           },
           "mode": "markers",
           "name": "M2",
           "x": [
            10781.391992273699
           ],
           "y": [
            340.4650102823273
           ],
           "z": [
            1191.6275359881456
           ],
           "type": "scatter3d"
          },
          {
           "marker": {
            "color": "red",
            "size": 8
           },
           "mode": "markers",
           "name": "M3",
           "x": [
            9777.49488444954
           ],
           "y": [
            -325.91649614831795
           ],
           "z": [
            1032.0689044696733
           ],
           "type": "scatter3d"
          }
         ],
         "name": "t=27.6s"
        },
        {
         "data": [
          {
           "marker": {
            "color": "red",
            "size": 8
           },
           "mode": "markers",
           "name": "M1",
           "x": [
            11557.260204278882
           ],
           "y": [
            0.0
           ],
           "z": [
            1155.7260204278882
           ],
           "type": "scatter3d"
          },
          {
           "marker": {
            "color": "red",
            "size": 8
           },
           "mode": "markers",
           "name": "M2",
           "x": [
            10570.65845361405
           ],
           "y": [
            333.81026695623314
           ],
           "z": [
            1168.335934346816
           ],
           "type": "scatter3d"
          },
          {
           "marker": {
            "color": "red",
            "size": 8
           },
           "mode": "markers",
           "name": "M3",
           "x": [
            9566.661419948245
           ],
           "y": [
            -318.8887139982748
           ],
           "z": [
            1009.8142609945368
           ],
           "type": "scatter3d"
          }
         ],
         "name": "t=28.3s"
        },
        {
         "data": [
          {
           "marker": {
            "color": "red",
            "size": 8
           },
           "mode": "markers",
           "name": "M1",
           "x": [
            11346.191709385854
           ],
           "y": [
            0.0
           ],
           "z": [
            1134.6191709385853
           ],
           "type": "scatter3d"
          },
          {
           "marker": {
            "color": "red",
            "size": 8
           },
           "mode": "markers",
           "name": "M2",
           "x": [
            10359.924914954401
           ],
           "y": [
            327.155523630139
           ],
           "z": [
            1145.0443327054863
           ],
           "type": "scatter3d"
          },
          {
           "marker": {
            "color": "red",
            "size": 8
           },
           "mode": "markers",
           "name": "M3",
           "x": [
            9355.82795544695
           ],
           "y": [
            -311.8609318482317
           ],
           "z": [
            987.5596175194003
           ],
           "type": "scatter3d"
          }
         ],
         "name": "t=29.0s"
        },
        {
         "data": [
          {
           "marker": {
            "color": "red",
            "size": 8
           },
           "mode": "markers",
           "name": "M1",
           "x": [
            11135.123214492825
           ],
           "y": [
            0.0
           ],
           "z": [
            1113.5123214492826
           ],
           "type": "scatter3d"
          },
          {
           "marker": {
            "color": "red",
            "size": 8
           },
           "mode": "markers",
           "name": "M2",
           "x": [
            10149.191376294753
           ],
           "y": [
            320.5007803040448
           ],
           "z": [
            1121.7527310641567
           ],
           "type": "scatter3d"
          },
          {
           "marker": {
            "color": "red",
            "size": 8
           },
           "mode": "markers",
           "name": "M3",
           "x": [
            9144.994490945657
           ],
           "y": [
            -304.83314969818855
           ],
           "z": [
            965.3049740442636
           ],
           "type": "scatter3d"
          }
         ],
         "name": "t=29.7s"
        },
        {
         "data": [
          {
           "marker": {
            "color": "red",
            "size": 8
           },
           "mode": "markers",
           "name": "M1",
           "x": [
            10924.054719599797
           ],
           "y": [
            0.0
           ],
           "z": [
            1092.4054719599799
           ],
           "type": "scatter3d"
          },
          {
           "marker": {
            "color": "red",
            "size": 8
           },
           "mode": "markers",
           "name": "M2",
           "x": [
            9938.457837635104
           ],
           "y": [
            313.84603697795063
           ],
           "z": [
            1098.461129422827
           ],
           "type": "scatter3d"
          },
          {
           "marker": {
            "color": "red",
            "size": 8
           },
           "mode": "markers",
           "name": "M3",
           "x": [
            8934.161026444363
           ],
           "y": [
            -297.8053675481454
           ],
           "z": [
            943.050330569127
           ],
           "type": "scatter3d"
          }
         ],
         "name": "t=30.4s"
        },
        {
         "data": [
          {
           "marker": {
            "color": "red",
            "size": 8
           },
           "mode": "markers",
           "name": "M1",
           "x": [
            10712.98622470677
           ],
           "y": [
            0.0
           ],
           "z": [
            1071.298622470677
           ],
           "type": "scatter3d"
          },
          {
           "marker": {
            "color": "red",
            "size": 8
           },
           "mode": "markers",
           "name": "M2",
           "x": [
            9727.724298975456
           ],
           "y": [
            307.1912936518564
           ],
           "z": [
            1075.1695277814977
           ],
           "type": "scatter3d"
          },
          {
           "marker": {
            "color": "red",
            "size": 8
           },
           "mode": "markers",
           "name": "M3",
           "x": [
            8723.32756194307
           ],
           "y": [
            -290.7775853981023
           ],
           "z": [
            920.7956870939905
           ],
           "type": "scatter3d"
          }
         ],
         "name": "t=31.1s"
        },
        {
         "data": [
          {
           "marker": {
            "color": "red",
            "size": 8
           },
           "mode": "markers",
           "name": "M1",
           "x": [
            10501.917729813742
           ],
           "y": [
            0.0
           ],
           "z": [
            1050.1917729813742
           ],
           "type": "scatter3d"
          },
          {
           "marker": {
            "color": "red",
            "size": 8
           },
           "mode": "markers",
           "name": "M2",
           "x": [
            9516.990760315806
           ],
           "y": [
            300.5365503257623
           ],
           "z": [
            1051.877926140168
           ],
           "type": "scatter3d"
          },
          {
           "marker": {
            "color": "red",
            "size": 8
           },
           "mode": "markers",
           "name": "M3",
           "x": [
            8512.494097441775
           ],
           "y": [
            -283.74980324805915
           ],
           "z": [
            898.5410436188539
           ],
           "type": "scatter3d"
          }
         ],
         "name": "t=31.8s"
        },
        {
         "data": [
          {
           "marker": {
            "color": "red",
            "size": 8
           },
           "mode": "markers",
           "name": "M1",
           "x": [
            10290.849234920714
           ],
           "y": [
            0.0
           ],
           "z": [
            1029.0849234920713
           ],
           "type": "scatter3d"
          },
          {
           "marker": {
            "color": "red",
            "size": 8
           },
           "mode": "markers",
           "name": "M2",
           "x": [
            9306.257221656158
           ],
           "y": [
            293.8818069996681
           ],
           "z": [
            1028.5863244988384
           ],
           "type": "scatter3d"
          },
          {
           "marker": {
            "color": "red",
            "size": 8
           },
           "mode": "markers",
           "name": "M3",
           "x": [
            8301.66063294048
           ],
           "y": [
            -276.722021098016
           ],
           "z": [
            876.2864001437173
           ],
           "type": "scatter3d"
          }
         ],
         "name": "t=32.5s"
        },
        {
         "data": [
          {
           "marker": {
            "color": "red",
            "size": 8
           },
           "mode": "markers",
           "name": "M1",
           "x": [
            10079.780740027685
           ],
           "y": [
            0.0
           ],
           "z": [
            1007.9780740027686
           ],
           "type": "scatter3d"
          },
          {
           "marker": {
            "color": "red",
            "size": 8
           },
           "mode": "markers",
           "name": "M2",
           "x": [
            9095.523682996509
           ],
           "y": [
            287.2270636735739
           ],
           "z": [
            1005.2947228575088
           ],
           "type": "scatter3d"
          },
          {
           "marker": {
            "color": "red",
            "size": 8
           },
           "mode": "markers",
           "name": "M3",
           "x": [
            8090.8271684391875
           ],
           "y": [
            -269.6942389479729
           ],
           "z": [
            854.0317566685808
           ],
           "type": "scatter3d"
          }
         ],
         "name": "t=33.2s"
        },
        {
         "data": [
          {
           "marker": {
            "color": "red",
            "size": 8
           },
           "mode": "markers",
           "name": "M1",
           "x": [
            9868.712245134659
           ],
           "y": [
            0.0
           ],
           "z": [
            986.8712245134658
           ],
           "type": "scatter3d"
          },
          {
           "marker": {
            "color": "red",
            "size": 8
           },
           "mode": "markers",
           "name": "M2",
           "x": [
            8884.790144336861
           ],
           "y": [
            280.5723203474798
           ],
           "z": [
            982.0031212161794
           ],
           "type": "scatter3d"
          },
          {
           "marker": {
            "color": "red",
            "size": 8
           },
           "mode": "markers",
           "name": "M3",
           "x": [
            7879.993703937893
           ],
           "y": [
            -262.6664567979298
           ],
           "z": [
            831.7771131934442
           ],
           "type": "scatter3d"
          }
         ],
         "name": "t=33.9s"
        },
        {
         "data": [
          {
           "marker": {
            "color": "red",
            "size": 8
           },
           "mode": "markers",
           "name": "M1",
           "x": [
            9657.64375024163
           ],
           "y": [
            0.0
           ],
           "z": [
            965.764375024163
           ],
           "type": "scatter3d"
          },
          {
           "marker": {
            "color": "red",
            "size": 8
           },
           "mode": "markers",
           "name": "M2",
           "x": [
            8674.056605677213
           ],
           "y": [
            273.9175770213856
           ],
           "z": [
            958.7115195748497
           ],
           "type": "scatter3d"
          },
          {
           "marker": {
            "color": "red",
            "size": 8
           },
           "mode": "markers",
           "name": "M3",
           "x": [
            7669.1602394366
           ],
           "y": [
            -255.63867464788666
           ],
           "z": [
            809.5224697183078
           ],
           "type": "scatter3d"
          }
         ],
         "name": "t=34.6s"
        },
        {
         "data": [
          {
           "marker": {
            "color": "red",
            "size": 8
           },
           "mode": "markers",
           "name": "M1",
           "x": [
            9446.575255348602
           ],
           "y": [
            0.0
           ],
           "z": [
            944.65752553486
           ],
           "type": "scatter3d"
          },
          {
           "marker": {
            "color": "red",
            "size": 8
           },
           "mode": "markers",
           "name": "M2",
           "x": [
            8463.323067017562
           ],
           "y": [
            267.26283369529136
           ],
           "z": [
            935.4199179335199
           ],
           "type": "scatter3d"
          },
          {
           "marker": {
            "color": "red",
            "size": 8
           },
           "mode": "markers",
           "name": "M3",
           "x": [
            7458.326774935304
           ],
           "y": [
            -248.6108924978435
           ],
           "z": [
            787.2678262431709
           ],
           "type": "scatter3d"
          }
         ],
         "name": "t=35.4s"
        },
        {
         "data": [
          {
           "marker": {
            "color": "red",
            "size": 8
           },
           "mode": "markers",
           "name": "M1",
           "x": [
            9235.506760455573
           ],
           "y": [
            0.0
           ],
           "z": [
            923.5506760455573
           ],
           "type": "scatter3d"
          },
          {
           "marker": {
            "color": "red",
            "size": 8
           },
           "mode": "markers",
           "name": "M2",
           "x": [
            8252.589528357914
           ],
           "y": [
            260.6080903691972
           ],
           "z": [
            912.1283162921904
           ],
           "type": "scatter3d"
          },
          {
           "marker": {
            "color": "red",
            "size": 8
           },
           "mode": "markers",
           "name": "M3",
           "x": [
            7247.493310434011
           ],
           "y": [
            -241.58311034780036
           ],
           "z": [
            765.0131827680343
           ],
           "type": "scatter3d"
          }
         ],
         "name": "t=36.1s"
        },
        {
         "data": [
          {
           "marker": {
            "color": "red",
            "size": 8
           },
           "mode": "markers",
           "name": "M1",
           "x": [
            9024.438265562545
           ],
           "y": [
            0.0
           ],
           "z": [
            902.4438265562546
           ],
           "type": "scatter3d"
          },
          {
           "marker": {
            "color": "red",
            "size": 8
           },
           "mode": "markers",
           "name": "M2",
           "x": [
            8041.855989698266
           ],
           "y": [
            253.95334704310307
           ],
           "z": [
            888.8367146508608
           ],
           "type": "scatter3d"
          },
          {
           "marker": {
            "color": "red",
            "size": 8
           },
           "mode": "markers",
           "name": "M3",
           "x": [
            7036.659845932718
           ],
           "y": [
            -234.55532819775726
           ],
           "z": [
            742.7585392928979
           ],
           "type": "scatter3d"
          }
         ],
         "name": "t=36.8s"
        },
        {
         "data": [
          {
           "marker": {
            "color": "red",
            "size": 8
           },
           "mode": "markers",
           "name": "M1",
           "x": [
            8813.369770669518
           ],
           "y": [
            0.0
           ],
           "z": [
            881.3369770669517
           ],
           "type": "scatter3d"
          },
          {
           "marker": {
            "color": "red",
            "size": 8
           },
           "mode": "markers",
           "name": "M2",
           "x": [
            7831.122451038616
           ],
           "y": [
            247.29860371700892
           ],
           "z": [
            865.5451130095312
           ],
           "type": "scatter3d"
          },
          {
           "marker": {
            "color": "red",
            "size": 8
           },
           "mode": "markers",
           "name": "M3",
           "x": [
            6825.826381431423
           ],
           "y": [
            -227.5275460477141
           ],
           "z": [
            720.5038958177613
           ],
           "type": "scatter3d"
          }
         ],
         "name": "t=37.5s"
        },
        {
         "data": [
          {
           "marker": {
            "color": "red",
            "size": 8
           },
           "mode": "markers",
           "name": "M1",
           "x": [
            8602.30127577649
           ],
           "y": [
            0.0
           ],
           "z": [
            860.230127577649
           ],
           "type": "scatter3d"
          },
          {
           "marker": {
            "color": "red",
            "size": 8
           },
           "mode": "markers",
           "name": "M2",
           "x": [
            7620.388912378969
           ],
           "y": [
            240.64386039091477
           ],
           "z": [
            842.2535113682018
           ],
           "type": "scatter3d"
          },
          {
           "marker": {
            "color": "red",
            "size": 8
           },
           "mode": "markers",
           "name": "M3",
           "x": [
            6614.99291693013
           ],
           "y": [
            -220.49976389767102
           ],
           "z": [
            698.2492523426247
           ],
           "type": "scatter3d"
          }
         ],
         "name": "t=38.2s"
        },
        {
         "data": [
          {
           "marker": {
            "color": "red",
            "size": 8
           },
           "mode": "markers",
           "name": "M1",
           "x": [
            8391.232780883463
           ],
           "y": [
            0.0
           ],
           "z": [
            839.1232780883463
           ],
           "type": "scatter3d"
          },
          {
           "marker": {
            "color": "red",
            "size": 8
           },
           "mode": "markers",
           "name": "M2",
           "x": [
            7409.655373719321
           ],
           "y": [
            233.98911706482056
           ],
           "z": [
            818.9619097268721
           ],
           "type": "scatter3d"
          },
          {
           "marker": {
            "color": "red",
            "size": 8
           },
           "mode": "markers",
           "name": "M3",
           "x": [
            6404.1594524288375
           ],
           "y": [
            -213.47198174762792
           ],
           "z": [
            675.9946088674883
           ],
           "type": "scatter3d"
          }
         ],
         "name": "t=38.9s"
        },
        {
         "data": [
          {
           "marker": {
            "color": "red",
            "size": 8
           },
           "mode": "markers",
           "name": "M1",
           "x": [
            8180.164285990433
           ],
           "y": [
            0.0
           ],
           "z": [
            818.0164285990434
           ],
           "type": "scatter3d"
          },
          {
           "marker": {
            "color": "red",
            "size": 8
           },
           "mode": "markers",
           "name": "M2",
           "x": [
            7198.921835059669
           ],
           "y": [
            227.33437373872636
           ],
           "z": [
            795.6703080855423
           ],
           "type": "scatter3d"
          },
          {
           "marker": {
            "color": "red",
            "size": 8
           },
           "mode": "markers",
           "name": "M3",
           "x": [
            6193.325987927541
           ],
           "y": [
            -206.4441995975847
           ],
           "z": [
            653.7399653923515
           ],
           "type": "scatter3d"
          }
         ],
         "name": "t=39.6s"
        },
        {
         "data": [
          {
           "marker": {
            "color": "red",
            "size": 8
           },
           "mode": "markers",
           "name": "M1",
           "x": [
            7969.095791097407
           ],
           "y": [
            0.0
           ],
           "z": [
            796.9095791097407
           ],
           "type": "scatter3d"
          },
          {
           "marker": {
            "color": "red",
            "size": 8
           },
           "mode": "markers",
           "name": "M2",
           "x": [
            6988.1882964000215
           ],
           "y": [
            220.6796304126322
           ],
           "z": [
            772.3787064442129
           ],
           "type": "scatter3d"
          },
          {
           "marker": {
            "color": "red",
            "size": 8
           },
           "mode": "markers",
           "name": "M3",
           "x": [
            5982.492523426248
           ],
           "y": [
            -199.41641744754162
           ],
           "z": [
            631.4853219172148
           ],
           "type": "scatter3d"
          }
         ],
         "name": "t=40.3s"
        },
        {
         "data": [
          {
           "marker": {
            "color": "red",
            "size": 8
           },
           "mode": "markers",
           "name": "M1",
           "x": [
            7758.027296204378
           ],
           "y": [
            0.0
           ],
           "z": [
            775.8027296204377
           ],
           "type": "scatter3d"
          },
          {
           "marker": {
            "color": "red",
            "size": 8
           },
           "mode": "markers",
           "name": "M2",
           "x": [
            6777.454757740374
           ],
           "y": [
            214.02488708653806
           ],
           "z": [
            749.0871048028832
           ],
           "type": "scatter3d"
          },
          {
           "marker": {
            "color": "red",
            "size": 8
           },
           "mode": "markers",
           "name": "M3",
           "x": [
            5771.659058924954
           ],
           "y": [
            -192.38863529749847
           ],
           "z": [
            609.2306784420784
           ],
           "type": "scatter3d"
          }
         ],
         "name": "t=41.0s"
        },
        {
         "data": [
          {
           "marker": {
            "color": "red",
            "size": 8
           },
           "mode": "markers",
           "name": "M1",
           "x": [
            7546.95880131135
           ],
           "y": [
            0.0
           ],
           "z": [
            754.695880131135
           ],
           "type": "scatter3d"
          },
          {
           "marker": {
            "color": "red",
            "size": 8
           },
           "mode": "markers",
           "name": "M2",
           "x": [
            6566.721219080724
           ],
           "y": [
            207.37014376044385
           ],
           "z": [
            725.7955031615536
           ],
           "type": "scatter3d"
          },
          {
           "marker": {
            "color": "red",
            "size": 8
           },
           "mode": "markers",
           "name": "M3",
           "x": [
            5560.825594423661
           ],
           "y": [
            -185.36085314745537
           ],
           "z": [
            586.9760349669418
           ],
           "type": "scatter3d"
          }
         ],
         "name": "t=41.7s"
        },
        {
         "data": [
          {
           "marker": {
            "color": "red",
            "size": 8
           },
           "mode": "markers",
           "name": "M1",
           "x": [
            7335.890306418323
           ],
           "y": [
            0.0
           ],
           "z": [
            733.5890306418323
           ],
           "type": "scatter3d"
          },
          {
           "marker": {
            "color": "red",
            "size": 8
           },
           "mode": "markers",
           "name": "M2",
           "x": [
            6355.987680421076
           ],
           "y": [
            200.7154004343497
           ],
           "z": [
            702.5039015202242
           ],
           "type": "scatter3d"
          },
          {
           "marker": {
            "color": "red",
            "size": 8
           },
           "mode": "markers",
           "name": "M3",
           "x": [
            5349.992129922368
           ],
           "y": [
            -178.33307099741222
           ],
           "z": [
            564.7213914918052
           ],
           "type": "scatter3d"
          }
         ],
         "name": "t=42.4s"
        },
        {
         "data": [
          {
           "marker": {
            "color": "red",
            "size": 8
           },
           "mode": "markers",
           "name": "M1",
           "x": [
            7124.821811525295
           ],
           "y": [
            0.0
           ],
           "z": [
            712.4821811525296
           ],
           "type": "scatter3d"
          },
          {
           "marker": {
            "color": "red",
            "size": 8
           },
           "mode": "markers",
           "name": "M2",
           "x": [
            6145.254141761428
           ],
           "y": [
            194.06065710825555
           ],
           "z": [
            679.2122998788946
           ],
           "type": "scatter3d"
          },
          {
           "marker": {
            "color": "red",
            "size": 8
           },
           "mode": "markers",
           "name": "M3",
           "x": [
            5139.158665421073
           ],
           "y": [
            -171.30528884736913
           ],
           "z": [
            542.4667480166688
           ],
           "type": "scatter3d"
          }
         ],
         "name": "t=43.1s"
        },
        {
         "data": [
          {
           "marker": {
            "color": "red",
            "size": 8
           },
           "mode": "markers",
           "name": "M1",
           "x": [
            6913.753316632266
           ],
           "y": [
            0.0
           ],
           "z": [
            691.3753316632265
           ],
           "type": "scatter3d"
          },
          {
           "marker": {
            "color": "red",
            "size": 8
           },
           "mode": "markers",
           "name": "M2",
           "x": [
            5934.520603101777
           ],
           "y": [
            187.40591378216135
           ],
           "z": [
            655.9206982375647
           ],
           "type": "scatter3d"
          },
          {
           "marker": {
            "color": "red",
            "size": 8
           },
           "mode": "markers",
           "name": "M3",
           "x": [
            4928.325200919779
           ],
           "y": [
            -164.27750669732592
           ],
           "z": [
            520.212104541532
           ],
           "type": "scatter3d"
          }
         ],
         "name": "t=43.8s"
        },
        {
         "data": [
          {
           "marker": {
            "color": "red",
            "size": 8
           },
           "mode": "markers",
           "name": "M1",
           "x": [
            6702.684821739238
           ],
           "y": [
            0.0
           ],
           "z": [
            670.2684821739238
           ],
           "type": "scatter3d"
          },
          {
           "marker": {
            "color": "red",
            "size": 8
           },
           "mode": "markers",
           "name": "M2",
           "x": [
            5723.787064442129
           ],
           "y": [
            180.75117045606714
           ],
           "z": [
            632.6290965962353
           ],
           "type": "scatter3d"
          },
          {
           "marker": {
            "color": "red",
            "size": 8
           },
           "mode": "markers",
           "name": "M3",
           "x": [
            4717.491736418484
           ],
           "y": [
            -157.24972454728282
           ],
           "z": [
            497.95746106639535
           ],
           "type": "scatter3d"
          }
         ],
         "name": "t=44.5s"
        },
        {
         "data": [
          {
           "marker": {
            "color": "red",
            "size": 8
           },
           "mode": "markers",
           "name": "M1",
           "x": [
            6491.61632684621
           ],
           "y": [
            0.0
           ],
           "z": [
            649.161632684621
           ],
           "type": "scatter3d"
          },
          {
           "marker": {
            "color": "red",
            "size": 8
           },
           "mode": "markers",
           "name": "M2",
           "x": [
            5513.053525782481
           ],
           "y": [
            174.096427129973
           ],
           "z": [
            609.3374949549057
           ],
           "type": "scatter3d"
          },
          {
           "marker": {
            "color": "red",
            "size": 8
           },
           "mode": "markers",
           "name": "M3",
           "x": [
            4506.658271917191
           ],
           "y": [
            -150.22194239723967
           ],
           "z": [
            475.70281759125896
           ],
           "type": "scatter3d"
          }
         ],
         "name": "t=45.3s"
        },
        {
         "data": [
          {
           "marker": {
            "color": "red",
            "size": 8
           },
           "mode": "markers",
           "name": "M1",
           "x": [
            6280.547831953183
           ],
           "y": [
            0.0
           ],
           "z": [
            628.0547831953184
           ],
           "type": "scatter3d"
          },
          {
           "marker": {
            "color": "red",
            "size": 8
           },
           "mode": "markers",
           "name": "M2",
           "x": [
            5302.319987122832
           ],
           "y": [
            167.44168380387885
           ],
           "z": [
            586.045893313576
           ],
           "type": "scatter3d"
          },
          {
           "marker": {
            "color": "red",
            "size": 8
           },
           "mode": "markers",
           "name": "M3",
           "x": [
            4295.824807415896
           ],
           "y": [
            -143.19416024719658
           ],
           "z": [
            453.44817411612235
           ],
           "type": "scatter3d"
          }
         ],
         "name": "t=46.0s"
        },
        {
         "data": [
          {
           "marker": {
            "color": "red",
            "size": 8
           },
           "mode": "markers",
           "name": "M1",
           "x": [
            6069.479337060155
           ],
           "y": [
            0.0
           ],
           "z": [
            606.9479337060154
           ],
           "type": "scatter3d"
          },
          {
           "marker": {
            "color": "red",
            "size": 8
           },
           "mode": "markers",
           "name": "M2",
           "x": [
            5091.586448463184
           ],
           "y": [
            160.7869404777847
           ],
           "z": [
            562.7542916722466
           ],
           "type": "scatter3d"
          },
          {
           "marker": {
            "color": "red",
            "size": 8
           },
           "mode": "markers",
           "name": "M3",
           "x": [
            4084.9913429146036
           ],
           "y": [
            -136.16637809715348
           ],
           "z": [
            431.1935306409857
           ],
           "type": "scatter3d"
          }
         ],
         "name": "t=46.7s"
        },
        {
         "data": [
          {
           "marker": {
            "color": "red",
            "size": 8
           },
           "mode": "markers",
           "name": "M1",
           "x": [
            5858.410842167126
           ],
           "y": [
            0.0
           ],
           "z": [
            585.8410842167125
           ],
           "type": "scatter3d"
          },
          {
           "marker": {
            "color": "red",
            "size": 8
           },
           "mode": "markers",
           "name": "M2",
           "x": [
            4880.852909803532
           ],
           "y": [
            154.13219715169043
           ],
           "z": [
            539.4626900309167
           ],
           "type": "scatter3d"
          },
          {
           "marker": {
            "color": "red",
            "size": 8
           },
           "mode": "markers",
           "name": "M3",
           "x": [
            3874.157878413309
           ],
           "y": [
            -129.13859594711028
           ],
           "z": [
            408.9388871658491
           ],
           "type": "scatter3d"
          }
         ],
         "name": "t=47.4s"
        },
        {
         "data": [
          {
           "marker": {
            "color": "red",
            "size": 8
           },
           "mode": "markers",
           "name": "M1",
           "x": [
            5647.342347274098
           ],
           "y": [
            0.0
           ],
           "z": [
            564.7342347274098
           ],
           "type": "scatter3d"
          },
          {
           "marker": {
            "color": "red",
            "size": 8
           },
           "mode": "markers",
           "name": "M2",
           "x": [
            4670.119371143885
           ],
           "y": [
            147.47745382559629
           ],
           "z": [
            516.1710883895871
           ],
           "type": "scatter3d"
          },
          {
           "marker": {
            "color": "red",
            "size": 8
           },
           "mode": "markers",
           "name": "M3",
           "x": [
            3663.3244139120143
           ],
           "y": [
            -122.11081379706718
           ],
           "z": [
            386.6842436907125
           ],
           "type": "scatter3d"
          }
         ],
         "name": "t=48.1s"
        },
        {
         "data": [
          {
           "marker": {
            "color": "red",
            "size": 8
           },
           "mode": "markers",
           "name": "M1",
           "x": [
            5436.273852381071
           ],
           "y": [
            0.0
           ],
           "z": [
            543.6273852381071
           ],
           "type": "scatter3d"
          },
          {
           "marker": {
            "color": "red",
            "size": 8
           },
           "mode": "markers",
           "name": "M2",
           "x": [
            4459.385832484237
           ],
           "y": [
            140.82271049950214
           ],
           "z": [
            492.8794867482577
           ],
           "type": "scatter3d"
          },
          {
           "marker": {
            "color": "red",
            "size": 8
           },
           "mode": "markers",
           "name": "M3",
           "x": [
            3452.4909494107214
           ],
           "y": [
            -115.08303164702403
           ],
           "z": [
            364.4296002155759
           ],
           "type": "scatter3d"
          }
         ],
         "name": "t=48.8s"
        },
        {
         "data": [
          {
           "marker": {
            "color": "red",
            "size": 8
           },
           "mode": "markers",
           "name": "M1",
           "x": [
            5225.205357488043
           ],
           "y": [
            0.0
           ],
           "z": [
            522.5205357488041
           ],
           "type": "scatter3d"
          },
          {
           "marker": {
            "color": "red",
            "size": 8
           },
           "mode": "markers",
           "name": "M2",
           "x": [
            4248.652293824589
           ],
           "y": [
            134.167967173408
           ],
           "z": [
            469.58788510692807
           ],
           "type": "scatter3d"
          },
          {
           "marker": {
            "color": "red",
            "size": 8
           },
           "mode": "markers",
           "name": "M3",
           "x": [
            3241.657484909427
           ],
           "y": [
            -108.05524949698093
           ],
           "z": [
            342.1749567404395
           ],
           "type": "scatter3d"
          }
         ],
         "name": "t=49.5s"
        },
        {
         "data": [
          {
           "marker": {
            "color": "red",
            "size": 8
           },
           "mode": "markers",
           "name": "M1",
           "x": [
            5014.1368625950145
           ],
           "y": [
            0.0
           ],
           "z": [
            501.41368625950145
           ],
           "type": "scatter3d"
          },
          {
           "marker": {
            "color": "red",
            "size": 8
           },
           "mode": "markers",
           "name": "M2",
           "x": [
            4037.9187551649393
           ],
           "y": [
            127.51322384731384
           ],
           "z": [
            446.29628346559844
           ],
           "type": "scatter3d"
          },
          {
           "marker": {
            "color": "red",
            "size": 8
           },
           "mode": "markers",
           "name": "M3",
           "x": [
            3030.824020408134
           ],
           "y": [
            -101.02746734693778
           ],
           "z": [
            319.92031326530287
           ],
           "type": "scatter3d"
          }
         ],
         "name": "t=50.2s"
        },
        {
         "data": [
          {
           "marker": {
            "color": "red",
            "size": 8
           },
           "mode": "markers",
           "name": "M1",
           "x": [
            4803.068367701988
           ],
           "y": [
            0.0
           ],
           "z": [
            480.30683677019874
           ],
           "type": "scatter3d"
          },
          {
           "marker": {
            "color": "red",
            "size": 8
           },
           "mode": "markers",
           "name": "M2",
           "x": [
            3827.1852165052915
           ],
           "y": [
            120.85848052121963
           ],
           "z": [
            423.004681824269
           ],
           "type": "scatter3d"
          },
          {
           "marker": {
            "color": "red",
            "size": 8
           },
           "mode": "markers",
           "name": "M3",
           "x": [
            2819.990555906841
           ],
           "y": [
            -93.99968519689469
           ],
           "z": [
            297.66566979016625
           ],
           "type": "scatter3d"
          }
         ],
         "name": "t=50.9s"
        },
        {
         "data": [
          {
           "marker": {
            "color": "red",
            "size": 8
           },
           "mode": "markers",
           "name": "M1",
           "x": [
            4591.999872808958
           ],
           "y": [
            0.0
           ],
           "z": [
            459.1999872808958
           ],
           "type": "scatter3d"
          },
          {
           "marker": {
            "color": "red",
            "size": 8
           },
           "mode": "markers",
           "name": "M2",
           "x": [
            3616.45167784564
           ],
           "y": [
            114.20373719512543
           ],
           "z": [
            399.71308018293917
           ],
           "type": "scatter3d"
          },
          {
           "marker": {
            "color": "red",
            "size": 8
           },
           "mode": "markers",
           "name": "M3",
           "x": [
            2609.1570914055446
           ],
           "y": [
            -86.97190304685148
           ],
           "z": [
            275.41102631502963
           ],
           "type": "scatter3d"
          }
         ],
         "name": "t=51.6s"
        },
        {
         "data": [
          {
           "marker": {
            "color": "red",
            "size": 8
           },
           "mode": "markers",
           "name": "M1",
           "x": [
            4380.931377915931
           ],
           "y": [
            0.0
           ],
           "z": [
            438.0931377915929
           ],
           "type": "scatter3d"
          },
          {
           "marker": {
            "color": "red",
            "size": 8
           },
           "mode": "markers",
           "name": "M2",
           "x": [
            3405.718139185992
           ],
           "y": [
            107.54899386903128
           ],
           "z": [
            376.42147854160953
           ],
           "type": "scatter3d"
          },
          {
           "marker": {
            "color": "red",
            "size": 8
           },
           "mode": "markers",
           "name": "M3",
           "x": [
            2398.323626904252
           ],
           "y": [
            -79.94412089680839
           ],
           "z": [
            253.156382839893
           ],
           "type": "scatter3d"
          }
         ],
         "name": "t=52.3s"
        },
        {
         "data": [
          {
           "marker": {
            "color": "red",
            "size": 8
           },
           "mode": "markers",
           "name": "M1",
           "x": [
            4169.862883022903
           ],
           "y": [
            0.0
           ],
           "z": [
            416.9862883022902
           ],
           "type": "scatter3d"
          },
          {
           "marker": {
            "color": "red",
            "size": 8
           },
           "mode": "markers",
           "name": "M2",
           "x": [
            3194.9846005263444
           ],
           "y": [
            100.89425054293713
           ],
           "z": [
            353.1298769002801
           ],
           "type": "scatter3d"
          },
          {
           "marker": {
            "color": "red",
            "size": 8
           },
           "mode": "markers",
           "name": "M3",
           "x": [
            2187.490162402957
           ],
           "y": [
            -72.91633874676529
           ],
           "z": [
            230.9017393647564
           ],
           "type": "scatter3d"
          }
         ],
         "name": "t=53.0s"
        },
        {
         "data": [
          {
           "marker": {
            "color": "red",
            "size": 8
           },
           "mode": "markers",
           "name": "M1",
           "x": [
            3958.7943881298743
           ],
           "y": [
            0.0
           ],
           "z": [
            395.8794388129875
           ],
           "type": "scatter3d"
          },
          {
           "marker": {
            "color": "red",
            "size": 8
           },
           "mode": "markers",
           "name": "M2",
           "x": [
            2984.2510618666965
           ],
           "y": [
            94.23950721684292
           ],
           "z": [
            329.8382752589505
           ],
           "type": "scatter3d"
          },
          {
           "marker": {
            "color": "red",
            "size": 8
           },
           "mode": "markers",
           "name": "M3",
           "x": [
            1976.6566979016643
           ],
           "y": [
            -65.8885565967222
           ],
           "z": [
            208.64709588962
           ],
           "type": "scatter3d"
          }
         ],
         "name": "t=53.7s"
        },
        {
         "data": [
          {
           "marker": {
            "color": "red",
            "size": 8
           },
           "mode": "markers",
           "name": "M1",
           "x": [
            3747.7258932368477
           ],
           "y": [
            0.0
           ],
           "z": [
            374.77258932368477
           ],
           "type": "scatter3d"
          },
          {
           "marker": {
            "color": "red",
            "size": 8
           },
           "mode": "markers",
           "name": "M2",
           "x": [
            2773.517523207047
           ],
           "y": [
            87.58476389074883
           ],
           "z": [
            306.54667361762085
           ],
           "type": "scatter3d"
          },
          {
           "marker": {
            "color": "red",
            "size": 8
           },
           "mode": "markers",
           "name": "M3",
           "x": [
            1765.8232334003715
           ],
           "y": [
            -58.86077444667899
           ],
           "z": [
            186.3924524144834
           ],
           "type": "scatter3d"
          }
         ],
         "name": "t=54.4s"
        },
        {
         "data": [
          {
           "marker": {
            "color": "red",
            "size": 8
           },
           "mode": "markers",
           "name": "M1",
           "x": [
            3536.657398343821
           ],
           "y": [
            0.0
           ],
           "z": [
            353.66573983438184
           ],
           "type": "scatter3d"
          },
          {
           "marker": {
            "color": "red",
            "size": 8
           },
           "mode": "markers",
           "name": "M2",
           "x": [
            2562.7839845473973
           ],
           "y": [
            80.93002056465457
           ],
           "z": [
            283.25507197629145
           ],
           "type": "scatter3d"
          },
          {
           "marker": {
            "color": "red",
            "size": 8
           },
           "mode": "markers",
           "name": "M3",
           "x": [
            1554.9897688990786
           ],
           "y": [
            -51.832992296635894
           ],
           "z": [
            164.13780893934677
           ],
           "type": "scatter3d"
          }
         ],
         "name": "t=55.2s"
        },
        {
         "data": [
          {
           "marker": {
            "color": "red",
            "size": 8
           },
           "mode": "markers",
           "name": "M1",
           "x": [
            3325.588903450789
           ],
           "y": [
            0.0
           ],
           "z": [
            332.5588903450789
           ],
           "type": "scatter3d"
          },
          {
           "marker": {
            "color": "red",
            "size": 8
           },
           "mode": "markers",
           "name": "M2",
           "x": [
            2352.0504458877476
           ],
           "y": [
            74.27527723856042
           ],
           "z": [
            259.9634703349616
           ],
           "type": "scatter3d"
          },
          {
           "marker": {
            "color": "red",
            "size": 8
           },
           "mode": "markers",
           "name": "M3",
           "x": [
            1344.1563043977803
           ],
           "y": [
            -44.805210146592685
           ],
           "z": [
            141.88316546421015
           ],
           "type": "scatter3d"
          }
         ],
         "name": "t=55.9s"
        },
        {
         "data": [
          {
           "marker": {
            "color": "red",
            "size": 8
           },
           "mode": "markers",
           "name": "M1",
           "x": [
            3114.5204085577643
           ],
           "y": [
            0.0
           ],
           "z": [
            311.4520408557762
           ],
           "type": "scatter3d"
          },
          {
           "marker": {
            "color": "red",
            "size": 8
           },
           "mode": "markers",
           "name": "M2",
           "x": [
            2141.3169072281016
           ],
           "y": [
            67.62053391246627
           ],
           "z": [
            236.67186869363195
           ],
           "type": "scatter3d"
          },
          {
           "marker": {
            "color": "red",
            "size": 8
           },
           "mode": "markers",
           "name": "M3",
           "x": [
            1133.3228398964893
           ],
           "y": [
            -37.77742799654959
           ],
           "z": [
            119.62852198907353
           ],
           "type": "scatter3d"
          }
         ],
         "name": "t=56.6s"
        },
        {
         "data": [
          {
           "marker": {
            "color": "red",
            "size": 8
           },
           "mode": "markers",
           "name": "M1",
           "x": [
            2903.451913664736
           ],
           "y": [
            0.0
           ],
           "z": [
            290.3451913664735
           ],
           "type": "scatter3d"
          },
          {
           "marker": {
            "color": "red",
            "size": 8
           },
           "mode": "markers",
           "name": "M2",
           "x": [
            1930.583368568452
           ],
           "y": [
            60.96579058637212
           ],
           "z": [
            213.38026705230232
           ],
           "type": "scatter3d"
          },
          {
           "marker": {
            "color": "red",
            "size": 8
           },
           "mode": "markers",
           "name": "M3",
           "x": [
            922.4893753951947
           ],
           "y": [
            -30.749645846506496
           ],
           "z": [
            97.37387851393692
           ],
           "type": "scatter3d"
          }
         ],
         "name": "t=57.3s"
        },
        {
         "data": [
          {
           "marker": {
            "color": "red",
            "size": 8
           },
           "mode": "markers",
           "name": "M1",
           "x": [
            2692.3834187717075
           ],
           "y": [
            0.0
           ],
           "z": [
            269.2383418771708
           ],
           "type": "scatter3d"
          },
          {
           "marker": {
            "color": "red",
            "size": 8
           },
           "mode": "markers",
           "name": "M2",
           "x": [
            1719.8498299088023
           ],
           "y": [
            54.311047260277974
           ],
           "z": [
            190.0886654109729
           ],
           "type": "scatter3d"
          },
          {
           "marker": {
            "color": "red",
            "size": 8
           },
           "mode": "markers",
           "name": "M3",
           "x": [
            711.6559108939
           ],
           "y": [
            -23.7218636964634
           ],
           "z": [
            75.11923503880053
           ],
           "type": "scatter3d"
          }
         ],
         "name": "t=58.0s"
        },
        {
         "data": [
          {
           "marker": {
            "color": "red",
            "size": 8
           },
           "mode": "markers",
           "name": "M1",
           "x": [
            2481.314923878679
           ],
           "y": [
            0.0
           ],
           "z": [
            248.13149238786787
           ],
           "type": "scatter3d"
          },
          {
           "marker": {
            "color": "red",
            "size": 8
           },
           "mode": "markers",
           "name": "M2",
           "x": [
            1509.1162912491563
           ],
           "y": [
            47.65630393418371
           ],
           "z": [
            166.79706376964327
           ],
           "type": "scatter3d"
          },
          {
           "marker": {
            "color": "red",
            "size": 8
           },
           "mode": "markers",
           "name": "M3",
           "x": [
            500.822446392609
           ],
           "y": [
            -16.694081546420307
           ],
           "z": [
            52.86459156366391
           ],
           "type": "scatter3d"
          }
         ],
         "name": "t=58.7s"
        },
        {
         "data": [
          {
           "marker": {
            "color": "red",
            "size": 8
           },
           "mode": "markers",
           "name": "M1",
           "x": [
            2270.2464289856507
           ],
           "y": [
            0.0
           ],
           "z": [
            227.02464289856516
           ],
           "type": "scatter3d"
          },
          {
           "marker": {
            "color": "red",
            "size": 8
           },
           "mode": "markers",
           "name": "M2",
           "x": [
            1298.3827525895067
           ],
           "y": [
            41.00156060808956
           ],
           "z": [
            143.50546212831364
           ],
           "type": "scatter3d"
          },
          {
           "marker": {
            "color": "red",
            "size": 8
           },
           "mode": "markers",
           "name": "M3",
           "x": [
            289.9889818913143
           ],
           "y": [
            -9.666299396377099
           ],
           "z": [
            30.60994808852729
           ],
           "type": "scatter3d"
          }
         ],
         "name": "t=59.4s"
        },
        {
         "data": [
          {
           "marker": {
            "color": "red",
            "size": 8
           },
           "mode": "markers",
           "name": "M1",
           "x": [
            2059.1779340926223
           ],
           "y": [
            0.0
           ],
           "z": [
            205.91779340926223
           ],
           "type": "scatter3d"
          },
          {
           "marker": {
            "color": "red",
            "size": 8
           },
           "mode": "markers",
           "name": "M2",
           "x": [
            1087.649213929857
           ],
           "y": [
            34.34681728199541
           ],
           "z": [
            120.213860486984
           ],
           "type": "scatter3d"
          },
          {
           "marker": {
            "color": "red",
            "size": 8
           },
           "mode": "markers",
           "name": "M3",
           "x": [
            79.15551739001967
           ],
           "y": [
            -2.6385172463338904
           ],
           "z": [
            8.355304613390672
           ],
           "type": "scatter3d"
          }
         ],
         "name": "t=60.1s"
        },
        {
         "data": [
          {
           "marker": {
            "color": "red",
            "size": 8
           },
           "mode": "markers",
           "name": "M1",
           "x": [
            1848.109439199594
           ],
           "y": [
            0.0
           ],
           "z": [
            184.81094391995953
           ],
           "type": "scatter3d"
          },
          {
           "marker": {
            "color": "red",
            "size": 8
           },
           "mode": "markers",
           "name": "M2",
           "x": [
            876.9156752702074
           ],
           "y": [
            27.692073955901265
           ],
           "z": [
            96.92225884565437
           ],
           "type": "scatter3d"
          },
          {
           "marker": {
            "color": "red",
            "size": 8
           },
           "mode": "markers",
           "name": "M3",
           "x": [
            -131.677947111275
           ],
           "y": [
            4.389264903709204
           ],
           "z": [
            -13.899338861745946
           ],
           "type": "scatter3d"
          }
         ],
         "name": "t=60.8s"
        },
        {
         "data": [
          {
           "marker": {
            "color": "red",
            "size": 8
           },
           "mode": "markers",
           "name": "M1",
           "x": [
            1637.0409443065655
           ],
           "y": [
            0.0
           ],
           "z": [
            163.7040944306566
           ],
           "type": "scatter3d"
          },
          {
           "marker": {
            "color": "red",
            "size": 8
           },
           "mode": "markers",
           "name": "M2",
           "x": [
            666.1821366105578
           ],
           "y": [
            21.037330629807002
           ],
           "z": [
            73.63065720432473
           ],
           "type": "scatter3d"
          },
          {
           "marker": {
            "color": "red",
            "size": 8
           },
           "mode": "markers",
           "name": "M3",
           "x": [
            -342.51141161256965
           ],
           "y": [
            11.417047053752299
           ],
           "z": [
            -36.153982336882564
           ],
           "type": "scatter3d"
          }
         ],
         "name": "t=61.5s"
        },
        {
         "data": [
          {
           "marker": {
            "color": "red",
            "size": 8
           },
           "mode": "markers",
           "name": "M1",
           "x": [
            1425.9724494135407
           ],
           "y": [
            0.0
           ],
           "z": [
            142.5972449413539
           ],
           "type": "scatter3d"
          },
          {
           "marker": {
            "color": "red",
            "size": 8
           },
           "mode": "markers",
           "name": "M2",
           "x": [
            455.4485979509118
           ],
           "y": [
            14.382587303712853
           ],
           "z": [
            50.33905556299533
           ],
           "type": "scatter3d"
          },
          {
           "marker": {
            "color": "red",
            "size": 8
           },
           "mode": "markers",
           "name": "M3",
           "x": [
            -553.3448761138607
           ],
           "y": [
            18.444829203795393
           ],
           "z": [
            -58.408625812018954
           ],
           "type": "scatter3d"
          }
         ],
         "name": "t=62.2s"
        },
        {
         "data": [
          {
           "marker": {
            "color": "red",
            "size": 8
           },
           "mode": "markers",
           "name": "M1",
           "x": [
            1214.9039545205123
           ],
           "y": [
            0.0
           ],
           "z": [
            121.49039545205119
           ],
           "type": "scatter3d"
          },
          {
           "marker": {
            "color": "red",
            "size": 8
           },
           "mode": "markers",
           "name": "M2",
           "x": [
            244.71505929126215
           ],
           "y": [
            7.727843977618704
           ],
           "z": [
            27.047453921665692
           ],
           "type": "scatter3d"
          },
          {
           "marker": {
            "color": "red",
            "size": 8
           },
           "mode": "markers",
           "name": "M3",
           "x": [
            -764.1783406151553
           ],
           "y": [
            25.472611353838488
           ],
           "z": [
            -80.66326928715557
           ],
           "type": "scatter3d"
          }
         ],
         "name": "t=62.9s"
        },
        {
         "data": [
          {
           "marker": {
            "color": "red",
            "size": 8
           },
           "mode": "markers",
           "name": "M1",
           "x": [
            1003.8354596274839
           ],
           "y": [
            0.0
           ],
           "z": [
            100.38354596274849
           ],
           "type": "scatter3d"
          },
          {
           "marker": {
            "color": "red",
            "size": 8
           },
           "mode": "markers",
           "name": "M2",
           "x": [
            33.98152063161251
           ],
           "y": [
            1.0731006515245554
           ],
           "z": [
            3.7558522803360574
           ],
           "type": "scatter3d"
          },
          {
           "marker": {
            "color": "red",
            "size": 8
           },
           "mode": "markers",
           "name": "M3",
           "x": [
            -975.01180511645
           ],
           "y": [
            32.500393503881696
           ],
           "z": [
            -102.91791276229219
           ],
           "type": "scatter3d"
          }
         ],
         "name": "t=63.6s"
        },
        {
         "data": [
          {
           "marker": {
            "color": "red",
            "size": 8
           },
           "mode": "markers",
           "name": "M1",
           "x": [
            792.7669647344555
           ],
           "y": [
            0.0
           ],
           "z": [
            79.27669647344555
           ],
           "type": "scatter3d"
          },
          {
           "marker": {
            "color": "red",
            "size": 8
           },
           "mode": "markers",
           "name": "M2",
           "x": [
            -176.7520180280335
           ],
           "y": [
            -5.5816426745695935
           ],
           "z": [
            -19.535749360993577
           ],
           "type": "scatter3d"
          },
          {
           "marker": {
            "color": "red",
            "size": 8
           },
           "mode": "markers",
           "name": "M3",
           "x": [
            -1185.8452696177446
           ],
           "y": [
            39.52817565392479
           ],
           "z": [
            -125.17255623742858
           ],
           "type": "scatter3d"
          }
         ],
         "name": "t=64.3s"
        },
        {
         "data": [
          {
           "marker": {
            "color": "red",
            "size": 8
           },
           "mode": "markers",
           "name": "M1",
           "x": [
            581.6984698414271
           ],
           "y": [
            0.0
           ],
           "z": [
            58.16984698414262
           ],
           "type": "scatter3d"
          },
          {
           "marker": {
            "color": "red",
            "size": 8
           },
           "mode": "markers",
           "name": "M2",
           "x": [
            -387.48555668768313
           ],
           "y": [
            -12.236386000663856
           ],
           "z": [
            -42.82735100232321
           ],
           "type": "scatter3d"
          },
          {
           "marker": {
            "color": "red",
            "size": 8
           },
           "mode": "markers",
           "name": "M3",
           "x": [
            -1396.6787341190393
           ],
           "y": [
            46.555957803968
           ],
           "z": [
            -147.42719971256543
           ],
           "type": "scatter3d"
          }
         ],
         "name": "t=65.1s"
        },
        {
         "data": [
          {
           "marker": {
            "color": "red",
            "size": 8
           },
           "mode": "markers",
           "name": "M1",
           "x": [
            370.6299749484024
           ],
           "y": [
            0.0
           ],
           "z": [
            37.06299749484015
           ],
           "type": "scatter3d"
          },
          {
           "marker": {
            "color": "red",
            "size": 8
           },
           "mode": "markers",
           "name": "M2",
           "x": [
            -598.2190953473328
           ],
           "y": [
            -18.89112932675789
           ],
           "z": [
            -66.11895264365239
           ],
           "type": "scatter3d"
          },
          {
           "marker": {
            "color": "red",
            "size": 8
           },
           "mode": "markers",
           "name": "M3",
           "x": [
            -1607.5121986203303
           ],
           "y": [
            53.58373995401098
           ],
           "z": [
            -169.68184318770182
           ],
           "type": "scatter3d"
          }
         ],
         "name": "t=65.8s"
        },
        {
         "data": [
          {
           "marker": {
            "color": "red",
            "size": 8
           },
           "mode": "markers",
           "name": "M1",
           "x": [
            159.56148005537034
           ],
           "y": [
            0.0
           ],
           "z": [
            15.956148005537216
           ],
           "type": "scatter3d"
          },
          {
           "marker": {
            "color": "red",
            "size": 8
           },
           "mode": "markers",
           "name": "M2",
           "x": [
            -808.9526340069824
           ],
           "y": [
            -25.545872652852154
           ],
           "z": [
            -89.41055428498248
           ],
           "type": "scatter3d"
          },
          {
           "marker": {
            "color": "red",
            "size": 8
           },
           "mode": "markers",
           "name": "M3",
           "x": [
            -1818.345663121625
           ],
           "y": [
            60.61152210405419
           ],
           "z": [
            -191.93648666283843
           ],
           "type": "scatter3d"
          }
         ],
         "name": "t=66.5s"
        },
        {
         "data": [
          {
           "marker": {
            "color": "red",
            "size": 8
           },
           "mode": "markers",
           "name": "M1",
           "x": [
            -51.50701483765806
           ],
           "y": [
            0.0
           ],
           "z": [
            -5.150701483765715
           ],
           "type": "scatter3d"
          },
          {
           "marker": {
            "color": "red",
            "size": 8
           },
           "mode": "markers",
           "name": "M2",
           "x": [
            -1019.686172666632
           ],
           "y": [
            -32.200615978946416
           ],
           "z": [
            -112.70215592631212
           ],
           "type": "scatter3d"
          },
          {
           "marker": {
            "color": "red",
            "size": 8
           },
           "mode": "markers",
           "name": "M3",
           "x": [
            -2029.1791276229196
           ],
           "y": [
            67.6393042540974
           ],
           "z": [
            -214.19113013797505
           ],
           "type": "scatter3d"
          }
         ],
         "name": "t=67.2s"
        },
        {
         "data": [
          {
           "marker": {
            "color": "red",
            "size": 8
           },
           "mode": "markers",
           "name": "M1",
           "x": [
            -262.5755097306828
           ],
           "y": [
            0.0
           ],
           "z": [
            -26.25755097306842
           ],
           "type": "scatter3d"
          },
          {
           "marker": {
            "color": "red",
            "size": 8
           },
           "mode": "markers",
           "name": "M2",
           "x": [
            -1230.419711326278
           ],
           "y": [
            -38.85535930504045
           ],
           "z": [
            -135.9937575676413
           ],
           "type": "scatter3d"
          },
          {
           "marker": {
            "color": "red",
            "size": 8
           },
           "mode": "markers",
           "name": "M3",
           "x": [
            -2240.0125921242143
           ],
           "y": [
            74.66708640414038
           ],
           "z": [
            -236.44577361311167
           ],
           "type": "scatter3d"
          }
         ],
         "name": "t=67.9s"
        },
        {
         "data": [
          {
           "marker": {
            "color": "red",
            "size": 8
           },
           "mode": "markers",
           "name": "M1",
           "x": [
            -473.6440046237112
           ],
           "y": [
            0.0
           ],
           "z": [
            -47.36440046237135
           ],
           "type": "scatter3d"
          },
          {
           "marker": {
            "color": "red",
            "size": 8
           },
           "mode": "markers",
           "name": "M2",
           "x": [
            -1441.1532499859277
           ],
           "y": [
            -45.510102631134714
           ],
           "z": [
            -159.28535920897139
           ],
           "type": "scatter3d"
          },
          {
           "marker": {
            "color": "red",
            "size": 8
           },
           "mode": "markers",
           "name": "M3",
           "x": [
            -2450.846056625509
           ],
           "y": [
            81.69486855418359
           ],
           "z": [
            -258.7004170882483
           ],
           "type": "scatter3d"
          }
         ],
         "name": "t=68.6s"
        },
        {
         "data": [
          {
           "marker": {
            "color": "red",
            "size": 8
           },
           "mode": "markers",
           "name": "M1",
           "x": [
            -684.7124995167396
           ],
           "y": [
            0.0
           ],
           "z": [
            -68.47124995167405
           ],
           "type": "scatter3d"
          },
          {
           "marker": {
            "color": "red",
            "size": 8
           },
           "mode": "markers",
           "name": "M2",
           "x": [
            -1651.8867886455737
           ],
           "y": [
            -52.16484595722875
           ],
           "z": [
            -182.57696085030057
           ],
           "type": "scatter3d"
          },
          {
           "marker": {
            "color": "red",
            "size": 8
           },
           "mode": "markers",
           "name": "M3",
           "x": [
            -2661.6795211268
           ],
           "y": [
            88.72265070422668
           ],
           "z": [
            -280.95506056338445
           ],
           "type": "scatter3d"
          }
         ],
         "name": "t=69.3s"
        },
        {
         "data": [
          {
           "marker": {
            "color": "red",
            "size": 8
           },
           "mode": "markers",
           "name": "M1",
           "x": [
            -895.780994409768
           ],
           "y": [
            0.0
           ],
           "z": [
            -89.57809944097698
           ],
           "type": "scatter3d"
          },
          {
           "marker": {
            "color": "red",
            "size": 8
           },
           "mode": "markers",
           "name": "M2",
           "x": [
            -1862.620327305227
           ],
           "y": [
            -58.81958928332301
           ],
           "z": [
            -205.8685624916302
           ],
           "type": "scatter3d"
          },
          {
           "marker": {
            "color": "red",
            "size": 8
           },
           "mode": "markers",
           "name": "M3",
           "x": [
            -2872.5129856280946
           ],
           "y": [
            95.75043285426989
           ],
           "z": [
            -303.2097040385215
           ],
           "type": "scatter3d"
          }
         ],
         "name": "t=70.0s"
        }
       ],
       "config": {
        "plotlyServerURL": "https://plot.ly"
       }
      }
     },
     "metadata": {},
     "output_type": "display_data"
    }
   ],
   "execution_count": 21
  },
  {
   "metadata": {
    "ExecuteTime": {
     "end_time": "2025-09-05T18:31:02.435516Z",
     "start_time": "2025-09-05T18:31:02.385662Z"
    }
   },
   "cell_type": "code",
   "source": [
    "# 保存图像\n",
    "scene_fig.write_html(\".././ImageOutput/00/01-interactive_3d_scene.html\")"
   ],
   "id": "cab4a85b345a2bd",
   "outputs": [],
   "execution_count": 32
  },
  {
   "metadata": {
    "ExecuteTime": {
     "end_time": "2025-09-05T18:31:03.851602Z",
     "start_time": "2025-09-05T18:31:03.810760Z"
    }
   },
   "cell_type": "code",
   "source": "dashboard_fig.write_html(\".././ImageOutput/00/02-threat_analysis_dashboard.html\")",
   "id": "1fee3a0175c32ae8",
   "outputs": [],
   "execution_count": 33
  },
  {
   "metadata": {
    "ExecuteTime": {
     "end_time": "2025-09-05T18:31:05.166668Z",
     "start_time": "2025-09-05T18:31:05.111120Z"
    }
   },
   "cell_type": "code",
   "source": "animation_fig.write_html(\".././ImageOutput/00/03-missile_animation.html\")",
   "id": "c3cf6a2737e66892",
   "outputs": [],
   "execution_count": 34
  },
  {
   "metadata": {},
   "cell_type": "code",
   "outputs": [],
   "execution_count": null,
   "source": "",
   "id": "7e036d08532f747a"
  }
 ],
 "metadata": {
  "kernelspec": {
   "display_name": "Python 3",
   "language": "python",
   "name": "python3"
  },
  "language_info": {
   "codemirror_mode": {
    "name": "ipython",
    "version": 2
   },
   "file_extension": ".py",
   "mimetype": "text/x-python",
   "name": "python",
   "nbconvert_exporter": "python",
   "pygments_lexer": "ipython2",
   "version": "2.7.6"
  }
 },
 "nbformat": 4,
 "nbformat_minor": 5
}
