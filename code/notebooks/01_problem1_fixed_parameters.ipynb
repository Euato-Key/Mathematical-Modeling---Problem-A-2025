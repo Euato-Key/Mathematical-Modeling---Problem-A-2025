{
 "cells": [
  {
   "cell_type": "markdown",
   "id": "ed4acedec605053c",
   "metadata": {},
   "source": [
    "# 问题1：单弹固定参数分析\n",
    "\n",
    "## 问题描述\n",
    " - 无人机：FY1\n",
    " - 速度：120m/s（朝假目标方向）\n",
    " - 投放时间：受领任务1.5秒后\n",
    " - 起爆时间：投放后3.6秒\n",
    " - 要求：计算对M1的有效遮蔽时长\n"
   ]
  },
  {
   "cell_type": "code",
   "id": "c09085a0e91a55fe",
   "metadata": {
    "ExecuteTime": {
     "end_time": "2025-09-05T20:32:28.023119Z",
     "start_time": "2025-09-05T20:32:28.015983Z"
    }
   },
   "source": [
    "import numpy as np\n",
    "import plotly.graph_objects as go\n",
    "import plotly.express as px\n",
    "from plotly.subplots import make_subplots\n",
    "import pandas as pd\n",
    "import json\n",
    "from datetime import datetime\n",
    "import os\n",
    "\n",
    "# 确保输出目录存在\n",
    "output_dir = \"../ImageOutput/01\"\n",
    "os.makedirs(output_dir, exist_ok=True)\n",
    "\n",
    "print(\"🚀 问题1：单弹固定参数分析\")\n",
    "print(\"=\" * 50)\n"
   ],
   "outputs": [
    {
     "name": "stdout",
     "output_type": "stream",
     "text": [
      "🚀 问题1：单弹固定参数分析\n",
      "==================================================\n"
     ]
    }
   ],
   "execution_count": 21
  },
  {
   "cell_type": "markdown",
   "id": "5bc4d2a6172a1488",
   "metadata": {},
   "source": [
    "## 1. 物理参数定义\n"
   ]
  },
  {
   "cell_type": "code",
   "id": "bab36f37a085ece8",
   "metadata": {
    "ExecuteTime": {
     "end_time": "2025-09-05T20:32:28.082965Z",
     "start_time": "2025-09-05T20:32:28.073513Z"
    }
   },
   "source": [
    "class Problem1Solver:\n",
    "    def __init__(self):\n",
    "        \"\"\"初始化问题1求解器\"\"\"\n",
    "        # 物理常量\n",
    "        self.g = 9.8  # 重力加速度 m/s²\n",
    "        self.R = 10.0  # 烟幕有效遮蔽半径 m\n",
    "        self.v_sink = 3.0  # 云团下沉速度 m/s\n",
    "        self.smoke_duration = 20.0  # 烟幕有效时间 s\n",
    "        \n",
    "        # 导弹参数\n",
    "        self.M0 = np.array([20000.0, 0.0, 2000.0])  # M1初始位置\n",
    "        self.v_m = 300.0  # 导弹速度 m/s\n",
    "        \n",
    "        # 无人机FY1参数\n",
    "        self.U0 = np.array([17800.0, 0.0, 1800.0])  # FY1初始位置\n",
    "        self.v_u = 120.0  # 无人机速度 m/s\n",
    "        \n",
    "        # 真目标参数\n",
    "        self.T = np.array([0.0, 200.0, 0.0])  # 真目标中心位置\n",
    "        \n",
    "        # 时间参数\n",
    "        self.t_r = 1.5  # 投放时间 s\n",
    "        self.delta_f = 3.6  # 起爆延时 s\n",
    "        self.t_e = self.t_r + self.delta_f  # 起爆时刻 s\n",
    "        \n",
    "        print(f\"📊 物理参数初始化完成\")\n",
    "        print(f\"   导弹M1初始位置: {self.M0}\")\n",
    "        print(f\"   无人机FY1初始位置: {self.U0}\")\n",
    "        print(f\"   真目标位置: {self.T}\")\n",
    "        print(f\"   投放时刻: {self.t_r}s, 起爆时刻: {self.t_e}s\")\n",
    "\n",
    "# 创建求解器实例\n",
    "solver = Problem1Solver()\n"
   ],
   "outputs": [
    {
     "name": "stdout",
     "output_type": "stream",
     "text": [
      "📊 物理参数初始化完成\n",
      "   导弹M1初始位置: [20000.     0.  2000.]\n",
      "   无人机FY1初始位置: [17800.     0.  1800.]\n",
      "   真目标位置: [  0. 200.   0.]\n",
      "   投放时刻: 1.5s, 起爆时刻: 5.1s\n"
     ]
    }
   ],
   "execution_count": 22
  },
  {
   "cell_type": "markdown",
   "id": "d9fbc10c8b2b6935",
   "metadata": {},
   "source": [
    "## 2. 运动学方程计算\n"
   ]
  },
  {
   "cell_type": "code",
   "id": "cd6b591c990f3530",
   "metadata": {
    "ExecuteTime": {
     "end_time": "2025-09-05T20:32:28.132974Z",
     "start_time": "2025-09-05T20:32:28.124197Z"
    }
   },
   "source": [
    "def compute_trajectories(solver):\n",
    "    \"\"\"计算各物体的运动轨迹\"\"\"\n",
    "    \n",
    "    # 1. 计算单位向量\n",
    "    # 导弹朝向假目标（原点）\n",
    "    hat_u_m = -solver.M0 / np.linalg.norm(solver.M0)\n",
    "    \n",
    "    # 无人机朝向假目标（原点）\n",
    "    hat_u_u = -solver.U0 / np.linalg.norm(solver.U0)\n",
    "    \n",
    "    # 2. 计算投放点\n",
    "    S0 = solver.U0 + solver.v_u * hat_u_u * solver.t_r\n",
    "    \n",
    "    # 3. 计算起爆位置（云团初心）\n",
    "    v_s = solver.v_u * hat_u_u  # 弹体初速度\n",
    "    C0 = S0 + v_s * solver.delta_f + 0.5 * np.array([0, 0, -solver.g]) * solver.delta_f**2\n",
    "    \n",
    "    print(f\"🎯 轨迹计算结果:\")\n",
    "    print(f\"   导弹单位向量: {hat_u_m}\")\n",
    "    print(f\"   无人机单位向量: {hat_u_u}\")\n",
    "    print(f\"   投放点S0: {S0}\")\n",
    "    print(f\"   起爆位置C0: {C0}\")\n",
    "    \n",
    "    return hat_u_m, hat_u_u, S0, C0\n",
    "\n",
    "# 计算轨迹参数\n",
    "hat_u_m, hat_u_u, S0, C0 = compute_trajectories(solver)\n"
   ],
   "outputs": [
    {
     "name": "stdout",
     "output_type": "stream",
     "text": [
      "🎯 轨迹计算结果:\n",
      "   导弹单位向量: [-0.99503719 -0.         -0.09950372]\n",
      "   无人机单位向量: [-0.99492589 -0.         -0.10061048]\n",
      "   投放点S0: [17620.91333944     0.          1781.89011298]\n",
      "   起爆位置C0: [17191.10535408     0.          1674.92238412]\n"
     ]
    }
   ],
   "execution_count": 23
  },
  {
   "cell_type": "markdown",
   "id": "f06fa141d7812c79",
   "metadata": {},
   "source": [
    "## 3. 遮蔽判定函数\n"
   ]
  },
  {
   "cell_type": "code",
   "id": "a804af1b2b5e5b54",
   "metadata": {
    "ExecuteTime": {
     "end_time": "2025-09-05T20:32:28.178548Z",
     "start_time": "2025-09-05T20:32:28.169951Z"
    }
   },
   "source": [
    "def compute_shielding_distance(t, solver, hat_u_m, C0):\n",
    "    \"\"\"计算时刻t的遮蔽距离\"\"\"\n",
    "    \n",
    "    # 导弹位置\n",
    "    M_t = solver.M0 + solver.v_m * hat_u_m * t\n",
    "    \n",
    "    # 云团位置（仅在有效期内）\n",
    "    if t < solver.t_e or t > solver.t_e + solver.smoke_duration:\n",
    "        return float('inf')  # 无效时间\n",
    "    \n",
    "    C_t = C0 + np.array([0, 0, -solver.v_sink]) * (t - solver.t_e)\n",
    "    \n",
    "    # 计算点到线段的最短距离\n",
    "    # 导弹到目标的向量\n",
    "    MT = solver.T - M_t\n",
    "    MC = C_t - M_t\n",
    "    \n",
    "    # 投影参数\n",
    "    if np.dot(MT, MT) == 0:  # 避免除零\n",
    "        return np.linalg.norm(MC)\n",
    "    \n",
    "    s_star = np.dot(MC, MT) / np.dot(MT, MT)\n",
    "    s_clamp = np.clip(s_star, 0, 1)\n",
    "    \n",
    "    # 最近点\n",
    "    P_t = M_t + s_clamp * MT\n",
    "    \n",
    "    # 距离\n",
    "    d_t = np.linalg.norm(C_t - P_t)\n",
    "    \n",
    "    return d_t\n",
    "\n",
    "def is_shielded(t, solver, hat_u_m, C0):\n",
    "    \"\"\"判断时刻t是否被遮蔽\"\"\"\n",
    "    d = compute_shielding_distance(t, solver, hat_u_m, C0)\n",
    "    return d <= solver.R\n",
    "\n",
    "print(\"✅ 遮蔽判定函数定义完成\")\n"
   ],
   "outputs": [
    {
     "name": "stdout",
     "output_type": "stream",
     "text": [
      "✅ 遮蔽判定函数定义完成\n"
     ]
    }
   ],
   "execution_count": 24
  },
  {
   "cell_type": "markdown",
   "id": "c4a3a66473325fa8",
   "metadata": {},
   "source": [
    "## 4. 数值求解遮蔽时长\n"
   ]
  },
  {
   "cell_type": "code",
   "id": "98ea96e1593f4612",
   "metadata": {
    "ExecuteTime": {
     "end_time": "2025-09-05T20:32:28.303149Z",
     "start_time": "2025-09-05T20:32:28.226292Z"
    }
   },
   "source": [
    "def solve_shielding_duration(solver, hat_u_m, C0, dt=0.01):\n",
    "    \"\"\"数值求解遮蔽时长\"\"\"\n",
    "    \n",
    "    # 时间采样\n",
    "    t_start = solver.t_e\n",
    "    t_end = solver.t_e + solver.smoke_duration\n",
    "    times = np.arange(t_start, t_end + dt, dt)\n",
    "    \n",
    "    # 计算每个时刻的距离和遮蔽状态\n",
    "    distances = []\n",
    "    shielded_flags = []\n",
    "    \n",
    "    for t in times:\n",
    "        d = compute_shielding_distance(t, solver, hat_u_m, C0)\n",
    "        distances.append(d)\n",
    "        shielded_flags.append(d <= solver.R)\n",
    "    \n",
    "    distances = np.array(distances)\n",
    "    shielded_flags = np.array(shielded_flags)\n",
    "    \n",
    "    # 计算遮蔽时长\n",
    "    shielded_count = np.sum(shielded_flags)\n",
    "    total_shielding_time = shielded_count * dt\n",
    "    \n",
    "    # 找到遮蔽区间\n",
    "    shielded_intervals = []\n",
    "    in_interval = False\n",
    "    interval_start = None\n",
    "    \n",
    "    for i, (t, shielded) in enumerate(zip(times, shielded_flags)):\n",
    "        if shielded and not in_interval:\n",
    "            # 开始遮蔽\n",
    "            interval_start = t\n",
    "            in_interval = True\n",
    "        elif not shielded and in_interval:\n",
    "            # 结束遮蔽\n",
    "            shielded_intervals.append((interval_start, times[i-1]))\n",
    "            in_interval = False\n",
    "    \n",
    "    # 处理最后一个区间\n",
    "    if in_interval:\n",
    "        shielded_intervals.append((interval_start, times[-1]))\n",
    "    \n",
    "    print(f\"🎯 遮蔽分析结果:\")\n",
    "    print(f\"   时间步长: {dt}s\")\n",
    "    print(f\"   分析时间范围: {t_start:.1f}s - {t_end:.1f}s\")\n",
    "    print(f\"   总遮蔽时长: {total_shielding_time:.3f}s\")\n",
    "    print(f\"   遮蔽区间数量: {len(shielded_intervals)}\")\n",
    "    \n",
    "    for i, (start, end) in enumerate(shielded_intervals):\n",
    "        print(f\"   区间{i+1}: {start:.3f}s - {end:.3f}s (时长: {end-start:.3f}s)\")\n",
    "    \n",
    "    return {\n",
    "        'times': times,\n",
    "        'distances': distances,\n",
    "        'shielded_flags': shielded_flags,\n",
    "        'total_shielding_time': total_shielding_time,\n",
    "        'shielded_intervals': shielded_intervals,\n",
    "        'dt': dt\n",
    "    }\n",
    "\n",
    "# 求解遮蔽时长\n",
    "result = solve_shielding_duration(solver, hat_u_m, C0)\n"
   ],
   "outputs": [
    {
     "name": "stdout",
     "output_type": "stream",
     "text": [
      "🎯 遮蔽分析结果:\n",
      "   时间步长: 0.01s\n",
      "   分析时间范围: 5.1s - 25.1s\n",
      "   总遮蔽时长: 0.000s\n",
      "   遮蔽区间数量: 0\n"
     ]
    }
   ],
   "execution_count": 25
  },
  {
   "cell_type": "markdown",
   "id": "7712b2b463fdcdbd",
   "metadata": {
    "ExecuteTime": {
     "end_time": "2025-09-05T19:39:03.649256Z",
     "start_time": "2025-09-05T19:39:03.644937Z"
    }
   },
   "source": [
    "## 5. 3D轨迹可视化\n"
   ]
  },
  {
   "cell_type": "code",
   "id": "33a9656dd9b527ea",
   "metadata": {
    "ExecuteTime": {
     "end_time": "2025-09-05T20:32:28.435397Z",
     "start_time": "2025-09-05T20:32:28.314397Z"
    }
   },
   "source": [
    "def create_3d_trajectory_plot(solver, hat_u_m, hat_u_u, S0, C0, result):\n",
    "    \"\"\"创建3D轨迹可视化\"\"\"\n",
    "    \n",
    "    fig = go.Figure()\n",
    "    \n",
    "    # 时间范围\n",
    "    t_max = 30.0\n",
    "    t_trajectory = np.linspace(0, t_max, 200)\n",
    "    \n",
    "    # 导弹轨迹\n",
    "    missile_trajectory = np.array([solver.M0 + solver.v_m * hat_u_m * t for t in t_trajectory])\n",
    "    fig.add_trace(go.Scatter3d(\n",
    "        x=missile_trajectory[:, 0],\n",
    "        y=missile_trajectory[:, 1],\n",
    "        z=missile_trajectory[:, 2],\n",
    "        mode='lines',\n",
    "        line=dict(color='red', width=6),\n",
    "        name='导弹M1轨迹',\n",
    "        hovertemplate='<b>导弹M1</b><br>坐标: (%{x:.0f}, %{y:.0f}, %{z:.0f})<extra></extra>'\n",
    "    ))\n",
    "    \n",
    "    # 无人机轨迹（到投放点）\n",
    "    t_drone = np.linspace(0, solver.t_r, 50)\n",
    "    drone_trajectory = np.array([solver.U0 + solver.v_u * hat_u_u * t for t in t_drone])\n",
    "    fig.add_trace(go.Scatter3d(\n",
    "        x=drone_trajectory[:, 0],\n",
    "        y=drone_trajectory[:, 1],\n",
    "        z=drone_trajectory[:, 2],\n",
    "        mode='lines',\n",
    "        line=dict(color='blue', width=6),\n",
    "        name='无人机FY1轨迹',\n",
    "        hovertemplate='<b>无人机FY1</b><br>坐标: (%{x:.0f}, %{y:.0f}, %{z:.0f})<extra></extra>'\n",
    "    ))\n",
    "    \n",
    "    # 烟幕弹轨迹（投放到起爆）\n",
    "    t_smoke = np.linspace(solver.t_r, solver.t_e, 50)\n",
    "    smoke_trajectory = []\n",
    "    for t in t_smoke:\n",
    "        pos = S0 + solver.v_u * hat_u_u * (t - solver.t_r) + 0.5 * np.array([0, 0, -solver.g]) * (t - solver.t_r)**2\n",
    "        smoke_trajectory.append(pos)\n",
    "    smoke_trajectory = np.array(smoke_trajectory)\n",
    "    \n",
    "    fig.add_trace(go.Scatter3d(\n",
    "        x=smoke_trajectory[:, 0],\n",
    "        y=smoke_trajectory[:, 1],\n",
    "        z=smoke_trajectory[:, 2],\n",
    "        mode='lines',\n",
    "        line=dict(color='orange', width=4, dash='dash'),\n",
    "        name='烟幕弹轨迹',\n",
    "        hovertemplate='<b>烟幕弹</b><br>坐标: (%{x:.0f}, %{y:.0f}, %{z:.0f})<extra></extra>'\n",
    "    ))\n",
    "    \n",
    "    # 云团轨迹（起爆后下沉）\n",
    "    t_cloud = np.linspace(solver.t_e, solver.t_e + solver.smoke_duration, 100)\n",
    "    cloud_trajectory = np.array([C0 + np.array([0, 0, -solver.v_sink]) * (t - solver.t_e) for t in t_cloud])\n",
    "    fig.add_trace(go.Scatter3d(\n",
    "        x=cloud_trajectory[:, 0],\n",
    "        y=cloud_trajectory[:, 1],\n",
    "        z=cloud_trajectory[:, 2],\n",
    "        mode='lines',\n",
    "        line=dict(color='gray', width=8),\n",
    "        name='云团中心轨迹',\n",
    "        hovertemplate='<b>云团中心</b><br>坐标: (%{x:.0f}, %{y:.0f}, %{z:.0f})<extra></extra>'\n",
    "    ))\n",
    "    \n",
    "    # 关键点标记\n",
    "    # 初始位置\n",
    "    fig.add_trace(go.Scatter3d(\n",
    "        x=[solver.M0[0]], y=[solver.M0[1]], z=[solver.M0[2]],\n",
    "        mode='markers',\n",
    "        marker=dict(size=12, color='red', symbol='diamond'),\n",
    "        name='M1初始位置',\n",
    "        hovertemplate='<b>M1初始位置</b><br>坐标: (%{x:.0f}, %{y:.0f}, %{z:.0f})<extra></extra>'\n",
    "    ))\n",
    "    \n",
    "    fig.add_trace(go.Scatter3d(\n",
    "        x=[solver.U0[0]], y=[solver.U0[1]], z=[solver.U0[2]],\n",
    "        mode='markers',\n",
    "        marker=dict(size=10, color='blue', symbol='circle'),\n",
    "        name='FY1初始位置',\n",
    "        hovertemplate='<b>FY1初始位置</b><br>坐标: (%{x:.0f}, %{y:.0f}, %{z:.0f})<extra></extra>'\n",
    "    ))\n",
    "    \n",
    "    # 投放点\n",
    "    fig.add_trace(go.Scatter3d(\n",
    "        x=[S0[0]], y=[S0[1]], z=[S0[2]],\n",
    "        mode='markers',\n",
    "        marker=dict(size=8, color='orange', symbol='square'),\n",
    "        name='投放点',\n",
    "        hovertemplate='<b>投放点</b><br>坐标: (%{x:.0f}, %{y:.0f}, %{z:.0f})<extra></extra>'\n",
    "    ))\n",
    "    \n",
    "    # 起爆点\n",
    "    fig.add_trace(go.Scatter3d(\n",
    "        x=[C0[0]], y=[C0[1]], z=[C0[2]],\n",
    "        mode='markers',\n",
    "        marker=dict(size=10, color='purple', symbol='diamond-open'),\n",
    "        name='起爆点',\n",
    "        hovertemplate='<b>起爆点</b><br>坐标: (%{x:.0f}, %{y:.0f}, %{z:.0f})<extra></extra>'\n",
    "    ))\n",
    "    \n",
    "    # 真目标\n",
    "    fig.add_trace(go.Scatter3d(\n",
    "        x=[solver.T[0]], y=[solver.T[1]], z=[solver.T[2]],\n",
    "        mode='markers',\n",
    "        marker=dict(size=15, color='green', symbol='cross'),\n",
    "        name='真目标',\n",
    "        hovertemplate='<b>真目标</b><br>坐标: (%{x:.0f}, %{y:.0f}, %{z:.0f})<extra></extra>'\n",
    "    ))\n",
    "    \n",
    "    # 假目标（原点）\n",
    "    fig.add_trace(go.Scatter3d(\n",
    "        x=[0], y=[0], z=[0],\n",
    "        mode='markers',\n",
    "        marker=dict(size=12, color='black', symbol='x'),\n",
    "        name='假目标',\n",
    "        hovertemplate='<b>假目标</b><br>坐标: (0, 0, 0)<extra></extra>'\n",
    "    ))\n",
    "    \n",
    "    # 设置布局\n",
    "    fig.update_layout(\n",
    "        title=dict(\n",
    "            text='🚀 问题1：3D轨迹可视化<br><sub>单弹固定参数分析</sub>',\n",
    "            x=0.5,\n",
    "            font=dict(size=20, color='darkblue')\n",
    "        ),\n",
    "        scene=dict(\n",
    "            xaxis_title='X坐标 (m)',\n",
    "            yaxis_title='Y坐标 (m)',\n",
    "            zaxis_title='Z坐标 (m)',\n",
    "            camera=dict(\n",
    "                eye=dict(x=1.5, y=1.5, z=1.2)\n",
    "            ),\n",
    "            aspectmode='manual',\n",
    "            aspectratio=dict(x=2, y=1, z=0.5)\n",
    "        ),\n",
    "        width=1200,\n",
    "        height=800,\n",
    "        showlegend=True,\n",
    "        legend=dict(\n",
    "            yanchor=\"top\",\n",
    "            y=0.99,\n",
    "            xanchor=\"left\",\n",
    "            x=0.01\n",
    "        )\n",
    "    )\n",
    "    \n",
    "    return fig\n",
    "\n",
    "# 创建3D轨迹图\n",
    "fig_3d = create_3d_trajectory_plot(solver, hat_u_m, hat_u_u, S0, C0, result)\n",
    "fig_3d.show()\n",
    "\n",
    "# 保存图像\n",
    "fig_3d.write_html(f\"{output_dir}/01_3d_trajectory.html\")\n",
    "# fig_3d.write_image(f\"{output_dir}/01_3d_trajectory.svg\")\n",
    "print(f\"💾 3D轨迹图已保存到 {output_dir}/01_3d_trajectory.html\")"
   ],
   "outputs": [
    {
     "data": {
      "application/vnd.plotly.v1+json": {
       "data": [
        {
         "hovertemplate": "<b>导弹M1</b><br>坐标: (%{x:.0f}, %{y:.0f}, %{z:.0f})<extra></extra>",
         "line": {
          "color": "red",
          "width": 6
         },
         "mode": "lines",
         "name": "导弹M1轨迹",
         "x": {
          "dtype": "f8",
          "bdata": "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"
         },
         "y": {
          "dtype": "f8",
          "bdata": "AAAAAAAAAAAAAAAAAAAAAAAAAAAAAAAAAAAAAAAAAAAAAAAAAAAAAAAAAAAAAAAAAAAAAAAAAAAAAAAAAAAAAAAAAAAAAAAAAAAAAAAAAAAAAAAAAAAAAAAAAAAAAAAAAAAAAAAAAAAAAAAAAAAAAAAAAAAAAAAAAAAAAAAAAAAAAAAAAAAAAAAAAAAAAAAAAAAAAAAAAAAAAAAAAAAAAAAAAAAAAAAAAAAAAAAAAAAAAAAAAAAAAAAAAAAAAAAAAAAAAAAAAAAAAAAAAAAAAAAAAAAAAAAAAAAAAAAAAAAAAAAAAAAAAAAAAAAAAAAAAAAAAAAAAAAAAAAAAAAAAAAAAAAAAAAAAAAAAAAAAAAAAAAAAAAAAAAAAAAAAAAAAAAAAAAAAAAAAAAAAAAAAAAAAAAAAAAAAAAAAAAAAAAAAAAAAAAAAAAAAAAAAAAAAAAAAAAAAAAAAAAAAAAAAAAAAAAAAAAAAAAAAAAAAAAAAAAAAAAAAAAAAAAAAAAAAAAAAAAAAAAAAAAAAAAAAAAAAAAAAAAAAAAAAAAAAAAAAAAAAAAAAAAAAAAAAAAAAAAAAAAAAAAAAAAAAAAAAAAAAAAAAAAAAAAAAAAAAAAAAAAAAAAAAAAAAAAAAAAAAAAAAAAAAAAAAAAAAAAAAAAAAAAAAAAAAAAAAAAAAAAAAAAAAAAAAAAAAAAAAAAAAAAAAAAAAAAAAAAAAAAAAAAAAAAAAAAAAAAAAAAAAAAAAAAAAAAAAAAAAAAAAAAAAAAAAAAAAAAAAAAAAAAAAAAAAAAAAAAAAAAAAAAAAAAAAAAAAAAAAAAAAAAAAAAAAAAAAAAAAAAAAAAAAAAAAAAAAAAAAAAAAAAAAAAAAAAAAAAAAAAAAAAAAAAAAAAAAAAAAAAAAAAAAAAAAAAAAAAAAAAAAAAAAAAAAAAAAAAAAAAAAAAAAAAAAAAAAAAAAAAAAAAAAAAAAAAAAAAAAAAAAAAAAAAAAAAAAAAAAAAAAAAAAAAAAAAAAAAAAAAAAAAAAAAAAAAAAAAAAAAAAAAAAAAAAAAAAAAAAAAAAAAAAAAAAAAAAAAAAAAAAAAAAAAAAAAAAAAAAAAAAAAAAAAAAAAAAAAAAAAAAAAAAAAAAAAAAAAAAAAAAAAAAAAAAAAAAAAAAAAAAAAAAAAAAAAAAAAAAAAAAAAAAAAAAAAAAAAAAAAAAAAAAAAAAAAAAAAAAAAAAAAAAAAAAAAAAAAAAAAAAAAAAAAAAAAAAAAAAAAAAAAAAAAAAAAAAAAAAAAAAAAAAAAAAAAAAAAAAAAAAAAAAAAAAAAAAAAAAAAAAAAAAAAAAAAAAAAAAAAAAAAAAAAAAAAAAAAAAAAAAAAAAAAAAAAAAAAAAAAAAAAAAAAAAAAAAAAAAAAAAAAAAAAAAAAAAAAAAAAAAAAAAAAAAAAAAAAAAAAAAAAAAAAAAAAAAAAAAAAAAAAAAAAAAAAAAAAAAAAAAAAAAAAAAAAAAAAAAAAAAAAAAAAAAAAAAAAAAAAAAAAAAAAAAAAAAAAAAAAAAAAAAAAAAAAAAAAAAAAAAAAAAAAAAAAAAAAAAAAAAAAAAAAAAAAAAAAAAAAAAAAAAAAAAAAAAAAAAAAAAAAAAAAAAAAAAAAAAAAAAAAAAAAAAAAAAAAAAAAAAAAAAAAAAAAAAAAAAAAAAAAAAAAAAAAAAAAAAAAAAAAAAAAAAAAAAAAAAAAAAAAAAAAAAAAAAAAAAAAAAAAAAAAAAAAAAAAAAAAAAAAAAAAAAAAAAAAAAAAAAAAAAAAAAAAAAAAAAAAAAAAAAAAAAAAAAAAAAAAAAAAAAAAAAAAAAAAAAAAAAAAAAAAAAAAAAAAAAAAAAAAAAAAAAAAAAAAAAAAAAAAAAAAAAAAAAAAAAAAAAAAAAAAAAAAAAAAAAAAAAAAAAAAAAAAAAAAAAAAAAAAAAAAAAAAAAAAAAAAAAAAAAAAAAAAAAAAAAAAAAAAAAAAAAAAAAAAAAAAAAAAAAAAAAAAAAAAAAAAAAAAAAAAAAAAAAAAAAAAAAAAAAAAAAAAAAAAAAAAAAAAAAAAAAAAAAAAAAAAAAAAAAAAAAAAAAAAAAAAAAAAAAAAAAAAAAAAAAAAAAAAAAAAAAA=="
         },
         "z": {
          "dtype": "f8",
          "bdata": "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"
         },
         "type": "scatter3d"
        },
        {
         "hovertemplate": "<b>无人机FY1</b><br>坐标: (%{x:.0f}, %{y:.0f}, %{z:.0f})<extra></extra>",
         "line": {
          "color": "blue",
          "width": 6
         },
         "mode": "lines",
         "name": "无人机FY1轨迹",
         "x": {
          "dtype": "f8",
          "bdata": "AAAAAABi0UApuEQXFmHRQFJwiS4sYNFAeyjORUJf0UCk4BJdWF7RQM2YV3RuXdFA9lCci4Rc0UAeCeGimlvRQEfBJbqwWtFAcHlq0cZZ0UCZMa/o3FjRQMLp8//yV9FA66E4FwlX0UAUWn0uH1bRQD0SwkU1VdFAZsoGXUtU0UCPgkt0YVPRQLg6kIt3UtFA4fLUoo1R0UAJqxm6o1DRQDJjXtG5T9FAWxuj6M9O0UCE0+f/5U3RQK2LLBf8TNFA1kNxLhJM0UD/+7VFKEvRQCi0+lw+StFAUWw/dFRJ0UB6JISLakjRQKPcyKKAR9FAzJQNupZG0UD0TFLRrEXRQB0Fl+jCRNFARr3b/9hD0UBvdSAX70LRQJgtZS4FQtFAweWpRRtB0UDqne5cMUDRQBNWM3RHP9FAPA54i10+0UBlxryicz3RQI5+AbqJPNFAtzZG0Z870UDf7orotTrRQAinz//LOdFAMV8UF+I40UBaF1ku+DfRQIPPnUUON9FArIfiXCQ20UDVPyd0OjXRQA=="
         },
         "y": {
          "dtype": "f8",
          "bdata": "AAAAAAAAAAAAAAAAAAAAAAAAAAAAAAAAAAAAAAAAAAAAAAAAAAAAAAAAAAAAAAAAAAAAAAAAAAAAAAAAAAAAAAAAAAAAAAAAAAAAAAAAAAAAAAAAAAAAAAAAAAAAAAAAAAAAAAAAAAAAAAAAAAAAAAAAAAAAAAAAAAAAAAAAAAAAAAAAAAAAAAAAAAAAAAAAAAAAAAAAAAAAAAAAAAAAAAAAAAAAAAAAAAAAAAAAAAAAAAAAAAAAAAAAAAAAAAAAAAAAAAAAAAAAAAAAAAAAAAAAAAAAAAAAAAAAAAAAAAAAAAAAAAAAAAAAAAAAAAAAAAAAAAAAAAAAAAAAAAAAAAAAAAAAAAAAAAAAAAAAAAAAAAAAAAAAAAAAAAAAAAAAAAAAAAAAAAAAAAAAAAAAAAAAAAAAAAAAAAAAAAAAAAAAAAAAAAAAAAAAAAAAAAAAAAAAAAAAAAAAAAAAAAAAAAAAAAAAAAAAAAAAAAAAAAAAAAAAAAAAAAAAAAAAAAAAAAAAAAAAAAAAAAAAAAAAAA=="
         },
         "z": {
          "dtype": "f8",
          "bdata": "AAAAAAAgnEAgbFKKhR6cQD/YpBQLHZxAX0T3npAbnEB/sEkpFhqcQJ4cnLObGJxAvojuPSEXnEDe9EDIphWcQP1gk1IsFJxAHc3l3LESnEA9OThnNxGcQF2livG8D5xAfBHde0IOnECcfS8GyAycQLzpgZBNC5xA21XUGtMJnED7wSalWAicQBsueS/eBpxAOprLuWMFnEBaBh5E6QOcQHpycM5uApxAmd7CWPQAnEC5ShXjef+bQNm2Z23//ZtA+CK694T8m0AYjwyCCvubQDj7XgyQ+ZtAWGexlhX4m0B30wMhm/abQJc/Vqsg9ZtAt6uoNabzm0DWF/u/K/KbQPaDTUqx8JtAFvCf1Dbvm0A1XPJevO2bQFXIROlB7JtAdTSXc8fqm0CUoOn9TOmbQLQMPIjS55tA1HiOEljmm0Dz5OCc3eSbQBNRMydj45tAM72Fsejhm0BTKdg7buCbQHKVKsbz3ptAkgF9UHndm0Cybc/a/tubQNHZIWWE2ptA8UV07wnZm0ARssZ5j9ebQA=="
         },
         "type": "scatter3d"
        },
        {
         "hovertemplate": "<b>烟幕弹</b><br>坐标: (%{x:.0f}, %{y:.0f}, %{z:.0f})<extra></extra>",
         "line": {
          "color": "orange",
          "dash": "dash",
          "width": 4
         },
         "mode": "lines",
         "name": "烟幕弹轨迹",
         "x": {
          "dtype": "f8",
          "bdata": "1T8ndDo10UCexmUSCTPRQGZNpLDXMNFAL9TiTqYu0UD3WiHtdCzRQMDhX4tDKtFAiWieKRIo0UBR79zH4CXRQBp2G2avI9FA4vxZBH4h0UCrg5iiTB/RQHQK10AbHdFAPJEV3+ka0UAFGFR9uBjRQM2ekhuHFtFAliXRuVUU0UBfrA9YJBLRQCczTvbyD9FA8LmMlMEN0UC4QMsykAvRQIHHCdFeCdFASk5Iby0H0UAS1YYN/ATRQNtbxavKAtFAo+IDSpkA0UBsaULoZ/7QQDXwgIY2/NBA/Xa/JAX60EDG/f3C0/fQQI6EPGGi9dBAVwt7/3Dz0EAgkrmdP/HQQOgY+DsO79BAsZ822tzs0EB5JnV4q+rQQEKtsxZ66NBACzTytEjm0EDTujBTF+TQQJxBb/Hl4dBAZMitj7Tf0EAtT+wtg93QQPbVKsxR29BAvlxpaiDZ0ECH46cI79bQQFBq5qa91NBAGPEkRYzS0EDhd2PjWtDQQKn+oYEpztBAcoXgH/jL0EA7DB++xsnQQA=="
         },
         "y": {
          "dtype": "f8",
          "bdata": "AAAAAAAAAAAAAAAAAAAAAAAAAAAAAAAAAAAAAAAAAAAAAAAAAAAAAAAAAAAAAAAAAAAAAAAAAAAAAAAAAAAAAAAAAAAAAAAAAAAAAAAAAAAAAAAAAAAAAAAAAAAAAAAAAAAAAAAAAAAAAAAAAAAAAAAAAAAAAAAAAAAAAAAAAAAAAAAAAAAAAAAAAAAAAAAAAAAAAAAAAAAAAAAAAAAAAAAAAAAAAAAAAAAAAAAAAAAAAAAAAAAAAAAAAAAAAAAAAAAAAAAAAAAAAAAAAAAAAAAAAAAAAAAAAAAAAAAAAAAAAAAAAAAAAAAAAAAAAAAAAAAAAAAAAAAAAAAAAAAAAAAAAAAAAAAAAAAAAAAAAAAAAAAAAAAAAAAAAAAAAAAAAAAAAAAAAAAAAAAAAAAAAAAAAAAAAAAAAAAAAAAAAAAAAAAAAAAAAAAAAAAAAAAAAAAAAAAAAAAAAAAAAAAAAAAAAAAAAAAAAAAAAAAAAAAAAAAAAAAAAAAAAAAAAAAAAAAAAAAAAAAAAAAAAAAAAA=="
         },
         "z": {
          "dtype": "f8",
          "bdata": "EbLGeY/Xm0CHIrUW6NObQBugwYgK0JtA0Srsz/bLm0CmwjTsrMebQJpnm90sw5tArhkgpHa+m0Di2MI/irmbQDWlg7BntJtAqX5i9g6vm0A7ZV8RgKmbQO5YegG7o5tAwVmzxr+dm0CzZwphjpebQMWCf9AmkZtA96oSFYmKm0BI4MMutYObQLkikx2rfJtASnKA4Wp1m0D6zot69G2bQMs4tehHZptAu6/8K2Vem0DKM2JETFabQPrE5TH9TZtASWOH9HdFm0C3DkeMvDybQEbHJPnKM5tA9YwgO6Mqm0DCXzpSRSGbQLE/cj6xF5tAvSzI/+YNm0DrJjyW5gObQDguzgGw+ZpApEJ+QkPvmkAxZExYoOSaQN2SOEPH2ZpAqc5CA7jOmkCUF2uYcsOaQKBtsQL3t5pAytAVQkWsmkAWQZhWXaCaQIC+OEA/lJpACkn3/uqHmkC04NOSYHuaQH6FzvufbppAZzfnOalhmkBw9h1NfFSaQJjCcjUZR5pA4Zvl8n85mkBKgnaFsCuaQA=="
         },
         "type": "scatter3d"
        },
        {
         "hovertemplate": "<b>云团中心</b><br>坐标: (%{x:.0f}, %{y:.0f}, %{z:.0f})<extra></extra>",
         "line": {
          "color": "gray",
          "width": 8
         },
         "mode": "lines",
         "name": "云团中心轨迹",
         "x": {
          "dtype": "f8",
          "bdata": "OwwfvsbJ0EA7DB++xsnQQDsMH77GydBAOwwfvsbJ0EA7DB++xsnQQDsMH77GydBAOwwfvsbJ0EA7DB++xsnQQDsMH77GydBAOwwfvsbJ0EA7DB++xsnQQDsMH77GydBAOwwfvsbJ0EA7DB++xsnQQDsMH77GydBAOwwfvsbJ0EA7DB++xsnQQDsMH77GydBAOwwfvsbJ0EA7DB++xsnQQDsMH77GydBAOwwfvsbJ0EA7DB++xsnQQDsMH77GydBAOwwfvsbJ0EA7DB++xsnQQDsMH77GydBAOwwfvsbJ0EA7DB++xsnQQDsMH77GydBAOwwfvsbJ0EA7DB++xsnQQDsMH77GydBAOwwfvsbJ0EA7DB++xsnQQDsMH77GydBAOwwfvsbJ0EA7DB++xsnQQDsMH77GydBAOwwfvsbJ0EA7DB++xsnQQDsMH77GydBAOwwfvsbJ0EA7DB++xsnQQDsMH77GydBAOwwfvsbJ0EA7DB++xsnQQDsMH77GydBAOwwfvsbJ0EA7DB++xsnQQDsMH77GydBAOwwfvsbJ0EA7DB++xsnQQDsMH77GydBAOwwfvsbJ0EA7DB++xsnQQDsMH77GydBAOwwfvsbJ0EA7DB++xsnQQDsMH77GydBAOwwfvsbJ0EA7DB++xsnQQDsMH77GydBAOwwfvsbJ0EA7DB++xsnQQDsMH77GydBAOwwfvsbJ0EA7DB++xsnQQDsMH77GydBAOwwfvsbJ0EA7DB++xsnQQDsMH77GydBAOwwfvsbJ0EA7DB++xsnQQDsMH77GydBAOwwfvsbJ0EA7DB++xsnQQDsMH77GydBAOwwfvsbJ0EA7DB++xsnQQDsMH77GydBAOwwfvsbJ0EA7DB++xsnQQDsMH77GydBAOwwfvsbJ0EA7DB++xsnQQDsMH77GydBAOwwfvsbJ0EA7DB++xsnQQDsMH77GydBAOwwfvsbJ0EA7DB++xsnQQDsMH77GydBAOwwfvsbJ0EA7DB++xsnQQDsMH77GydBAOwwfvsbJ0EA7DB++xsnQQDsMH77GydBAOwwfvsbJ0EA="
         },
         "y": {
          "dtype": "f8",
          "bdata": "AAAAAAAAAAAAAAAAAAAAAAAAAAAAAAAAAAAAAAAAAAAAAAAAAAAAAAAAAAAAAAAAAAAAAAAAAAAAAAAAAAAAAAAAAAAAAAAAAAAAAAAAAAAAAAAAAAAAAAAAAAAAAAAAAAAAAAAAAAAAAAAAAAAAAAAAAAAAAAAAAAAAAAAAAAAAAAAAAAAAAAAAAAAAAAAAAAAAAAAAAAAAAAAAAAAAAAAAAAAAAAAAAAAAAAAAAAAAAAAAAAAAAAAAAAAAAAAAAAAAAAAAAAAAAAAAAAAAAAAAAAAAAAAAAAAAAAAAAAAAAAAAAAAAAAAAAAAAAAAAAAAAAAAAAAAAAAAAAAAAAAAAAAAAAAAAAAAAAAAAAAAAAAAAAAAAAAAAAAAAAAAAAAAAAAAAAAAAAAAAAAAAAAAAAAAAAAAAAAAAAAAAAAAAAAAAAAAAAAAAAAAAAAAAAAAAAAAAAAAAAAAAAAAAAAAAAAAAAAAAAAAAAAAAAAAAAAAAAAAAAAAAAAAAAAAAAAAAAAAAAAAAAAAAAAAAAAAAAAAAAAAAAAAAAAAAAAAAAAAAAAAAAAAAAAAAAAAAAAAAAAAAAAAAAAAAAAAAAAAAAAAAAAAAAAAAAAAAAAAAAAAAAAAAAAAAAAAAAAAAAAAAAAAAAAAAAAAAAAAAAAAAAAAAAAAAAAAAAAAAAAAAAAAAAAAAAAAAAAAAAAAAAAAAAAAAAAAAAAAAAAAAAAAAAAAAAAAAAAAAAAAAAAAAAAAAAAAAAAAAAAAAAAAAAAAAAAAAAAAAAAAAAAAAAAAAAAAAAAAAAAAAAAAAAAAAAAAAAAAAAAAAAAAAAAAAAAAAAAAAAAAAAAAAAAAAAAAAAAAAAAAAAAAAAAAAAAAAAAAAAAAAAAAAAAAAAAAAAAAAAAAAAAAAAAAAAAAAAAAAAAAAAAAAAAAAAAAAAAAAAAAAAAAAAAAAAAAAAAAAAAAAAAAAAAAAAAAAAAAAAAAAAAAAAAAAAAAAAAAAAAAAAAAAAAAAAAAAAAAAAAAAAAAAAAAAAAAAAAAAAAAAAAAAAAAAAAAAAAAAAAAAAAA="
         },
         "z": {
          "dtype": "f8",
          "bdata": "SoJ2hbArmkCYuE/qQymaQOXuKE/XJppAMyUCtGokmkCAW9sY/iGaQM6RtH2RH5pAG8iN4iQdmkBp/mZHuBqaQLc0QKxLGJpABGsZEd8VmkBSofJ1chOaQJ/Xy9oFEZpA7Q2lP5kOmkA6RH6kLAyaQIh6VwnACZpA1rAwblMHmkAj5wnT5gSaQHEd4zd6AppAvlO8nA0AmkAMipUBof2ZQFrAbmY0+5lAp/ZHy8f4mUD1LCEwW/aZQEJj+pTu85lAkJnT+YHxmUDdz6xeFe+ZQCsGhsOo7JlAeTxfKDzqmUDGcjiNz+eZQBSpEfJi5ZlAYd/qVvbimUCvFcS7ieCZQPxLnSAd3plASoJ2hbDbmUCYuE/qQ9mZQOXuKE/X1plAMyUCtGrUmUCAW9sY/tGZQM6RtH2Rz5lAG8iN4iTNmUBp/mZHuMqZQLc0QKxLyJlABGsZEd/FmUBSofJ1csOZQJ/Xy9oFwZlA7Q2lP5m+mUA6RH6kLLyZQIh6VwnAuZlA1rAwblO3mUAj5wnT5rSZQHEd4zd6splAvlO8nA2wmUAMipUBoa2ZQFrAbmY0q5lAp/ZHy8eomUD1LCEwW6aZQEJj+pTuo5lAkJnT+YGhmUDdz6xeFZ+ZQCsGhsOonJlAeTxfKDyamUDGcjiNz5eZQBSpEfJilZlAYd/qVvaSmUCvFcS7iZCZQPxLnSAdjplASoJ2hbCLmUCYuE/qQ4mZQOXuKE/XhplAMyUCtGqEmUCAW9sY/oGZQM6RtH2Rf5lAG8iN4iR9mUBp/mZHuHqZQLc0QKxLeJlABGsZEd91mUBSofJ1cnOZQJ/Xy9oFcZlA7Q2lP5lumUA6RH6kLGyZQIh6VwnAaZlA1rAwblNnmUAj5wnT5mSZQHEd4zd6YplAvlO8nA1gmUAMipUBoV2ZQFrAbmY0W5lAp/ZHy8dYmUD1LCEwW1aZQEJj+pTuU5lAkJnT+YFRmUDdz6xeFU+ZQCsGhsOoTJlAeTxfKDxKmUDGcjiNz0eZQBSpEfJiRZlAYd/qVvZCmUCvFcS7iUCZQPxLnSAdPplASoJ2hbA7mUA="
         },
         "type": "scatter3d"
        },
        {
         "hovertemplate": "<b>M1初始位置</b><br>坐标: (%{x:.0f}, %{y:.0f}, %{z:.0f})<extra></extra>",
         "marker": {
          "color": "red",
          "size": 12,
          "symbol": "diamond"
         },
         "mode": "markers",
         "name": "M1初始位置",
         "x": [
          20000.0
         ],
         "y": [
          0.0
         ],
         "z": [
          2000.0
         ],
         "type": "scatter3d"
        },
        {
         "hovertemplate": "<b>FY1初始位置</b><br>坐标: (%{x:.0f}, %{y:.0f}, %{z:.0f})<extra></extra>",
         "marker": {
          "color": "blue",
          "size": 10,
          "symbol": "circle"
         },
         "mode": "markers",
         "name": "FY1初始位置",
         "x": [
          17800.0
         ],
         "y": [
          0.0
         ],
         "z": [
          1800.0
         ],
         "type": "scatter3d"
        },
        {
         "hovertemplate": "<b>投放点</b><br>坐标: (%{x:.0f}, %{y:.0f}, %{z:.0f})<extra></extra>",
         "marker": {
          "color": "orange",
          "size": 8,
          "symbol": "square"
         },
         "mode": "markers",
         "name": "投放点",
         "x": [
          17620.913339435898
         ],
         "y": [
          0.0
         ],
         "z": [
          1781.8901129766639
         ],
         "type": "scatter3d"
        },
        {
         "hovertemplate": "<b>起爆点</b><br>坐标: (%{x:.0f}, %{y:.0f}, %{z:.0f})<extra></extra>",
         "marker": {
          "color": "purple",
          "size": 10,
          "symbol": "diamond-open"
         },
         "mode": "markers",
         "name": "起爆点",
         "x": [
          17191.105354082054
         ],
         "y": [
          0.0
         ],
         "z": [
          1674.9223841206572
         ],
         "type": "scatter3d"
        },
        {
         "hovertemplate": "<b>真目标</b><br>坐标: (%{x:.0f}, %{y:.0f}, %{z:.0f})<extra></extra>",
         "marker": {
          "color": "green",
          "size": 15,
          "symbol": "cross"
         },
         "mode": "markers",
         "name": "真目标",
         "x": [
          0.0
         ],
         "y": [
          200.0
         ],
         "z": [
          0.0
         ],
         "type": "scatter3d"
        },
        {
         "hovertemplate": "<b>假目标</b><br>坐标: (0, 0, 0)<extra></extra>",
         "marker": {
          "color": "black",
          "size": 12,
          "symbol": "x"
         },
         "mode": "markers",
         "name": "假目标",
         "x": [
          0
         ],
         "y": [
          0
         ],
         "z": [
          0
         ],
         "type": "scatter3d"
        }
       ],
       "layout": {
        "template": {
         "data": {
          "histogram2dcontour": [
           {
            "type": "histogram2dcontour",
            "colorbar": {
             "outlinewidth": 0,
             "ticks": ""
            },
            "colorscale": [
             [
              0.0,
              "#0d0887"
             ],
             [
              0.1111111111111111,
              "#46039f"
             ],
             [
              0.2222222222222222,
              "#7201a8"
             ],
             [
              0.3333333333333333,
              "#9c179e"
             ],
             [
              0.4444444444444444,
              "#bd3786"
             ],
             [
              0.5555555555555556,
              "#d8576b"
             ],
             [
              0.6666666666666666,
              "#ed7953"
             ],
             [
              0.7777777777777778,
              "#fb9f3a"
             ],
             [
              0.8888888888888888,
              "#fdca26"
             ],
             [
              1.0,
              "#f0f921"
             ]
            ]
           }
          ],
          "choropleth": [
           {
            "type": "choropleth",
            "colorbar": {
             "outlinewidth": 0,
             "ticks": ""
            }
           }
          ],
          "histogram2d": [
           {
            "type": "histogram2d",
            "colorbar": {
             "outlinewidth": 0,
             "ticks": ""
            },
            "colorscale": [
             [
              0.0,
              "#0d0887"
             ],
             [
              0.1111111111111111,
              "#46039f"
             ],
             [
              0.2222222222222222,
              "#7201a8"
             ],
             [
              0.3333333333333333,
              "#9c179e"
             ],
             [
              0.4444444444444444,
              "#bd3786"
             ],
             [
              0.5555555555555556,
              "#d8576b"
             ],
             [
              0.6666666666666666,
              "#ed7953"
             ],
             [
              0.7777777777777778,
              "#fb9f3a"
             ],
             [
              0.8888888888888888,
              "#fdca26"
             ],
             [
              1.0,
              "#f0f921"
             ]
            ]
           }
          ],
          "heatmap": [
           {
            "type": "heatmap",
            "colorbar": {
             "outlinewidth": 0,
             "ticks": ""
            },
            "colorscale": [
             [
              0.0,
              "#0d0887"
             ],
             [
              0.1111111111111111,
              "#46039f"
             ],
             [
              0.2222222222222222,
              "#7201a8"
             ],
             [
              0.3333333333333333,
              "#9c179e"
             ],
             [
              0.4444444444444444,
              "#bd3786"
             ],
             [
              0.5555555555555556,
              "#d8576b"
             ],
             [
              0.6666666666666666,
              "#ed7953"
             ],
             [
              0.7777777777777778,
              "#fb9f3a"
             ],
             [
              0.8888888888888888,
              "#fdca26"
             ],
             [
              1.0,
              "#f0f921"
             ]
            ]
           }
          ],
          "contourcarpet": [
           {
            "type": "contourcarpet",
            "colorbar": {
             "outlinewidth": 0,
             "ticks": ""
            }
           }
          ],
          "contour": [
           {
            "type": "contour",
            "colorbar": {
             "outlinewidth": 0,
             "ticks": ""
            },
            "colorscale": [
             [
              0.0,
              "#0d0887"
             ],
             [
              0.1111111111111111,
              "#46039f"
             ],
             [
              0.2222222222222222,
              "#7201a8"
             ],
             [
              0.3333333333333333,
              "#9c179e"
             ],
             [
              0.4444444444444444,
              "#bd3786"
             ],
             [
              0.5555555555555556,
              "#d8576b"
             ],
             [
              0.6666666666666666,
              "#ed7953"
             ],
             [
              0.7777777777777778,
              "#fb9f3a"
             ],
             [
              0.8888888888888888,
              "#fdca26"
             ],
             [
              1.0,
              "#f0f921"
             ]
            ]
           }
          ],
          "surface": [
           {
            "type": "surface",
            "colorbar": {
             "outlinewidth": 0,
             "ticks": ""
            },
            "colorscale": [
             [
              0.0,
              "#0d0887"
             ],
             [
              0.1111111111111111,
              "#46039f"
             ],
             [
              0.2222222222222222,
              "#7201a8"
             ],
             [
              0.3333333333333333,
              "#9c179e"
             ],
             [
              0.4444444444444444,
              "#bd3786"
             ],
             [
              0.5555555555555556,
              "#d8576b"
             ],
             [
              0.6666666666666666,
              "#ed7953"
             ],
             [
              0.7777777777777778,
              "#fb9f3a"
             ],
             [
              0.8888888888888888,
              "#fdca26"
             ],
             [
              1.0,
              "#f0f921"
             ]
            ]
           }
          ],
          "mesh3d": [
           {
            "type": "mesh3d",
            "colorbar": {
             "outlinewidth": 0,
             "ticks": ""
            }
           }
          ],
          "scatter": [
           {
            "marker": {
             "line": {
              "color": "#283442"
             }
            },
            "type": "scatter"
           }
          ],
          "parcoords": [
           {
            "type": "parcoords",
            "line": {
             "colorbar": {
              "outlinewidth": 0,
              "ticks": ""
             }
            }
           }
          ],
          "scatterpolargl": [
           {
            "type": "scatterpolargl",
            "marker": {
             "colorbar": {
              "outlinewidth": 0,
              "ticks": ""
             }
            }
           }
          ],
          "bar": [
           {
            "error_x": {
             "color": "#f2f5fa"
            },
            "error_y": {
             "color": "#f2f5fa"
            },
            "marker": {
             "line": {
              "color": "rgb(17,17,17)",
              "width": 0.5
             },
             "pattern": {
              "fillmode": "overlay",
              "size": 10,
              "solidity": 0.2
             }
            },
            "type": "bar"
           }
          ],
          "scattergeo": [
           {
            "type": "scattergeo",
            "marker": {
             "colorbar": {
              "outlinewidth": 0,
              "ticks": ""
             }
            }
           }
          ],
          "scatterpolar": [
           {
            "type": "scatterpolar",
            "marker": {
             "colorbar": {
              "outlinewidth": 0,
              "ticks": ""
             }
            }
           }
          ],
          "histogram": [
           {
            "marker": {
             "pattern": {
              "fillmode": "overlay",
              "size": 10,
              "solidity": 0.2
             }
            },
            "type": "histogram"
           }
          ],
          "scattergl": [
           {
            "marker": {
             "line": {
              "color": "#283442"
             }
            },
            "type": "scattergl"
           }
          ],
          "scatter3d": [
           {
            "type": "scatter3d",
            "line": {
             "colorbar": {
              "outlinewidth": 0,
              "ticks": ""
             }
            },
            "marker": {
             "colorbar": {
              "outlinewidth": 0,
              "ticks": ""
             }
            }
           }
          ],
          "scattermap": [
           {
            "type": "scattermap",
            "marker": {
             "colorbar": {
              "outlinewidth": 0,
              "ticks": ""
             }
            }
           }
          ],
          "scattermapbox": [
           {
            "type": "scattermapbox",
            "marker": {
             "colorbar": {
              "outlinewidth": 0,
              "ticks": ""
             }
            }
           }
          ],
          "scatterternary": [
           {
            "type": "scatterternary",
            "marker": {
             "colorbar": {
              "outlinewidth": 0,
              "ticks": ""
             }
            }
           }
          ],
          "scattercarpet": [
           {
            "type": "scattercarpet",
            "marker": {
             "colorbar": {
              "outlinewidth": 0,
              "ticks": ""
             }
            }
           }
          ],
          "carpet": [
           {
            "aaxis": {
             "endlinecolor": "#A2B1C6",
             "gridcolor": "#506784",
             "linecolor": "#506784",
             "minorgridcolor": "#506784",
             "startlinecolor": "#A2B1C6"
            },
            "baxis": {
             "endlinecolor": "#A2B1C6",
             "gridcolor": "#506784",
             "linecolor": "#506784",
             "minorgridcolor": "#506784",
             "startlinecolor": "#A2B1C6"
            },
            "type": "carpet"
           }
          ],
          "table": [
           {
            "cells": {
             "fill": {
              "color": "#506784"
             },
             "line": {
              "color": "rgb(17,17,17)"
             }
            },
            "header": {
             "fill": {
              "color": "#2a3f5f"
             },
             "line": {
              "color": "rgb(17,17,17)"
             }
            },
            "type": "table"
           }
          ],
          "barpolar": [
           {
            "marker": {
             "line": {
              "color": "rgb(17,17,17)",
              "width": 0.5
             },
             "pattern": {
              "fillmode": "overlay",
              "size": 10,
              "solidity": 0.2
             }
            },
            "type": "barpolar"
           }
          ],
          "pie": [
           {
            "automargin": true,
            "type": "pie"
           }
          ]
         },
         "layout": {
          "autotypenumbers": "strict",
          "colorway": [
           "#636efa",
           "#EF553B",
           "#00cc96",
           "#ab63fa",
           "#FFA15A",
           "#19d3f3",
           "#FF6692",
           "#B6E880",
           "#FF97FF",
           "#FECB52"
          ],
          "font": {
           "color": "#f2f5fa"
          },
          "hovermode": "closest",
          "hoverlabel": {
           "align": "left"
          },
          "paper_bgcolor": "rgb(17,17,17)",
          "plot_bgcolor": "rgb(17,17,17)",
          "polar": {
           "bgcolor": "rgb(17,17,17)",
           "angularaxis": {
            "gridcolor": "#506784",
            "linecolor": "#506784",
            "ticks": ""
           },
           "radialaxis": {
            "gridcolor": "#506784",
            "linecolor": "#506784",
            "ticks": ""
           }
          },
          "ternary": {
           "bgcolor": "rgb(17,17,17)",
           "aaxis": {
            "gridcolor": "#506784",
            "linecolor": "#506784",
            "ticks": ""
           },
           "baxis": {
            "gridcolor": "#506784",
            "linecolor": "#506784",
            "ticks": ""
           },
           "caxis": {
            "gridcolor": "#506784",
            "linecolor": "#506784",
            "ticks": ""
           }
          },
          "coloraxis": {
           "colorbar": {
            "outlinewidth": 0,
            "ticks": ""
           }
          },
          "colorscale": {
           "sequential": [
            [
             0.0,
             "#0d0887"
            ],
            [
             0.1111111111111111,
             "#46039f"
            ],
            [
             0.2222222222222222,
             "#7201a8"
            ],
            [
             0.3333333333333333,
             "#9c179e"
            ],
            [
             0.4444444444444444,
             "#bd3786"
            ],
            [
             0.5555555555555556,
             "#d8576b"
            ],
            [
             0.6666666666666666,
             "#ed7953"
            ],
            [
             0.7777777777777778,
             "#fb9f3a"
            ],
            [
             0.8888888888888888,
             "#fdca26"
            ],
            [
             1.0,
             "#f0f921"
            ]
           ],
           "sequentialminus": [
            [
             0.0,
             "#0d0887"
            ],
            [
             0.1111111111111111,
             "#46039f"
            ],
            [
             0.2222222222222222,
             "#7201a8"
            ],
            [
             0.3333333333333333,
             "#9c179e"
            ],
            [
             0.4444444444444444,
             "#bd3786"
            ],
            [
             0.5555555555555556,
             "#d8576b"
            ],
            [
             0.6666666666666666,
             "#ed7953"
            ],
            [
             0.7777777777777778,
             "#fb9f3a"
            ],
            [
             0.8888888888888888,
             "#fdca26"
            ],
            [
             1.0,
             "#f0f921"
            ]
           ],
           "diverging": [
            [
             0,
             "#8e0152"
            ],
            [
             0.1,
             "#c51b7d"
            ],
            [
             0.2,
             "#de77ae"
            ],
            [
             0.3,
             "#f1b6da"
            ],
            [
             0.4,
             "#fde0ef"
            ],
            [
             0.5,
             "#f7f7f7"
            ],
            [
             0.6,
             "#e6f5d0"
            ],
            [
             0.7,
             "#b8e186"
            ],
            [
             0.8,
             "#7fbc41"
            ],
            [
             0.9,
             "#4d9221"
            ],
            [
             1,
             "#276419"
            ]
           ]
          },
          "xaxis": {
           "gridcolor": "#283442",
           "linecolor": "#506784",
           "ticks": "",
           "title": {
            "standoff": 15
           },
           "zerolinecolor": "#283442",
           "automargin": true,
           "zerolinewidth": 2
          },
          "yaxis": {
           "gridcolor": "#283442",
           "linecolor": "#506784",
           "ticks": "",
           "title": {
            "standoff": 15
           },
           "zerolinecolor": "#283442",
           "automargin": true,
           "zerolinewidth": 2
          },
          "scene": {
           "xaxis": {
            "backgroundcolor": "rgb(17,17,17)",
            "gridcolor": "#506784",
            "linecolor": "#506784",
            "showbackground": true,
            "ticks": "",
            "zerolinecolor": "#C8D4E3",
            "gridwidth": 2
           },
           "yaxis": {
            "backgroundcolor": "rgb(17,17,17)",
            "gridcolor": "#506784",
            "linecolor": "#506784",
            "showbackground": true,
            "ticks": "",
            "zerolinecolor": "#C8D4E3",
            "gridwidth": 2
           },
           "zaxis": {
            "backgroundcolor": "rgb(17,17,17)",
            "gridcolor": "#506784",
            "linecolor": "#506784",
            "showbackground": true,
            "ticks": "",
            "zerolinecolor": "#C8D4E3",
            "gridwidth": 2
           }
          },
          "shapedefaults": {
           "line": {
            "color": "#f2f5fa"
           }
          },
          "annotationdefaults": {
           "arrowcolor": "#f2f5fa",
           "arrowhead": 0,
           "arrowwidth": 1
          },
          "geo": {
           "bgcolor": "rgb(17,17,17)",
           "landcolor": "rgb(17,17,17)",
           "subunitcolor": "#506784",
           "showland": true,
           "showlakes": true,
           "lakecolor": "rgb(17,17,17)"
          },
          "title": {
           "x": 0.05
          },
          "updatemenudefaults": {
           "bgcolor": "#506784",
           "borderwidth": 0
          },
          "sliderdefaults": {
           "bgcolor": "#C8D4E3",
           "borderwidth": 1,
           "bordercolor": "rgb(17,17,17)",
           "tickwidth": 0
          },
          "mapbox": {
           "style": "dark"
          }
         }
        },
        "title": {
         "font": {
          "size": 20,
          "color": "darkblue"
         },
         "text": "🚀 问题1：3D轨迹可视化<br><sub>单弹固定参数分析</sub>",
         "x": 0.5
        },
        "scene": {
         "camera": {
          "eye": {
           "x": 1.5,
           "y": 1.5,
           "z": 1.2
          }
         },
         "aspectratio": {
          "x": 2,
          "y": 1,
          "z": 0.5
         },
         "xaxis": {
          "title": {
           "text": "X坐标 (m)"
          }
         },
         "yaxis": {
          "title": {
           "text": "Y坐标 (m)"
          }
         },
         "zaxis": {
          "title": {
           "text": "Z坐标 (m)"
          }
         },
         "aspectmode": "manual"
        },
        "legend": {
         "yanchor": "top",
         "y": 0.99,
         "xanchor": "left",
         "x": 0.01
        },
        "width": 1200,
        "height": 800,
        "showlegend": true
       },
       "config": {
        "plotlyServerURL": "https://plot.ly"
       }
      }
     },
     "metadata": {},
     "output_type": "display_data"
    },
    {
     "name": "stdout",
     "output_type": "stream",
     "text": [
      "💾 3D轨迹图已保存到 ../ImageOutput/01/01_3d_trajectory.html\n"
     ]
    }
   ],
   "execution_count": 26
  },
  {
   "cell_type": "markdown",
   "id": "4e4941d1407c9e5c",
   "metadata": {
    "ExecuteTime": {
     "end_time": "2025-09-05T19:39:35.745296Z",
     "start_time": "2025-09-05T19:39:35.741941Z"
    }
   },
   "source": [
    "## 6. 遮蔽距离时间序列分析\n"
   ]
  },
  {
   "cell_type": "code",
   "id": "a9980379e1550671",
   "metadata": {
    "ExecuteTime": {
     "end_time": "2025-09-05T20:32:28.743243Z",
     "start_time": "2025-09-05T20:32:28.459345Z"
    }
   },
   "source": [
    "def create_shielding_analysis_plot(result, solver):\n",
    "    \"\"\"创建遮蔽分析图表\"\"\"\n",
    "    \n",
    "    fig = make_subplots(\n",
    "        rows=2, cols=1,\n",
    "        subplot_titles=('云团与导弹-目标视线的距离随时间变化', '遮蔽状态时间序列'),\n",
    "        vertical_spacing=0.12,\n",
    "        specs=[[{\"secondary_y\": False}], [{\"secondary_y\": False}]]\n",
    "    )\n",
    "    \n",
    "    times = result['times']\n",
    "    distances = result['distances']\n",
    "    shielded_flags = result['shielded_flags']\n",
    "    \n",
    "    # 第一个子图：距离曲线\n",
    "    fig.add_trace(\n",
    "        go.Scatter(\n",
    "            x=times,\n",
    "            y=distances,\n",
    "            mode='lines',\n",
    "            line=dict(color='blue', width=2),\n",
    "            name='距离d(t)',\n",
    "            hovertemplate='时间: %{x:.2f}s<br>距离: %{y:.2f}m<extra></extra>'\n",
    "        ),\n",
    "        row=1, col=1\n",
    "    )\n",
    "    \n",
    "    # 遮蔽阈值线\n",
    "    fig.add_trace(\n",
    "        go.Scatter(\n",
    "            x=[times[0], times[-1]],\n",
    "            y=[solver.R, solver.R],\n",
    "            mode='lines',\n",
    "            line=dict(color='red', width=2, dash='dash'),\n",
    "            name=f'遮蔽阈值 R={solver.R}m',\n",
    "            hovertemplate='遮蔽阈值: %{y}m<extra></extra>'\n",
    "        ),\n",
    "        row=1, col=1\n",
    "    )\n",
    "    \n",
    "    # 遮蔽区域填充\n",
    "    shielded_distances = np.where(shielded_flags, distances, np.nan)\n",
    "    fig.add_trace(\n",
    "        go.Scatter(\n",
    "            x=times,\n",
    "            y=shielded_distances,\n",
    "            mode='lines',\n",
    "            line=dict(color='green', width=3),\n",
    "            name='有效遮蔽区间',\n",
    "            fill='tonexty',\n",
    "            fillcolor='rgba(0,255,0,0.2)',\n",
    "            hovertemplate='时间: %{x:.2f}s<br>遮蔽距离: %{y:.2f}m<extra></extra>'\n",
    "        ),\n",
    "        row=1, col=1\n",
    "    )\n",
    "    \n",
    "    # 第二个子图：遮蔽状态\n",
    "    fig.add_trace(\n",
    "        go.Scatter(\n",
    "            x=times,\n",
    "            y=shielded_flags.astype(int),\n",
    "            mode='lines',\n",
    "            line=dict(color='green', width=3),\n",
    "            name='遮蔽状态',\n",
    "            fill='tozeroy',\n",
    "            fillcolor='rgba(0,255,0,0.3)',\n",
    "            hovertemplate='时间: %{x:.2f}s<br>遮蔽状态: %{y}<extra></extra>'\n",
    "        ),\n",
    "        row=2, col=1\n",
    "    )\n",
    "    \n",
    "    # 标记遮蔽区间\n",
    "    for i, (start, end) in enumerate(result['shielded_intervals']):\n",
    "        fig.add_vrect(\n",
    "            x0=start, x1=end,\n",
    "            fillcolor=\"green\", opacity=0.2,\n",
    "            layer=\"below\", line_width=0,\n",
    "            row=1, col=1\n",
    "        )\n",
    "         # 起爆点\n",
    "        # 添加区间标注\n",
    "        mid_time = (start + end) / 2\n",
    "        fig.add_annotation(\n",
    "            x=mid_time,\n",
    "            y=solver.R * 0.5,\n",
    "            text=f\"区间{i+1}<br>{end-start:.3f}s\",\n",
    "            showarrow=True,\n",
    "            arrowhead=2,\n",
    "            arrowcolor=\"green\",\n",
    "            font=dict(color=\"green\", size=10),\n",
    "            row=1, col=1\n",
    "        )\n",
    "    \n",
    "    # 更新布局\n",
    "    fig.update_layout(\n",
    "        title=dict(\n",
    "            text=f'📊 遮蔽效果分析<br><sub>总遮蔽时长: {result[\"total_shielding_time\"]:.3f}s</sub>',\n",
    "            x=0.5,\n",
    "            font=dict(size=18, color='darkblue')\n",
    "        ),\n",
    "        height=800,\n",
    "        showlegend=True,\n",
    "        hovermode='x unified'\n",
    "    )\n",
    "    \n",
    "    # 更新坐标轴\n",
    "    fig.update_xaxes(title_text=\"时间 (s)\", row=1, col=1)\n",
    "    fig.update_yaxes(title_text=\"距离 (m)\", row=1, col=1)\n",
    "    fig.update_xaxes(title_text=\"时间 (s)\", row=2, col=1)\n",
    "    fig.update_yaxes(title_text=\"遮蔽状态\", row=2, col=1, tickvals=[0, 1], ticktext=['未遮蔽', '遮蔽'])\n",
    "    \n",
    "    return fig\n",
    "\n",
    "# 创建遮蔽分析图\n",
    "fig_analysis = create_shielding_analysis_plot(result, solver)\n",
    "fig_analysis.show()\n",
    "\n",
    "# 保存图像\n",
    "fig_analysis.write_html(f\"{output_dir}/02_shielding_analysis.html\")\n",
    "fig_analysis.write_image(f\"{output_dir}/02_shielding_analysis.svg\")\n",
    "print(f\"💾 遮蔽分析图已保存到 {output_dir}/02_shielding_analysis.html\")\n"
   ],
   "outputs": [
    {
     "data": {
      "application/vnd.plotly.v1+json": {
       "data": [
        {
         "hovertemplate": "时间: %{x:.2f}s<br>距离: %{y:.2f}m<extra></extra>",
         "line": {
          "color": "blue",
          "width": 2
         },
         "mode": "lines",
         "name": "距离d(t)",
         "x": {
          "dtype": "f8",
          "bdata": "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"
         },
         "y": {
          "dtype": "f8",
          "bdata": "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"
         },
         "type": "scatter",
         "xaxis": "x",
         "yaxis": "y"
        },
        {
         "hovertemplate": "遮蔽阈值: %{y}m<extra></extra>",
         "line": {
          "color": "red",
          "dash": "dash",
          "width": 2
         },
         "mode": "lines",
         "name": "遮蔽阈值 R=10.0m",
         "x": [
          5.1,
          25.109999999999573
         ],
         "y": [
          10.0,
          10.0
         ],
         "type": "scatter",
         "xaxis": "x",
         "yaxis": "y"
        },
        {
         "fill": "tonexty",
         "fillcolor": "rgba(0,255,0,0.2)",
         "hovertemplate": "时间: %{x:.2f}s<br>遮蔽距离: %{y:.2f}m<extra></extra>",
         "line": {
          "color": "green",
          "width": 3
         },
         "mode": "lines",
         "name": "有效遮蔽区间",
         "x": {
          "dtype": "f8",
          "bdata": "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"
         },
         "y": {
          "dtype": "f8",
          "bdata": "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"
         },
         "type": "scatter",
         "xaxis": "x",
         "yaxis": "y"
        },
        {
         "fill": "tozeroy",
         "fillcolor": "rgba(0,255,0,0.3)",
         "hovertemplate": "时间: %{x:.2f}s<br>遮蔽状态: %{y}<extra></extra>",
         "line": {
          "color": "green",
          "width": 3
         },
         "mode": "lines",
         "name": "遮蔽状态",
         "x": {
          "dtype": "f8",
          "bdata": "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"
         },
         "y": {
          "dtype": "i1",
          "bdata": "AAAAAAAAAAAAAAAAAAAAAAAAAAAAAAAAAAAAAAAAAAAAAAAAAAAAAAAAAAAAAAAAAAAAAAAAAAAAAAAAAAAAAAAAAAAAAAAAAAAAAAAAAAAAAAAAAAAAAAAAAAAAAAAAAAAAAAAAAAAAAAAAAAAAAAAAAAAAAAAAAAAAAAAAAAAAAAAAAAAAAAAAAAAAAAAAAAAAAAAAAAAAAAAAAAAAAAAAAAAAAAAAAAAAAAAAAAAAAAAAAAAAAAAAAAAAAAAAAAAAAAAAAAAAAAAAAAAAAAAAAAAAAAAAAAAAAAAAAAAAAAAAAAAAAAAAAAAAAAAAAAAAAAAAAAAAAAAAAAAAAAAAAAAAAAAAAAAAAAAAAAAAAAAAAAAAAAAAAAAAAAAAAAAAAAAAAAAAAAAAAAAAAAAAAAAAAAAAAAAAAAAAAAAAAAAAAAAAAAAAAAAAAAAAAAAAAAAAAAAAAAAAAAAAAAAAAAAAAAAAAAAAAAAAAAAAAAAAAAAAAAAAAAAAAAAAAAAAAAAAAAAAAAAAAAAAAAAAAAAAAAAAAAAAAAAAAAAAAAAAAAAAAAAAAAAAAAAAAAAAAAAAAAAAAAAAAAAAAAAAAAAAAAAAAAAAAAAAAAAAAAAAAAAAAAAAAAAAAAAAAAAAAAAAAAAAAAAAAAAAAAAAAAAAAAAAAAAAAAAAAAAAAAAAAAAAAAAAAAAAAAAAAAAAAAAAAAAAAAAAAAAAAAAAAAAAAAAAAAAAAAAAAAAAAAAAAAAAAAAAAAAAAAAAAAAAAAAAAAAAAAAAAAAAAAAAAAAAAAAAAAAAAAAAAAAAAAAAAAAAAAAAAAAAAAAAAAAAAAAAAAAAAAAAAAAAAAAAAAAAAAAAAAAAAAAAAAAAAAAAAAAAAAAAAAAAAAAAAAAAAAAAAAAAAAAAAAAAAAAAAAAAAAAAAAAAAAAAAAAAAAAAAAAAAAAAAAAAAAAAAAAAAAAAAAAAAAAAAAAAAAAAAAAAAAAAAAAAAAAAAAAAAAAAAAAAAAAAAAAAAAAAAAAAAAAAAAAAAAAAAAAAAAAAAAAAAAAAAAAAAAAAAAAAAAAAAAAAAAAAAAAAAAAAAAAAAAAAAAAAAAAAAAAAAAAAAAAAAAAAAAAAAAAAAAAAAAAAAAAAAAAAAAAAAAAAAAAAAAAAAAAAAAAAAAAAAAAAAAAAAAAAAAAAAAAAAAAAAAAAAAAAAAAAAAAAAAAAAAAAAAAAAAAAAAAAAAAAAAAAAAAAAAAAAAAAAAAAAAAAAAAAAAAAAAAAAAAAAAAAAAAAAAAAAAAAAAAAAAAAAAAAAAAAAAAAAAAAAAAAAAAAAAAAAAAAAAAAAAAAAAAAAAAAAAAAAAAAAAAAAAAAAAAAAAAAAAAAAAAAAAAAAAAAAAAAAAAAAAAAAAAAAAAAAAAAAAAAAAAAAAAAAAAAAAAAAAAAAAAAAAAAAAAAAAAAAAAAAAAAAAAAAAAAAAAAAAAAAAAAAAAAAAAAAAAAAAAAAAAAAAAAAAAAAAAAAAAAAAAAAAAAAAAAAAAAAAAAAAAAAAAAAAAAAAAAAAAAAAAAAAAAAAAAAAAAAAAAAAAAAAAAAAAAAAAAAAAAAAAAAAAAAAAAAAAAAAAAAAAAAAAAAAAAAAAAAAAAAAAAAAAAAAAAAAAAAAAAAAAAAAAAAAAAAAAAAAAAAAAAAAAAAAAAAAAAAAAAAAAAAAAAAAAAAAAAAAAAAAAAAAAAAAAAAAAAAAAAAAAAAAAAAAAAAAAAAAAAAAAAAAAAAAAAAAAAAAAAAAAAAAAAAAAAAAAAAAAAAAAAAAAAAAAAAAAAAAAAAAAAAAAAAAAAAAAAAAAAAAAAAAAAAAAAAAAAAAAAAAAAAAAAAAAAAAAAAAAAAAAAAAAAAAAAAAAAAAAAAAAAAAAAAAAAAAAAAAAAAAAAAAAAAAAAAAAAAAAAAAAAAAAAAAAAAAAAAAAAAAAAAAAAAAAAAAAAAAAAAAAAAAAAAAAAAAAAAAAAAAAAAAAAAAAAAAAAAAAAAAAAAAAAAAAAAAAAAAAAAAAAAAAAAAAAAAAAAAAAAAAAAAAAAAAAAAAAAAAAAAAAAAAAAAAAAAAAAAAAAAAAAAAAAAAAAAAAAAAAAAAAAAAAAAAAAAAAAAAAAAAAAAAAAAAAAAAAAAAAAAAAAAAAAAAAAAAAAAAAAAAAAAAAAAAAAAAAAAAAAAAAAAAAAAAAAAAAAAAAAAAAAAAAAAAAAAAAAAAAAAAAAAAAAAAAAAAAAAAAAAAAAAAAAAAAAAAAAAAAAAAAAAAAAAAAAAAAAAAAAAAAAAAAAAAAAAAAAAAAAAAAAAAAAAAAAAAAAAAAAAAAAAAAAAAAAAAAAAAAAAAAAAAAAAAAAAAAAAAAAAAAAAAAAAAAAAAAAAAAAAAAAAAAAAAAAAAAAAAAAAAAAAAAAAAAAAAAAAAAAAAAAAAAAAAAAAAAAAAAAAAAAAAAAAAAAAAAAAAAAAAAAAAAAAAAAAAAAAAAAAAAAAAAAAAAAAAAAAAAAAAAAAAAAAAAAAAAAAAAAAAAAAAAAAAAAAAAAAAAAAAAAAAAAAAAAAAAAAAAAAAAAAAAAAAAAAAAAAAAAAAAAAAAAAAAAAAAAAAAAAAAAAAAAAAAAAAAAAAAAAAAAAAAAAAAAAAAAAAAAAAAAAAAAAAAAA=="
         },
         "type": "scatter",
         "xaxis": "x2",
         "yaxis": "y2"
        }
       ],
       "layout": {
        "template": {
         "data": {
          "histogram2dcontour": [
           {
            "type": "histogram2dcontour",
            "colorbar": {
             "outlinewidth": 0,
             "ticks": ""
            },
            "colorscale": [
             [
              0.0,
              "#0d0887"
             ],
             [
              0.1111111111111111,
              "#46039f"
             ],
             [
              0.2222222222222222,
              "#7201a8"
             ],
             [
              0.3333333333333333,
              "#9c179e"
             ],
             [
              0.4444444444444444,
              "#bd3786"
             ],
             [
              0.5555555555555556,
              "#d8576b"
             ],
             [
              0.6666666666666666,
              "#ed7953"
             ],
             [
              0.7777777777777778,
              "#fb9f3a"
             ],
             [
              0.8888888888888888,
              "#fdca26"
             ],
             [
              1.0,
              "#f0f921"
             ]
            ]
           }
          ],
          "choropleth": [
           {
            "type": "choropleth",
            "colorbar": {
             "outlinewidth": 0,
             "ticks": ""
            }
           }
          ],
          "histogram2d": [
           {
            "type": "histogram2d",
            "colorbar": {
             "outlinewidth": 0,
             "ticks": ""
            },
            "colorscale": [
             [
              0.0,
              "#0d0887"
             ],
             [
              0.1111111111111111,
              "#46039f"
             ],
             [
              0.2222222222222222,
              "#7201a8"
             ],
             [
              0.3333333333333333,
              "#9c179e"
             ],
             [
              0.4444444444444444,
              "#bd3786"
             ],
             [
              0.5555555555555556,
              "#d8576b"
             ],
             [
              0.6666666666666666,
              "#ed7953"
             ],
             [
              0.7777777777777778,
              "#fb9f3a"
             ],
             [
              0.8888888888888888,
              "#fdca26"
             ],
             [
              1.0,
              "#f0f921"
             ]
            ]
           }
          ],
          "heatmap": [
           {
            "type": "heatmap",
            "colorbar": {
             "outlinewidth": 0,
             "ticks": ""
            },
            "colorscale": [
             [
              0.0,
              "#0d0887"
             ],
             [
              0.1111111111111111,
              "#46039f"
             ],
             [
              0.2222222222222222,
              "#7201a8"
             ],
             [
              0.3333333333333333,
              "#9c179e"
             ],
             [
              0.4444444444444444,
              "#bd3786"
             ],
             [
              0.5555555555555556,
              "#d8576b"
             ],
             [
              0.6666666666666666,
              "#ed7953"
             ],
             [
              0.7777777777777778,
              "#fb9f3a"
             ],
             [
              0.8888888888888888,
              "#fdca26"
             ],
             [
              1.0,
              "#f0f921"
             ]
            ]
           }
          ],
          "contourcarpet": [
           {
            "type": "contourcarpet",
            "colorbar": {
             "outlinewidth": 0,
             "ticks": ""
            }
           }
          ],
          "contour": [
           {
            "type": "contour",
            "colorbar": {
             "outlinewidth": 0,
             "ticks": ""
            },
            "colorscale": [
             [
              0.0,
              "#0d0887"
             ],
             [
              0.1111111111111111,
              "#46039f"
             ],
             [
              0.2222222222222222,
              "#7201a8"
             ],
             [
              0.3333333333333333,
              "#9c179e"
             ],
             [
              0.4444444444444444,
              "#bd3786"
             ],
             [
              0.5555555555555556,
              "#d8576b"
             ],
             [
              0.6666666666666666,
              "#ed7953"
             ],
             [
              0.7777777777777778,
              "#fb9f3a"
             ],
             [
              0.8888888888888888,
              "#fdca26"
             ],
             [
              1.0,
              "#f0f921"
             ]
            ]
           }
          ],
          "surface": [
           {
            "type": "surface",
            "colorbar": {
             "outlinewidth": 0,
             "ticks": ""
            },
            "colorscale": [
             [
              0.0,
              "#0d0887"
             ],
             [
              0.1111111111111111,
              "#46039f"
             ],
             [
              0.2222222222222222,
              "#7201a8"
             ],
             [
              0.3333333333333333,
              "#9c179e"
             ],
             [
              0.4444444444444444,
              "#bd3786"
             ],
             [
              0.5555555555555556,
              "#d8576b"
             ],
             [
              0.6666666666666666,
              "#ed7953"
             ],
             [
              0.7777777777777778,
              "#fb9f3a"
             ],
             [
              0.8888888888888888,
              "#fdca26"
             ],
             [
              1.0,
              "#f0f921"
             ]
            ]
           }
          ],
          "mesh3d": [
           {
            "type": "mesh3d",
            "colorbar": {
             "outlinewidth": 0,
             "ticks": ""
            }
           }
          ],
          "scatter": [
           {
            "marker": {
             "line": {
              "color": "#283442"
             }
            },
            "type": "scatter"
           }
          ],
          "parcoords": [
           {
            "type": "parcoords",
            "line": {
             "colorbar": {
              "outlinewidth": 0,
              "ticks": ""
             }
            }
           }
          ],
          "scatterpolargl": [
           {
            "type": "scatterpolargl",
            "marker": {
             "colorbar": {
              "outlinewidth": 0,
              "ticks": ""
             }
            }
           }
          ],
          "bar": [
           {
            "error_x": {
             "color": "#f2f5fa"
            },
            "error_y": {
             "color": "#f2f5fa"
            },
            "marker": {
             "line": {
              "color": "rgb(17,17,17)",
              "width": 0.5
             },
             "pattern": {
              "fillmode": "overlay",
              "size": 10,
              "solidity": 0.2
             }
            },
            "type": "bar"
           }
          ],
          "scattergeo": [
           {
            "type": "scattergeo",
            "marker": {
             "colorbar": {
              "outlinewidth": 0,
              "ticks": ""
             }
            }
           }
          ],
          "scatterpolar": [
           {
            "type": "scatterpolar",
            "marker": {
             "colorbar": {
              "outlinewidth": 0,
              "ticks": ""
             }
            }
           }
          ],
          "histogram": [
           {
            "marker": {
             "pattern": {
              "fillmode": "overlay",
              "size": 10,
              "solidity": 0.2
             }
            },
            "type": "histogram"
           }
          ],
          "scattergl": [
           {
            "marker": {
             "line": {
              "color": "#283442"
             }
            },
            "type": "scattergl"
           }
          ],
          "scatter3d": [
           {
            "type": "scatter3d",
            "line": {
             "colorbar": {
              "outlinewidth": 0,
              "ticks": ""
             }
            },
            "marker": {
             "colorbar": {
              "outlinewidth": 0,
              "ticks": ""
             }
            }
           }
          ],
          "scattermap": [
           {
            "type": "scattermap",
            "marker": {
             "colorbar": {
              "outlinewidth": 0,
              "ticks": ""
             }
            }
           }
          ],
          "scattermapbox": [
           {
            "type": "scattermapbox",
            "marker": {
             "colorbar": {
              "outlinewidth": 0,
              "ticks": ""
             }
            }
           }
          ],
          "scatterternary": [
           {
            "type": "scatterternary",
            "marker": {
             "colorbar": {
              "outlinewidth": 0,
              "ticks": ""
             }
            }
           }
          ],
          "scattercarpet": [
           {
            "type": "scattercarpet",
            "marker": {
             "colorbar": {
              "outlinewidth": 0,
              "ticks": ""
             }
            }
           }
          ],
          "carpet": [
           {
            "aaxis": {
             "endlinecolor": "#A2B1C6",
             "gridcolor": "#506784",
             "linecolor": "#506784",
             "minorgridcolor": "#506784",
             "startlinecolor": "#A2B1C6"
            },
            "baxis": {
             "endlinecolor": "#A2B1C6",
             "gridcolor": "#506784",
             "linecolor": "#506784",
             "minorgridcolor": "#506784",
             "startlinecolor": "#A2B1C6"
            },
            "type": "carpet"
           }
          ],
          "table": [
           {
            "cells": {
             "fill": {
              "color": "#506784"
             },
             "line": {
              "color": "rgb(17,17,17)"
             }
            },
            "header": {
             "fill": {
              "color": "#2a3f5f"
             },
             "line": {
              "color": "rgb(17,17,17)"
             }
            },
            "type": "table"
           }
          ],
          "barpolar": [
           {
            "marker": {
             "line": {
              "color": "rgb(17,17,17)",
              "width": 0.5
             },
             "pattern": {
              "fillmode": "overlay",
              "size": 10,
              "solidity": 0.2
             }
            },
            "type": "barpolar"
           }
          ],
          "pie": [
           {
            "automargin": true,
            "type": "pie"
           }
          ]
         },
         "layout": {
          "autotypenumbers": "strict",
          "colorway": [
           "#636efa",
           "#EF553B",
           "#00cc96",
           "#ab63fa",
           "#FFA15A",
           "#19d3f3",
           "#FF6692",
           "#B6E880",
           "#FF97FF",
           "#FECB52"
          ],
          "font": {
           "color": "#f2f5fa"
          },
          "hovermode": "closest",
          "hoverlabel": {
           "align": "left"
          },
          "paper_bgcolor": "rgb(17,17,17)",
          "plot_bgcolor": "rgb(17,17,17)",
          "polar": {
           "bgcolor": "rgb(17,17,17)",
           "angularaxis": {
            "gridcolor": "#506784",
            "linecolor": "#506784",
            "ticks": ""
           },
           "radialaxis": {
            "gridcolor": "#506784",
            "linecolor": "#506784",
            "ticks": ""
           }
          },
          "ternary": {
           "bgcolor": "rgb(17,17,17)",
           "aaxis": {
            "gridcolor": "#506784",
            "linecolor": "#506784",
            "ticks": ""
           },
           "baxis": {
            "gridcolor": "#506784",
            "linecolor": "#506784",
            "ticks": ""
           },
           "caxis": {
            "gridcolor": "#506784",
            "linecolor": "#506784",
            "ticks": ""
           }
          },
          "coloraxis": {
           "colorbar": {
            "outlinewidth": 0,
            "ticks": ""
           }
          },
          "colorscale": {
           "sequential": [
            [
             0.0,
             "#0d0887"
            ],
            [
             0.1111111111111111,
             "#46039f"
            ],
            [
             0.2222222222222222,
             "#7201a8"
            ],
            [
             0.3333333333333333,
             "#9c179e"
            ],
            [
             0.4444444444444444,
             "#bd3786"
            ],
            [
             0.5555555555555556,
             "#d8576b"
            ],
            [
             0.6666666666666666,
             "#ed7953"
            ],
            [
             0.7777777777777778,
             "#fb9f3a"
            ],
            [
             0.8888888888888888,
             "#fdca26"
            ],
            [
             1.0,
             "#f0f921"
            ]
           ],
           "sequentialminus": [
            [
             0.0,
             "#0d0887"
            ],
            [
             0.1111111111111111,
             "#46039f"
            ],
            [
             0.2222222222222222,
             "#7201a8"
            ],
            [
             0.3333333333333333,
             "#9c179e"
            ],
            [
             0.4444444444444444,
             "#bd3786"
            ],
            [
             0.5555555555555556,
             "#d8576b"
            ],
            [
             0.6666666666666666,
             "#ed7953"
            ],
            [
             0.7777777777777778,
             "#fb9f3a"
            ],
            [
             0.8888888888888888,
             "#fdca26"
            ],
            [
             1.0,
             "#f0f921"
            ]
           ],
           "diverging": [
            [
             0,
             "#8e0152"
            ],
            [
             0.1,
             "#c51b7d"
            ],
            [
             0.2,
             "#de77ae"
            ],
            [
             0.3,
             "#f1b6da"
            ],
            [
             0.4,
             "#fde0ef"
            ],
            [
             0.5,
             "#f7f7f7"
            ],
            [
             0.6,
             "#e6f5d0"
            ],
            [
             0.7,
             "#b8e186"
            ],
            [
             0.8,
             "#7fbc41"
            ],
            [
             0.9,
             "#4d9221"
            ],
            [
             1,
             "#276419"
            ]
           ]
          },
          "xaxis": {
           "gridcolor": "#283442",
           "linecolor": "#506784",
           "ticks": "",
           "title": {
            "standoff": 15
           },
           "zerolinecolor": "#283442",
           "automargin": true,
           "zerolinewidth": 2
          },
          "yaxis": {
           "gridcolor": "#283442",
           "linecolor": "#506784",
           "ticks": "",
           "title": {
            "standoff": 15
           },
           "zerolinecolor": "#283442",
           "automargin": true,
           "zerolinewidth": 2
          },
          "scene": {
           "xaxis": {
            "backgroundcolor": "rgb(17,17,17)",
            "gridcolor": "#506784",
            "linecolor": "#506784",
            "showbackground": true,
            "ticks": "",
            "zerolinecolor": "#C8D4E3",
            "gridwidth": 2
           },
           "yaxis": {
            "backgroundcolor": "rgb(17,17,17)",
            "gridcolor": "#506784",
            "linecolor": "#506784",
            "showbackground": true,
            "ticks": "",
            "zerolinecolor": "#C8D4E3",
            "gridwidth": 2
           },
           "zaxis": {
            "backgroundcolor": "rgb(17,17,17)",
            "gridcolor": "#506784",
            "linecolor": "#506784",
            "showbackground": true,
            "ticks": "",
            "zerolinecolor": "#C8D4E3",
            "gridwidth": 2
           }
          },
          "shapedefaults": {
           "line": {
            "color": "#f2f5fa"
           }
          },
          "annotationdefaults": {
           "arrowcolor": "#f2f5fa",
           "arrowhead": 0,
           "arrowwidth": 1
          },
          "geo": {
           "bgcolor": "rgb(17,17,17)",
           "landcolor": "rgb(17,17,17)",
           "subunitcolor": "#506784",
           "showland": true,
           "showlakes": true,
           "lakecolor": "rgb(17,17,17)"
          },
          "title": {
           "x": 0.05
          },
          "updatemenudefaults": {
           "bgcolor": "#506784",
           "borderwidth": 0
          },
          "sliderdefaults": {
           "bgcolor": "#C8D4E3",
           "borderwidth": 1,
           "bordercolor": "rgb(17,17,17)",
           "tickwidth": 0
          },
          "mapbox": {
           "style": "dark"
          }
         }
        },
        "xaxis": {
         "anchor": "y",
         "domain": [
          0.0,
          1.0
         ],
         "title": {
          "text": "时间 (s)"
         }
        },
        "yaxis": {
         "anchor": "x",
         "domain": [
          0.56,
          1.0
         ],
         "title": {
          "text": "距离 (m)"
         }
        },
        "xaxis2": {
         "anchor": "y2",
         "domain": [
          0.0,
          1.0
         ],
         "title": {
          "text": "时间 (s)"
         }
        },
        "yaxis2": {
         "anchor": "x2",
         "domain": [
          0.0,
          0.44
         ],
         "title": {
          "text": "遮蔽状态"
         },
         "tickvals": [
          0,
          1
         ],
         "ticktext": [
          "未遮蔽",
          "遮蔽"
         ]
        },
        "annotations": [
         {
          "font": {
           "size": 16
          },
          "showarrow": false,
          "text": "云团与导弹-目标视线的距离随时间变化",
          "x": 0.5,
          "xanchor": "center",
          "xref": "paper",
          "y": 1.0,
          "yanchor": "bottom",
          "yref": "paper"
         },
         {
          "font": {
           "size": 16
          },
          "showarrow": false,
          "text": "遮蔽状态时间序列",
          "x": 0.5,
          "xanchor": "center",
          "xref": "paper",
          "y": 0.44,
          "yanchor": "bottom",
          "yref": "paper"
         }
        ],
        "title": {
         "font": {
          "size": 18,
          "color": "darkblue"
         },
         "text": "📊 遮蔽效果分析<br><sub>总遮蔽时长: 0.000s</sub>",
         "x": 0.5
        },
        "height": 800,
        "showlegend": true,
        "hovermode": "x unified"
       },
       "config": {
        "plotlyServerURL": "https://plot.ly"
       }
      }
     },
     "metadata": {},
     "output_type": "display_data"
    },
    {
     "ename": "ValueError",
     "evalue": "\nImage export using the \"kaleido\" engine requires the Kaleido package,\nwhich can be installed using pip:\n\n    $ pip install --upgrade kaleido\n",
     "output_type": "error",
     "traceback": [
      "\u001B[31m---------------------------------------------------------------------------\u001B[39m",
      "\u001B[31mValueError\u001B[39m                                Traceback (most recent call last)",
      "\u001B[36mCell\u001B[39m\u001B[36m \u001B[39m\u001B[32mIn[27]\u001B[39m\u001B[32m, line 120\u001B[39m\n\u001B[32m    118\u001B[39m \u001B[38;5;66;03m# 保存图像\u001B[39;00m\n\u001B[32m    119\u001B[39m fig_analysis.write_html(\u001B[33mf\u001B[39m\u001B[33m\"\u001B[39m\u001B[38;5;132;01m{\u001B[39;00moutput_dir\u001B[38;5;132;01m}\u001B[39;00m\u001B[33m/02_shielding_analysis.html\u001B[39m\u001B[33m\"\u001B[39m)\n\u001B[32m--> \u001B[39m\u001B[32m120\u001B[39m \u001B[43mfig_analysis\u001B[49m\u001B[43m.\u001B[49m\u001B[43mwrite_image\u001B[49m\u001B[43m(\u001B[49m\u001B[33;43mf\u001B[39;49m\u001B[33;43m\"\u001B[39;49m\u001B[38;5;132;43;01m{\u001B[39;49;00m\u001B[43moutput_dir\u001B[49m\u001B[38;5;132;43;01m}\u001B[39;49;00m\u001B[33;43m/02_shielding_analysis.svg\u001B[39;49m\u001B[33;43m\"\u001B[39;49m\u001B[43m)\u001B[49m\n\u001B[32m    121\u001B[39m \u001B[38;5;28mprint\u001B[39m(\u001B[33mf\u001B[39m\u001B[33m\"\u001B[39m\u001B[33m💾 遮蔽分析图已保存到 \u001B[39m\u001B[38;5;132;01m{\u001B[39;00moutput_dir\u001B[38;5;132;01m}\u001B[39;00m\u001B[33m/02_shielding_analysis.html\u001B[39m\u001B[33m\"\u001B[39m)\n",
      "\u001B[36mFile \u001B[39m\u001B[32m~\\Documents\\Code\\CodeBuddy\\Mathematical-Modeling---Problem-A-2025\\.venv\\Lib\\site-packages\\plotly\\basedatatypes.py:3895\u001B[39m, in \u001B[36mBaseFigure.write_image\u001B[39m\u001B[34m(self, *args, **kwargs)\u001B[39m\n\u001B[32m   3891\u001B[39m     \u001B[38;5;28;01mif\u001B[39;00m kwargs.get(\u001B[33m\"\u001B[39m\u001B[33mengine\u001B[39m\u001B[33m\"\u001B[39m, \u001B[38;5;28;01mNone\u001B[39;00m):\n\u001B[32m   3892\u001B[39m         warnings.warn(\n\u001B[32m   3893\u001B[39m             ENGINE_PARAM_DEPRECATION_MSG, \u001B[38;5;167;01mDeprecationWarning\u001B[39;00m, stacklevel=\u001B[32m2\u001B[39m\n\u001B[32m   3894\u001B[39m         )\n\u001B[32m-> \u001B[39m\u001B[32m3895\u001B[39m \u001B[38;5;28;01mreturn\u001B[39;00m \u001B[43mpio\u001B[49m\u001B[43m.\u001B[49m\u001B[43mwrite_image\u001B[49m\u001B[43m(\u001B[49m\u001B[38;5;28;43mself\u001B[39;49m\u001B[43m,\u001B[49m\u001B[43m \u001B[49m\u001B[43m*\u001B[49m\u001B[43margs\u001B[49m\u001B[43m,\u001B[49m\u001B[43m \u001B[49m\u001B[43m*\u001B[49m\u001B[43m*\u001B[49m\u001B[43mkwargs\u001B[49m\u001B[43m)\u001B[49m\n",
      "\u001B[36mFile \u001B[39m\u001B[32m~\\Documents\\Code\\CodeBuddy\\Mathematical-Modeling---Problem-A-2025\\.venv\\Lib\\site-packages\\plotly\\io\\_kaleido.py:510\u001B[39m, in \u001B[36mwrite_image\u001B[39m\u001B[34m(fig, file, format, scale, width, height, validate, engine)\u001B[39m\n\u001B[32m    506\u001B[39m \u001B[38;5;28mformat\u001B[39m = infer_format(path, \u001B[38;5;28mformat\u001B[39m)\n\u001B[32m    508\u001B[39m \u001B[38;5;66;03m# Request image\u001B[39;00m\n\u001B[32m    509\u001B[39m \u001B[38;5;66;03m# Do this first so we don't create a file if image conversion fails\u001B[39;00m\n\u001B[32m--> \u001B[39m\u001B[32m510\u001B[39m img_data = \u001B[43mto_image\u001B[49m\u001B[43m(\u001B[49m\n\u001B[32m    511\u001B[39m \u001B[43m    \u001B[49m\u001B[43mfig\u001B[49m\u001B[43m,\u001B[49m\n\u001B[32m    512\u001B[39m \u001B[43m    \u001B[49m\u001B[38;5;28;43mformat\u001B[39;49m\u001B[43m=\u001B[49m\u001B[38;5;28;43mformat\u001B[39;49m\u001B[43m,\u001B[49m\n\u001B[32m    513\u001B[39m \u001B[43m    \u001B[49m\u001B[43mscale\u001B[49m\u001B[43m=\u001B[49m\u001B[43mscale\u001B[49m\u001B[43m,\u001B[49m\n\u001B[32m    514\u001B[39m \u001B[43m    \u001B[49m\u001B[43mwidth\u001B[49m\u001B[43m=\u001B[49m\u001B[43mwidth\u001B[49m\u001B[43m,\u001B[49m\n\u001B[32m    515\u001B[39m \u001B[43m    \u001B[49m\u001B[43mheight\u001B[49m\u001B[43m=\u001B[49m\u001B[43mheight\u001B[49m\u001B[43m,\u001B[49m\n\u001B[32m    516\u001B[39m \u001B[43m    \u001B[49m\u001B[43mvalidate\u001B[49m\u001B[43m=\u001B[49m\u001B[43mvalidate\u001B[49m\u001B[43m,\u001B[49m\n\u001B[32m    517\u001B[39m \u001B[43m    \u001B[49m\u001B[43mengine\u001B[49m\u001B[43m=\u001B[49m\u001B[43mengine\u001B[49m\u001B[43m,\u001B[49m\n\u001B[32m    518\u001B[39m \u001B[43m\u001B[49m\u001B[43m)\u001B[49m\n\u001B[32m    520\u001B[39m \u001B[38;5;66;03m# Open file\u001B[39;00m\n\u001B[32m    521\u001B[39m \u001B[38;5;28;01mif\u001B[39;00m path \u001B[38;5;129;01mis\u001B[39;00m \u001B[38;5;28;01mNone\u001B[39;00m:\n\u001B[32m    522\u001B[39m     \u001B[38;5;66;03m# We previously failed to make sense of `file` as a pathlib object.\u001B[39;00m\n\u001B[32m    523\u001B[39m     \u001B[38;5;66;03m# Attempt to write to `file` as an open file descriptor.\u001B[39;00m\n",
      "\u001B[36mFile \u001B[39m\u001B[32m~\\Documents\\Code\\CodeBuddy\\Mathematical-Modeling---Problem-A-2025\\.venv\\Lib\\site-packages\\plotly\\io\\_kaleido.py:345\u001B[39m, in \u001B[36mto_image\u001B[39m\u001B[34m(fig, format, width, height, scale, validate, engine)\u001B[39m\n\u001B[32m    343\u001B[39m     \u001B[38;5;66;03m# Raise informative error message if Kaleido is not installed\u001B[39;00m\n\u001B[32m    344\u001B[39m     \u001B[38;5;28;01mif\u001B[39;00m \u001B[38;5;129;01mnot\u001B[39;00m kaleido_available():\n\u001B[32m--> \u001B[39m\u001B[32m345\u001B[39m         \u001B[38;5;28;01mraise\u001B[39;00m \u001B[38;5;167;01mValueError\u001B[39;00m(\n\u001B[32m    346\u001B[39m \u001B[38;5;250m            \u001B[39m\u001B[33;03m\"\"\"\u001B[39;00m\n\u001B[32m    347\u001B[39m \u001B[33;03mImage export using the \"kaleido\" engine requires the Kaleido package,\u001B[39;00m\n\u001B[32m    348\u001B[39m \u001B[33;03mwhich can be installed using pip:\u001B[39;00m\n\u001B[32m    349\u001B[39m \n\u001B[32m    350\u001B[39m \u001B[33;03m    $ pip install --upgrade kaleido\u001B[39;00m\n\u001B[32m    351\u001B[39m \u001B[33;03m\"\"\"\u001B[39;00m\n\u001B[32m    352\u001B[39m         )\n\u001B[32m    354\u001B[39m     \u001B[38;5;66;03m# Convert figure to dict (and validate if requested)\u001B[39;00m\n\u001B[32m    355\u001B[39m     fig_dict = validate_coerce_fig_to_dict(fig, validate)\n",
      "\u001B[31mValueError\u001B[39m: \nImage export using the \"kaleido\" engine requires the Kaleido package,\nwhich can be installed using pip:\n\n    $ pip install --upgrade kaleido\n"
     ]
    }
   ],
   "execution_count": 27
  },
  {
   "cell_type": "markdown",
   "id": "974d0949f0d84a2b",
   "metadata": {},
   "source": [
    "## 7. 结果汇总与保存\n"
   ]
  },
  {
   "cell_type": "code",
   "execution_count": 10,
   "id": "1dc66cc033c0e01d",
   "metadata": {
    "ExecuteTime": {
     "end_time": "2025-09-05T20:32:28.748801Z",
     "start_time": "2025-09-05T19:40:09.103137Z"
    }
   },
   "outputs": [
    {
     "ename": "ModuleNotFoundError",
     "evalue": "No module named 'openpyxl'",
     "output_type": "error",
     "traceback": [
      "\u001B[31m---------------------------------------------------------------------------\u001B[39m",
      "\u001B[31mModuleNotFoundError\u001B[39m                       Traceback (most recent call last)",
      "\u001B[36mCell\u001B[39m\u001B[36m \u001B[39m\u001B[32mIn[10]\u001B[39m\u001B[32m, line 67\u001B[39m\n\u001B[32m     65\u001B[39m \u001B[38;5;66;03m# 保存结果表格\u001B[39;00m\n\u001B[32m     66\u001B[39m results_df.to_csv(\u001B[33mf\u001B[39m\u001B[33m\"\u001B[39m\u001B[38;5;132;01m{\u001B[39;00moutput_dir\u001B[38;5;132;01m}\u001B[39;00m\u001B[33m/04_results_table.csv\u001B[39m\u001B[33m\"\u001B[39m, index=\u001B[38;5;28;01mFalse\u001B[39;00m, encoding=\u001B[33m'\u001B[39m\u001B[33mutf-8-sig\u001B[39m\u001B[33m'\u001B[39m)\n\u001B[32m---> \u001B[39m\u001B[32m67\u001B[39m \u001B[43mresults_df\u001B[49m\u001B[43m.\u001B[49m\u001B[43mto_excel\u001B[49m\u001B[43m(\u001B[49m\u001B[33;43mf\u001B[39;49m\u001B[33;43m\"\u001B[39;49m\u001B[38;5;132;43;01m{\u001B[39;49;00m\u001B[43moutput_dir\u001B[49m\u001B[38;5;132;43;01m}\u001B[39;49;00m\u001B[33;43m/04_results_table.xlsx\u001B[39;49m\u001B[33;43m\"\u001B[39;49m\u001B[43m,\u001B[49m\u001B[43m \u001B[49m\u001B[43mindex\u001B[49m\u001B[43m=\u001B[49m\u001B[38;5;28;43;01mFalse\u001B[39;49;00m\u001B[43m)\u001B[49m\n\u001B[32m     69\u001B[39m \u001B[38;5;28mprint\u001B[39m(\u001B[33m\"\u001B[39m\u001B[33m📋 问题1计算结果汇总:\u001B[39m\u001B[33m\"\u001B[39m)\n\u001B[32m     70\u001B[39m \u001B[38;5;28mprint\u001B[39m(\u001B[33m\"\u001B[39m\u001B[33m=\u001B[39m\u001B[33m\"\u001B[39m * \u001B[32m50\u001B[39m)\n",
      "\u001B[36mFile \u001B[39m\u001B[32m~\\Documents\\Code\\CodeBuddy\\Mathematical-Modeling---Problem-A-2025\\.venv\\Lib\\site-packages\\pandas\\util\\_decorators.py:333\u001B[39m, in \u001B[36mdeprecate_nonkeyword_arguments.<locals>.decorate.<locals>.wrapper\u001B[39m\u001B[34m(*args, **kwargs)\u001B[39m\n\u001B[32m    327\u001B[39m \u001B[38;5;28;01mif\u001B[39;00m \u001B[38;5;28mlen\u001B[39m(args) > num_allow_args:\n\u001B[32m    328\u001B[39m     warnings.warn(\n\u001B[32m    329\u001B[39m         msg.format(arguments=_format_argument_list(allow_args)),\n\u001B[32m    330\u001B[39m         \u001B[38;5;167;01mFutureWarning\u001B[39;00m,\n\u001B[32m    331\u001B[39m         stacklevel=find_stack_level(),\n\u001B[32m    332\u001B[39m     )\n\u001B[32m--> \u001B[39m\u001B[32m333\u001B[39m \u001B[38;5;28;01mreturn\u001B[39;00m \u001B[43mfunc\u001B[49m\u001B[43m(\u001B[49m\u001B[43m*\u001B[49m\u001B[43margs\u001B[49m\u001B[43m,\u001B[49m\u001B[43m \u001B[49m\u001B[43m*\u001B[49m\u001B[43m*\u001B[49m\u001B[43mkwargs\u001B[49m\u001B[43m)\u001B[49m\n",
      "\u001B[36mFile \u001B[39m\u001B[32m~\\Documents\\Code\\CodeBuddy\\Mathematical-Modeling---Problem-A-2025\\.venv\\Lib\\site-packages\\pandas\\core\\generic.py:2436\u001B[39m, in \u001B[36mNDFrame.to_excel\u001B[39m\u001B[34m(self, excel_writer, sheet_name, na_rep, float_format, columns, header, index, index_label, startrow, startcol, engine, merge_cells, inf_rep, freeze_panes, storage_options, engine_kwargs)\u001B[39m\n\u001B[32m   2423\u001B[39m \u001B[38;5;28;01mfrom\u001B[39;00m\u001B[38;5;250m \u001B[39m\u001B[34;01mpandas\u001B[39;00m\u001B[34;01m.\u001B[39;00m\u001B[34;01mio\u001B[39;00m\u001B[34;01m.\u001B[39;00m\u001B[34;01mformats\u001B[39;00m\u001B[34;01m.\u001B[39;00m\u001B[34;01mexcel\u001B[39;00m\u001B[38;5;250m \u001B[39m\u001B[38;5;28;01mimport\u001B[39;00m ExcelFormatter\n\u001B[32m   2425\u001B[39m formatter = ExcelFormatter(\n\u001B[32m   2426\u001B[39m     df,\n\u001B[32m   2427\u001B[39m     na_rep=na_rep,\n\u001B[32m   (...)\u001B[39m\u001B[32m   2434\u001B[39m     inf_rep=inf_rep,\n\u001B[32m   2435\u001B[39m )\n\u001B[32m-> \u001B[39m\u001B[32m2436\u001B[39m \u001B[43mformatter\u001B[49m\u001B[43m.\u001B[49m\u001B[43mwrite\u001B[49m\u001B[43m(\u001B[49m\n\u001B[32m   2437\u001B[39m \u001B[43m    \u001B[49m\u001B[43mexcel_writer\u001B[49m\u001B[43m,\u001B[49m\n\u001B[32m   2438\u001B[39m \u001B[43m    \u001B[49m\u001B[43msheet_name\u001B[49m\u001B[43m=\u001B[49m\u001B[43msheet_name\u001B[49m\u001B[43m,\u001B[49m\n\u001B[32m   2439\u001B[39m \u001B[43m    \u001B[49m\u001B[43mstartrow\u001B[49m\u001B[43m=\u001B[49m\u001B[43mstartrow\u001B[49m\u001B[43m,\u001B[49m\n\u001B[32m   2440\u001B[39m \u001B[43m    \u001B[49m\u001B[43mstartcol\u001B[49m\u001B[43m=\u001B[49m\u001B[43mstartcol\u001B[49m\u001B[43m,\u001B[49m\n\u001B[32m   2441\u001B[39m \u001B[43m    \u001B[49m\u001B[43mfreeze_panes\u001B[49m\u001B[43m=\u001B[49m\u001B[43mfreeze_panes\u001B[49m\u001B[43m,\u001B[49m\n\u001B[32m   2442\u001B[39m \u001B[43m    \u001B[49m\u001B[43mengine\u001B[49m\u001B[43m=\u001B[49m\u001B[43mengine\u001B[49m\u001B[43m,\u001B[49m\n\u001B[32m   2443\u001B[39m \u001B[43m    \u001B[49m\u001B[43mstorage_options\u001B[49m\u001B[43m=\u001B[49m\u001B[43mstorage_options\u001B[49m\u001B[43m,\u001B[49m\n\u001B[32m   2444\u001B[39m \u001B[43m    \u001B[49m\u001B[43mengine_kwargs\u001B[49m\u001B[43m=\u001B[49m\u001B[43mengine_kwargs\u001B[49m\u001B[43m,\u001B[49m\n\u001B[32m   2445\u001B[39m \u001B[43m\u001B[49m\u001B[43m)\u001B[49m\n",
      "\u001B[36mFile \u001B[39m\u001B[32m~\\Documents\\Code\\CodeBuddy\\Mathematical-Modeling---Problem-A-2025\\.venv\\Lib\\site-packages\\pandas\\io\\formats\\excel.py:943\u001B[39m, in \u001B[36mExcelFormatter.write\u001B[39m\u001B[34m(self, writer, sheet_name, startrow, startcol, freeze_panes, engine, storage_options, engine_kwargs)\u001B[39m\n\u001B[32m    941\u001B[39m     need_save = \u001B[38;5;28;01mFalse\u001B[39;00m\n\u001B[32m    942\u001B[39m \u001B[38;5;28;01melse\u001B[39;00m:\n\u001B[32m--> \u001B[39m\u001B[32m943\u001B[39m     writer = \u001B[43mExcelWriter\u001B[49m\u001B[43m(\u001B[49m\n\u001B[32m    944\u001B[39m \u001B[43m        \u001B[49m\u001B[43mwriter\u001B[49m\u001B[43m,\u001B[49m\n\u001B[32m    945\u001B[39m \u001B[43m        \u001B[49m\u001B[43mengine\u001B[49m\u001B[43m=\u001B[49m\u001B[43mengine\u001B[49m\u001B[43m,\u001B[49m\n\u001B[32m    946\u001B[39m \u001B[43m        \u001B[49m\u001B[43mstorage_options\u001B[49m\u001B[43m=\u001B[49m\u001B[43mstorage_options\u001B[49m\u001B[43m,\u001B[49m\n\u001B[32m    947\u001B[39m \u001B[43m        \u001B[49m\u001B[43mengine_kwargs\u001B[49m\u001B[43m=\u001B[49m\u001B[43mengine_kwargs\u001B[49m\u001B[43m,\u001B[49m\n\u001B[32m    948\u001B[39m \u001B[43m    \u001B[49m\u001B[43m)\u001B[49m\n\u001B[32m    949\u001B[39m     need_save = \u001B[38;5;28;01mTrue\u001B[39;00m\n\u001B[32m    951\u001B[39m \u001B[38;5;28;01mtry\u001B[39;00m:\n",
      "\u001B[36mFile \u001B[39m\u001B[32m~\\Documents\\Code\\CodeBuddy\\Mathematical-Modeling---Problem-A-2025\\.venv\\Lib\\site-packages\\pandas\\io\\excel\\_openpyxl.py:57\u001B[39m, in \u001B[36mOpenpyxlWriter.__init__\u001B[39m\u001B[34m(self, path, engine, date_format, datetime_format, mode, storage_options, if_sheet_exists, engine_kwargs, **kwargs)\u001B[39m\n\u001B[32m     44\u001B[39m \u001B[38;5;28;01mdef\u001B[39;00m\u001B[38;5;250m \u001B[39m\u001B[34m__init__\u001B[39m(\n\u001B[32m     45\u001B[39m     \u001B[38;5;28mself\u001B[39m,\n\u001B[32m     46\u001B[39m     path: FilePath | WriteExcelBuffer | ExcelWriter,\n\u001B[32m   (...)\u001B[39m\u001B[32m     55\u001B[39m ) -> \u001B[38;5;28;01mNone\u001B[39;00m:\n\u001B[32m     56\u001B[39m     \u001B[38;5;66;03m# Use the openpyxl module as the Excel writer.\u001B[39;00m\n\u001B[32m---> \u001B[39m\u001B[32m57\u001B[39m     \u001B[38;5;28;01mfrom\u001B[39;00m\u001B[38;5;250m \u001B[39m\u001B[34;01mopenpyxl\u001B[39;00m\u001B[34;01m.\u001B[39;00m\u001B[34;01mworkbook\u001B[39;00m\u001B[38;5;250m \u001B[39m\u001B[38;5;28;01mimport\u001B[39;00m Workbook\n\u001B[32m     59\u001B[39m     engine_kwargs = combine_kwargs(engine_kwargs, kwargs)\n\u001B[32m     61\u001B[39m     \u001B[38;5;28msuper\u001B[39m().\u001B[34m__init__\u001B[39m(\n\u001B[32m     62\u001B[39m         path,\n\u001B[32m     63\u001B[39m         mode=mode,\n\u001B[32m   (...)\u001B[39m\u001B[32m     66\u001B[39m         engine_kwargs=engine_kwargs,\n\u001B[32m     67\u001B[39m     )\n",
      "\u001B[31mModuleNotFoundError\u001B[39m: No module named 'openpyxl'"
     ]
    }
   ],
   "source": [
    "def create_results_summary(solver, result, hat_u_m, hat_u_u, S0, C0):\n",
    "    \"\"\"创建结果汇总\"\"\"\n",
    "    \n",
    "    summary = {\n",
    "        \"问题\": \"问题1：单弹固定参数分析\",\n",
    "        \"计算时间\": datetime.now().strftime(\"%Y-%m-%d %H:%M:%S\"),\n",
    "        \"物理参数\": {\n",
    "            \"导弹M1初始位置\": solver.M0.tolist(),\n",
    "            \"导弹速度\": f\"{solver.v_m} m/s\",\n",
    "            \"无人机FY1初始位置\": solver.U0.tolist(),\n",
    "            \"无人机速度\": f\"{solver.v_u} m/s\",\n",
    "            \"真目标位置\": solver.T.tolist(),\n",
    "            \"投放时间\": f\"{solver.t_r} s\",\n",
    "            \"起爆延时\": f\"{solver.delta_f} s\",\n",
    "            \"起爆时刻\": f\"{solver.t_e} s\",\n",
    "            \"烟幕有效半径\": f\"{solver.R} m\",\n",
    "            \"烟幕有效时间\": f\"{solver.smoke_duration} s\",\n",
    "            \"云团下沉速度\": f\"{solver.v_sink} m/s\"\n",
    "        },\n",
    "        \"计算结果\": {\n",
    "            \"导弹单位向量\": hat_u_m.tolist(),\n",
    "            \"无人机单位向量\": hat_u_u.tolist(),\n",
    "            \"投放点坐标\": S0.tolist(),\n",
    "            \"起爆点坐标\": C0.tolist(),\n",
    "            \"总遮蔽时长\": f\"{result['total_shielding_time']:.6f} s\",\n",
    "            \"遮蔽区间数量\": len(result['shielded_intervals']),\n",
    "            \"遮蔽区间详情\": [\n",
    "                {\n",
    "                    \"区间\": i+1,\n",
    "                    \"开始时间\": f\"{start:.6f} s\",\n",
    "                    \"结束时间\": f\"{end:.6f} s\",\n",
    "                    \"持续时间\": f\"{end-start:.6f} s\"\n",
    "                }\n",
    "                for i, (start, end) in enumerate(result['shielded_intervals'])\n",
    "            ],\n",
    "            \"数值计算参数\": {\n",
    "                \"时间步长\": f\"{result['dt']} s\",\n",
    "                \"分析时间范围\": f\"{solver.t_e:.1f}s - {solver.t_e + solver.smoke_duration:.1f}s\"\n",
    "            }\n",
    "        }\n",
    "    }\n",
    "    \n",
    "    return summary\n",
    "\n",
    "# 创建结果汇总\n",
    "summary = create_results_summary(solver, result, hat_u_m, hat_u_u, S0, C0)\n",
    "\n",
    "# 保存结果到JSON文件\n",
    "with open(f\"{output_dir}/03_results_summary.json\", 'w', encoding='utf-8') as f:\n",
    "    json.dump(summary, f, ensure_ascii=False, indent=2)\n",
    "\n",
    "# 创建结果表格\n",
    "results_df = pd.DataFrame([\n",
    "    [\"导弹M1初始位置\", f\"({solver.M0[0]}, {solver.M0[1]}, {solver.M0[2]})\"],\n",
    "    [\"无人机FY1初始位置\", f\"({solver.U0[0]}, {solver.U0[1]}, {solver.U0[2]})\"],\n",
    "    [\"真目标位置\", f\"({solver.T[0]}, {solver.T[1]}, {solver.T[2]})\"],\n",
    "    [\"投放点坐标\", f\"({S0[0]:.2f}, {S0[1]:.2f}, {S0[2]:.2f})\"],\n",
    "    [\"起爆点坐标\", f\"({C0[0]:.2f}, {C0[1]:.2f}, {C0[2]:.2f})\"],\n",
    "    [\"投放时刻\", f\"{solver.t_r} s\"],\n",
    "    [\"起爆时刻\", f\"{solver.t_e} s\"],\n",
    "    [\"总遮蔽时长\", f\"{result['total_shielding_time']:.6f} s\"],\n",
    "    [\"遮蔽区间数量\", f\"{len(result['shielded_intervals'])}个\"]\n",
    "], columns=[\"参数\", \"数值\"])\n",
    "\n",
    "# 保存结果表格\n",
    "results_df.to_csv(f\"{output_dir}/04_results_table.csv\", index=False, encoding='utf-8-sig')\n",
    "results_df.to_excel(f\"{output_dir}/04_results_table.xlsx\", index=False)\n",
    "\n",
    "print(\"📋 问题1计算结果汇总:\")\n",
    "print(\"=\" * 50)\n",
    "print(results_df.to_string(index=False))\n",
    "print(\"=\" * 50)\n",
    "print(f\"🎯 **最终答案：对M1的有效遮蔽时长为 {result['total_shielding_time']:.6f} 秒**\")\n",
    "print(\"=\" * 50)\n",
    "\n",
    "# 保存详细数据\n",
    "detailed_data = pd.DataFrame({\n",
    "    '时间(s)': result['times'],\n",
    "    '距离(m)': result['distances'],\n",
    "    '遮蔽状态': result['shielded_flags'].astype(int)\n",
    "})\n",
    "detailed_data.to_csv(f\"{output_dir}/05_detailed_data.csv\", index=False)\n",
    "\n",
    "print(f\"💾 所有结果已保存到 {output_dir}/ 目录\")\n",
    "print(f\"   - 3D轨迹图: 01_3d_trajectory.html\")\n",
    "print(f\"   - 遮蔽分析图: 02_shielding_analysis.html\") \n",
    "print(f\"   - 结果汇总: 03_results_summary.json\")\n",
    "print(f\"   - 结果表格: 04_results_table.xlsx\")\n",
    "print(f\"   - 详细数据: 05_detailed_data.csv\")\n"
   ]
  },
  {
   "cell_type": "code",
   "execution_count": null,
   "id": "9a04863d93628536",
   "metadata": {},
   "outputs": [],
   "source": []
  }
 ],
 "metadata": {
  "kernelspec": {
   "display_name": "Python 3 (ipykernel)",
   "language": "python",
   "name": "python3"
  }
 },
 "nbformat": 4,
 "nbformat_minor": 5
}
